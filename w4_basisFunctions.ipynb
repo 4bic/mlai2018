{
 "cells": [
  {
   "cell_type": "markdown",
   "metadata": {
    "collapsed": true,
    "slideshow": {
     "slide_type": "skip"
    }
   },
   "source": [
    "jupyter nbconvert --to slides --reveal-prefix \"http://cdn.jsdelivr.net/reveal.js/2.6.2\""
   ]
  },
  {
   "cell_type": "code",
   "execution_count": 5,
   "metadata": {
    "collapsed": false,
    "slideshow": {
     "slide_type": "skip"
    }
   },
   "outputs": [],
   "source": [
    "import pods\n",
    "from matplotlib import pyplot as plt\n",
    "import numpy as np\n",
    "%matplotlib inline"
   ]
  },
  {
   "cell_type": "markdown",
   "metadata": {
    "slideshow": {
     "slide_type": "slide"
    }
   },
   "source": [
    "#### MLAI Week 4: Basis Functions\n",
    "\n",
    "### Neil D. Lawrence\n",
    "\n",
    "### 20th October 2015"
   ]
  },
  {
   "cell_type": "markdown",
   "metadata": {
    "slideshow": {
     "slide_type": "slide"
    }
   },
   "source": [
    "### Review\n",
    "- Last time: explored least squares for univariate and multivariate regression.\n",
    "- Introduced matrices, linear algebra and derivatives.\n",
    "- This time: introduce *basis functions* for non-linear regression models."
   ]
  },
  {
   "cell_type": "markdown",
   "metadata": {
    "slideshow": {
     "slide_type": "slide"
    }
   },
   "source": [
    "### Nonlinear Regression\n",
    "\n",
    "-   Problem with Linear Regression—$\\mathbf{x}$ may not be linearly\n",
    "    related to $\\mathbf{y}$.\n",
    "\n",
    "-   Potential solution: create a feature space: define\n",
    "    $\\phi(\\mathbf{x})$ where $\\phi(\\cdot)$ is a\n",
    "    nonlinear function of $\\mathbf{x}$.\n",
    "\n",
    "-   Model for target is a linear combination of these nonlinear\n",
    "    functions\n",
    "    $$f(\\mathbf{x}) = \\sum_{j=1}^k w_j \\phi_j(\\mathbf{x})$$"
   ]
  },
  {
   "cell_type": "code",
   "execution_count": 99,
   "metadata": {
    "collapsed": false,
    "slideshow": {
     "slide_type": "skip"
    }
   },
   "outputs": [
    {
     "data": {
      "image/png": "[encoded data removed]",
      "text/plain": [
       "<matplotlib.figure.Figure at 0x10cc40c18>"
      ]
     },
     "metadata": {},
     "output_type": "display_data"
    }
   ],
   "source": [
    "f, ax = plt.subplots(figsize=(5, 5))\n",
    "x_min = -1.3\n",
    "x_max = 1.3\n",
    "x = np.linspace(x_min, x_max, 100)[:, None]\n",
    "phi = []\n",
    "phi.append(np.ones((100, 1)))\n",
    "phi.append(x)\n",
    "phi.append(x*x)\n",
    "loc =[[0, 1.4,],\n",
    "      [0, -0.7],\n",
    "      [0.75, -0.2]]\n",
    "text =['$\\phi(x) = 1$',\n",
    "       '$\\phi(x) = x$',\n",
    "       '$\\phi(x) = x^2$']\n",
    "ax.plot(x, phi[0], '-', color=[1, 0, 0], linewidth=3)\n",
    "ylim = [-2, 2]\n",
    "ax.set_ylim(ylim)\n",
    "plt.sca(ax)\n",
    "plt.yticks([-2, -1, 0, 1, 2])\n",
    "plt.xticks([-1, 0, 1])\n",
    "ax.text(loc[0][0], loc[0][1],text[0], horizontalalignment='center', fontsize=20)\n",
    "ax.set_xlabel('$x$', fontsize=20)\n",
    "ax.set_ylabel('$\\phi(x)$', fontsize=20)\n",
    "\n",
    "plt.savefig('./diagrams/quadraticBasis1.svg')\n",
    "\n",
    "ax.plot(x, phi[1], '-', color=[1, 0, 1], linewidth=3)\n",
    "ax.text(loc[1][0], loc[1][1], text[1], horizontalalignment='center', fontsize=20)\n",
    "\n",
    "plt.savefig('./diagrams/quadraticBasis2.svg')\n",
    "\n",
    "ax.plot(x, phi[2], '-', color=[0, 0, 1], linewidth=3)\n",
    "ax.text(loc[2][0], loc[2][1], text[2], horizontalalignment='center', fontsize=20)\n",
    "\n",
    "plt.savefig('./diagrams/quadraticBasis3.svg')\n",
    "    \n"
   ]
  },
  {
   "cell_type": "markdown",
   "metadata": {
    "slideshow": {
     "slide_type": "slide"
    }
   },
   "source": [
    "### Quadratic Basis\n",
    "\n",
    "-   Basis functions can be global. E.g. quadratic basis:\n",
    "    $$\\boldsymbol{\\phi} = [1, x, x^2]$$\n",
    "    \n",
    "<img src=\"./diagrams/quadraticBasis1.svg\", width=60%>"
   ]
  },
  {
   "cell_type": "markdown",
   "metadata": {
    "slideshow": {
     "slide_type": "slide"
    }
   },
   "source": [
    "### Quadratic Basis\n",
    "\n",
    "-   Basis functions can be global. E.g. quadratic basis:\n",
    "    $$\\boldsymbol{\\phi} = [1, x, x^2]$$\n",
    "    \n",
    "<img src=\"./diagrams/quadraticBasis2.svg\", width=60%>"
   ]
  },
  {
   "cell_type": "markdown",
   "metadata": {
    "slideshow": {
     "slide_type": "slide"
    }
   },
   "source": [
    "### Quadratic Basis\n",
    "\n",
    "-   Basis functions can be global. E.g. quadratic basis:\n",
    "     $$\\boldsymbol{\\phi} = [1, x, x^2]$$\n",
    "   \n",
    "<img src=\"./diagrams/quadraticBasis3.svg\", width=60%>"
   ]
  },
  {
   "cell_type": "code",
   "execution_count": 100,
   "metadata": {
    "collapsed": false,
    "slideshow": {
     "slide_type": "skip"
    }
   },
   "outputs": [
    {
     "data": {
      "image/png": "[encoded data removed]",
      "text/plain": [
       "<matplotlib.figure.Figure at 0x10c9f7f28>"
      ]
     },
     "metadata": {},
     "output_type": "display_data"
    }
   ],
   "source": [
    "f, ax = plt.subplots(figsize=(5,5))\n",
    "\n",
    "Phi = np.zeros((phi[0].shape[0], 3))\n",
    "for i in range(len(phi)):\n",
    "    Phi[:, i:i+1] = phi[i]\n",
    "\n",
    "w = np.random.normal(size=(3, 1))\n",
    "f = np.dot(Phi,w)\n",
    "a, = ax.plot(x, f, color=[0, 0, 1], linewidth=3)\n",
    "ax.plot(x, phi[0], color=[1, 0, 0], linewidth=1) \n",
    "ax.plot(x, phi[1], color=[1, 0, 1], linewidth=1)\n",
    "ax.plot(x, phi[2], color=[0, 0, 1], linewidth=1) \n",
    "ylim = [-4, 3]\n",
    "ax.set_ylim(ylim)\n",
    "plt.sca(ax)\n",
    "plt.xticks([-1, 0, 1]) \n",
    "ax.set_xlabel('$x$', fontsize=20) \n",
    "ax.set_ylabel('$f(x)$', fontsize=20)\n",
    "t = []\n",
    "for i in range(w.shape[0]):\n",
    "    t.append(ax.text(loc[i][0], loc[i][1], '$w_' + str(i) + ' = '+ str(w[i]) + '$', horizontalalignment='center', fontsize=20))\n",
    "\n",
    "plt.savefig('./diagrams/quadraticFunction1.svg')\n",
    "\n",
    "w = np.random.normal(size=(3, 1)) \n",
    "f = np.dot(Phi,w) \n",
    "a.set_ydata(f)\n",
    "for i in range(3):\n",
    "    t[i].set_text('$w_' + str(i) + ' = '+ str(w[i]) + '$')\n",
    "plt.savefig('./diagrams/quadraticFunction2.svg')\n",
    "\n",
    "\n",
    "w = np.random.normal(size=(3, 1)) \n",
    "f = np.dot(Phi, w) \n",
    "a.set_ydata(f)\n",
    "for i in range(3):\n",
    "    t[i].set_text('$w_' + str(i) + ' = '+ str(w[i]) + '$')\n",
    "plt.savefig('./diagrams/quadraticFunction3.svg')"
   ]
  },
  {
   "cell_type": "markdown",
   "metadata": {
    "slideshow": {
     "slide_type": "slide"
    }
   },
   "source": [
    "### Functions Derived from Quadratic Basis\n",
    "\n",
    "$$f(x) = {\\color{\\redColor}w_1} + {\\color{\\magentaColor}w_2x} + {\\color{\\blueColor}w_3 x^2}$$\n",
    "\n",
    "<img src=\"./diagrams/quadraticFunction1.svg\", width=60%>"
   ]
  },
  {
   "cell_type": "markdown",
   "metadata": {
    "slideshow": {
     "slide_type": "slide"
    }
   },
   "source": [
    "### Functions Derived from Quadratic Basis\n",
    "\n",
    "$$f(x) = {\\color{\\redColor}w_1} + {\\color{\\magentaColor}w_2x} + {\\color{\\blueColor}w_3 x^2}$$\n",
    "\n",
    "<img src=\"./diagrams/quadraticFunction2.svg\", width=60%>"
   ]
  },
  {
   "cell_type": "markdown",
   "metadata": {
    "slideshow": {
     "slide_type": "slide"
    }
   },
   "source": [
    "### Functions Derived from Quadratic Basis\n",
    "\n",
    "$$f(x) = {\\color{\\redColor}w_1} + {\\color{\\magentaColor}w_2x} + {\\color{\\blueColor}w_3 x^2}$$\n",
    "\n",
    "<img src=\"./diagrams/quadraticFunction3.svg\", width=60%>"
   ]
  },
  {
   "cell_type": "code",
   "execution_count": 95,
   "metadata": {
    "collapsed": false,
    "slideshow": {
     "slide_type": "skip"
    }
   },
   "outputs": [
    {
     "data": {
      "image/png": "[encoded data removed]",
      "text/plain": [
       "<matplotlib.figure.Figure at 0x10c7ded30>"
      ]
     },
     "metadata": {},
     "output_type": "display_data"
    }
   ],
   "source": [
    "f, ax = plt.subplots(figsize=(7, 7))\n",
    "x_min = -2\n",
    "x_max = 2\n",
    "x = np.linspace(x_min, x_max, 100)[:, None]\n",
    "phi = []\n",
    "phi.append(np.exp(-2*(x + 1)**2))\n",
    "phi.append(np.exp(-2*(x)**2))\n",
    "phi.append(np.exp(-2*(x - 1)**2))\n",
    "\n",
    "loc = [[-1.25, -0.4],\n",
    "       [0., 1.25],\n",
    "       [1.25, -0.4]]\n",
    "text = ['$\\phi_1(x) = e^{-2(x + 1)^2}$',\n",
    "        '$\\phi_2(x) = e^{-2x^2}$', \n",
    "        '$\\phi_3(x) = e^{-2(x-1)^2}$']\n",
    "ax.plot(x, phi[0], '-', color=[1, 0, 0], linewidth=3)\n",
    "ylim = [-2, 2]\n",
    "ax.set_ylim(ylim)\n",
    "plt.sca(ax)\n",
    "plt.yticks([-2, -1, 0, 1, 2])\n",
    "plt.xticks([-1, 0, 1])\n",
    "ax.text(loc[0][0], loc[0][1],text[0], horizontalalignment='center', fontsize=20)\n",
    "ax.set_xlabel('$x$', fontsize=20)\n",
    "ax.set_ylabel('$\\phi(x)$', fontsize=20)\n",
    "\n",
    "plt.savefig('./diagrams/radialBasis1.svg')\n",
    "\n",
    "ax.plot(x, phi[1], '-', color=[1, 0, 1], linewidth=3)\n",
    "ax.text(loc[1][0], loc[1][1], text[1], horizontalalignment='center', fontsize=20)\n",
    "\n",
    "plt.savefig('./diagrams/radialBasis2.svg')\n",
    "\n",
    "ax.plot(x, phi[2], '-', color=[0, 0, 1], linewidth=3)\n",
    "ax.text(loc[2][0], loc[2][1], text[2], horizontalalignment='center', fontsize=20)\n",
    "\n",
    "plt.savefig('./diagrams/radialBasis3.svg')"
   ]
  },
  {
   "cell_type": "markdown",
   "metadata": {
    "slideshow": {
     "slide_type": "slide"
    }
   },
   "source": [
    "### Radial Basis Functions\n",
    "\n",
    "-   Or they can be local. E.g. radial (or Gaussian) basis\n",
    "    $\\phi_j(x) = \\exp\\left(-\\frac{(x-\\mu_j)^2}{\\ell^2}\\right)$\n",
    "\n",
    "<img src=\"./diagrams/radialBasis1.svg\", width=60%>"
   ]
  },
  {
   "cell_type": "markdown",
   "metadata": {
    "slideshow": {
     "slide_type": "slide"
    }
   },
   "source": [
    "### Radial Basis Functions\n",
    "\n",
    "-   Or they can be local. E.g. radial (or Gaussian) basis\n",
    "    $\\phi_j(x) = \\exp\\left(-\\frac{(x-\\mu_j)^2}{\\ell^2}\\right)$\n",
    "\n",
    "<img src=\"./diagrams/radialBasis2.svg\", width=60%>"
   ]
  },
  {
   "cell_type": "markdown",
   "metadata": {
    "slideshow": {
     "slide_type": "slide"
    }
   },
   "source": [
    "### Radial Basis Functions\n",
    "\n",
    "-   Or they can be local. E.g. radial (or Gaussian) basis\n",
    "    $\\phi_j(x) = \\exp\\left(-\\frac{(x-\\mu_j)^2}{\\ell^2}\\right)$\n",
    "\n",
    "<img src=\"./diagrams/radialBasis3.svg\", width=60%>"
   ]
  },
  {
   "cell_type": "code",
   "execution_count": 97,
   "metadata": {
    "collapsed": false
   },
   "outputs": [
    {
     "data": {
      "image/png": "[encoded data removed]",
      "text/plain": [
       "<matplotlib.figure.Figure at 0x10ca40b00>"
      ]
     },
     "metadata": {},
     "output_type": "display_data"
    }
   ],
   "source": [
    "f, ax = plt.subplots(figsize=(7,7))\n",
    "\n",
    "Phi = np.zeros((phi[0].shape[0], 3))\n",
    "for i in range(len(phi)):\n",
    "    Phi[:, i:i+1] = phi[i]\n",
    "\n",
    "w = np.random.normal(size=(3, 1))\n",
    "f = np.dot(Phi,w)\n",
    "a, = ax.plot(x, f, color=[0, 0, 1], linewidth=3)\n",
    "ax.plot(x, phi[0], color=[1, 0, 0], linewidth=1) \n",
    "ax.plot(x, phi[1], color=[1, 0, 1], linewidth=1)\n",
    "ax.plot(x, phi[2], color=[0, 0, 1], linewidth=1) \n",
    "ylim = [-4, 3]\n",
    "ax.set_ylim(ylim)\n",
    "plt.sca(ax)\n",
    "plt.xticks([-1, 0, 1]) \n",
    "ax.set_xlabel('$x$', fontsize=20) \n",
    "ax.set_ylabel('$f(x)$', fontsize=20)\n",
    "t = []\n",
    "for i in range(w.shape[0]):\n",
    "    t.append(ax.text(loc[i][0], loc[i][1], '$w_' + str(i) + ' = '+ str(w[i]) + '$', horizontalalignment='center', fontsize=20))\n",
    "\n",
    "plt.savefig('./diagrams/radialFunction1.svg')\n",
    "\n",
    "w = np.random.normal(size=(3, 1)) \n",
    "f = np.dot(Phi,w) \n",
    "a.set_ydata(f)\n",
    "for i in range(3):\n",
    "    t[i].set_text('$w_' + str(i) + ' = '+ str(w[i]) + '$')\n",
    "plt.savefig('./diagrams/radialFunction2.svg')\n",
    "\n",
    "\n",
    "w = np.random.normal(size=(3, 1)) \n",
    "f = np.dot(Phi, w) \n",
    "a.set_ydata(f)\n",
    "for i in range(3):\n",
    "    t[i].set_text('$w_' + str(i) + ' = '+ str(w[i]) + '$')\n",
    "plt.savefig('./diagrams/radialFunction3.svg')"
   ]
  },
  {
   "cell_type": "markdown",
   "metadata": {
    "slideshow": {
     "slide_type": "slide"
    }
   },
   "source": [
    "### Functions Derived from Radial Basis\n",
    "\n",
    "$$f(x) = {\\color{\\redColor}w_1 e^{-2(x+1)^2}}  + {\\color{\\magentaColor}w_2e^{-2x^2}} + {\\color{\\blueColor}w_3 e^{-2(x-1)^2}}$$\n",
    "\n",
    "<img src=\"./diagrams/radialFunction1.svg\", width=60%>"
   ]
  },
  {
   "cell_type": "markdown",
   "metadata": {
    "slideshow": {
     "slide_type": "slide"
    }
   },
   "source": [
    "### Functions Derived from Radial Basis\n",
    "\n",
    "$$f(x) = {\\color{\\redColor}w_1 e^{-2(x+1)^2}}  + {\\color{\\magentaColor}w_2e^{-2x^2}} + {\\color{\\blueColor}w_3 e^{-2(x-1)^2}}$$\n",
    "\n",
    "<img src=\"./diagrams/radialFunction2.svg\", width=60%>"
   ]
  },
  {
   "cell_type": "markdown",
   "metadata": {
    "slideshow": {
     "slide_type": "slide"
    }
   },
   "source": [
    "### Functions Derived from Radial Basis\n",
    "\n",
    "$$f(x) = {\\color{\\redColor}w_1 e^{-2(x+1)^2}}  + {\\color{\\magentaColor}w_2e^{-2x^2}} + {\\color{\\blueColor}w_3 e^{-2(x-1)^2}}$$\n",
    "\n",
    "<img src=\"./diagrams/radialFunction3.svg\", width=60%>"
   ]
  },
  {
   "cell_type": "markdown",
   "metadata": {
    "slideshow": {
     "slide_type": "slide"
    }
   },
   "source": [
    "### Basis Function Models\n",
    "\n",
    "-   The *prediction function* is now defined as\n",
    "    $$f(\\mathbf{x}_i) = \\sum_{j=1}^m w_j \\phi_{i, j} + c$$\n"
   ]
  },
  {
   "cell_type": "markdown",
   "metadata": {
    "slideshow": {
     "slide_type": "slide"
    }
   },
   "source": [
    "## Vector Notation\n",
    "\n",
    "-   Write in vector notation,\n",
    "    $$f(\\mathbf{x}_i) = \\mathbf{w}^\\top \\boldsymbol{\\phi}_i + c$$"
   ]
  },
  {
   "cell_type": "markdown",
   "metadata": {
    "slideshow": {
     "slide_type": "slide"
    }
   },
   "source": [
    "### Log Likelihood for Basis Function Model\n",
    "\n",
    "-   The likelihood of a single data point is\n",
    "    $$p\\left(y_i|x_i\\right)=\\frac{1}{\\sqrt{2\\pi\\sigma^2}}\\exp\n",
    "        \\left(-\\frac{\\left(y_i-\\mathbf{w}^{\\top}\\boldsymbol{\\phi}_i\\right)^{2}}{2\\sigma^2}\\right).$$\n",
    "\n",
    "-   Leading to a log likelihood for the data set of\n",
    "    $$L(\\mathbf{w},\\sigma^2)= -\\frac{n}{2}\\log \\sigma^2\n",
    "          -\\frac{n}{2}\\log 2\\pi -\\frac{\\sum\n",
    "            _{i=1}^{n}\\left(y_i-\\mathbf{w}^{\\top}\\boldsymbol{\\phi}_i\\right)^{2}}{2\\sigma^2}.$$\n",
    "\n",
    "-   And a corresponding *objective function* of the form\n",
    "    $$E(\\mathbf{w},\\sigma^2)= \\frac{n}{2}\\log\n",
    "          \\sigma^2 + \\frac{\\sum\n",
    "            _{i=1}^{n}\\left(y_i-\\mathbf{w}^{\\top}\\boldsymbol{\\phi}_i\\right)^{2}}{2\\sigma^2}.$$"
   ]
  },
  {
   "cell_type": "markdown",
   "metadata": {
    "slideshow": {
     "slide_type": "slide"
    }
   },
   "source": [
    "### Expand the Brackets\n",
    "\n",
    "$$\\begin{aligned}\n",
    "  E(\\mathbf{w},\\sigma^2)  = & \\frac{n}{2}\\log \\sigma^2 + \\frac{1}{2\\sigma^2}\\sum _{i=1}^{n}y_i^{2}-\\frac{1}{\\sigma^2}\\sum _{i=1}^{n}y_i\\mathbf{w}^{\\top}\\boldsymbol{\\phi}_i\\\\&+\\frac{1}{2\\sigma^2}\\sum _{i=1}^{n}\\mathbf{w}^{\\top}\\boldsymbol{\\phi}_i\\boldsymbol{\\phi}_i^{\\top}\\mathbf{w} +\\text{const}.\\\\\n",
    "    = & \\frac{n}{2}\\log \\sigma^2 + \\frac{1}{2\\sigma^2}\\sum _{i=1}^{n}y_i^{2}-\\frac{1}{\\sigma^2}\n",
    "  \\mathbf{w}^\\top\\sum_{i=1}^{n}\\boldsymbol{\\phi}_iy_i\\\\&+\\frac{1}{2\\sigma^2} \\mathbf{w}^{\\top}\\left[\\sum\n",
    "    _{i=1}^{n}\\boldsymbol{\\phi}_i\\boldsymbol{\\phi}_i^{\\top}\\right]\\mathbf{w} +\\text{const}.\\end{aligned}$$"
   ]
  },
  {
   "cell_type": "markdown",
   "metadata": {
    "slideshow": {
     "slide_type": "slide"
    }
   },
   "source": [
    "### Multivariate Derivatives Reminder\n",
    "\n",
    "-   We will need some multivariate calculus.\n",
    "    $$\\frac{\\text{d}\\mathbf{a}^{\\top}\\mathbf{w}}{\\text{d}\\mathbf{w}}=\\mathbf{a}$$\n",
    "    and\n",
    "    $$\\frac{\\text{d}\\mathbf{w}^{\\top}\\mathbf{A}\\mathbf{w}}{\\text{d}\\mathbf{w}}=\\left(\\mathbf{A}+\\mathbf{A}^{\\top}\\right)\\mathbf{w}$$\n",
    "    or if $\\mathbf{A}$ is symmetric (*i.e.*\n",
    "    $\\mathbf{A}=\\mathbf{A}^{\\top}$)\n",
    "    $$\\frac{\\text{d}\\mathbf{w}^{\\top}\\mathbf{A}\\mathbf{w}}{\\text{d}\\mathbf{w}}=2\\mathbf{A}\\mathbf{w}.$$"
   ]
  },
  {
   "cell_type": "markdown",
   "metadata": {
    "slideshow": {
     "slide_type": "slide"
    }
   },
   "source": [
    "### Differentiate\n",
    "\n",
    "Differentiating with respect to the vector $\\mathbf{w}$ we obtain\n",
    "$$\\frac{\\text{d} L\\left(\\mathbf{w},\\beta \\right)}{\\text{d} \\mathbf{w}}=\\frac{1}{\\sigma^2} \\sum _{i=1}^{n}\\boldsymbol{\\phi}_iy_i-\\frac{1}{\\sigma^2} \\left[\\sum _{i=1}^{n}\\boldsymbol{\\phi}_i\\boldsymbol{\\phi}_i^{\\top}\\right]\\mathbf{w}$$\n",
    "Leading to\n",
    "$$\\mathbf{w}^{*}=\\left[\\sum _{i=1}^{n}\\boldsymbol{\\phi}_i\\boldsymbol{\\phi}_i^{\\top}\\right]^{-1}\\sum _{i=1}^{n}\\boldsymbol{\\phi}_iy_i,$$\n",
    "Rewrite in matrix notation:\n",
    "$$\\sum _{i=1}^{n}\\boldsymbol{\\phi}_i\\boldsymbol{\\phi}_i^\\top = \\boldsymbol{\\Phi}^\\top \\boldsymbol{\\Phi}$$\n",
    "$$\\sum _{i=1}^{n}\\boldsymbol{\\phi}_iy_i = \\boldsymbol{\\Phi}^\\top \\mathbf{y}$$"
   ]
  },
  {
   "cell_type": "markdown",
   "metadata": {
    "slideshow": {
     "slide_type": "slide"
    }
   },
   "source": [
    "### Update Equations\n",
    "\n",
    "-   Update for $\\mathbf{w}^{*}$.\n",
    "    $$\\mathbf{w}^{*} = \\left(\\boldsymbol{\\Phi}^\\top \\boldsymbol{\\Phi}\\right)^{-1} \\boldsymbol{\\Phi}^\\top \\mathbf{y}$$\n",
    "\n",
    "-   The equation for $\\left.\\sigma^2\\right.^{*}$ may also be found\n",
    "    $$\\left.\\sigma^2\\right.^{{*}}=\\frac{\\sum _{i=1}^{n}\\left(y_i-\\left.\\mathbf{w}^{*}\\right.^{\\top}\\boldsymbol{\\phi}_i\\right)^{2}}{n}.$$"
   ]
  },
  {
   "cell_type": "markdown",
   "metadata": {
    "slideshow": {
     "slide_type": "slide"
    }
   },
   "source": [
    "### Avoid Direct Inverse\n",
    "\n",
    "- E.g. Solve for $\\mathbf{w}$\n",
    "  $$\\left(\\boldsymbol{\\Phi}^\\top \\boldsymbol{\\Phi}\\right)\\mathbf{w} = \\boldsymbol{\\Phi}^\\top \\mathbf{y}$$\n",
    "  \n",
    "- See `np.linalg.solve`\n",
    "\n",
    "- In practice use $\\mathbf{Q}\\mathbf{R}$ decomposition (see lab class notes)."
   ]
  },
  {
   "cell_type": "markdown",
   "metadata": {
    "slideshow": {
     "slide_type": "slide"
    }
   },
   "source": [
    "### Polynomial Fits to Olympic Data"
   ]
  },
  {
   "cell_type": "code",
   "execution_count": 80,
   "metadata": {
    "collapsed": false,
    "slideshow": {
     "slide_type": "skip"
    }
   },
   "outputs": [
    {
     "data": {
      "image/png": "[encoded data removed]",
      "text/plain": [
       "<matplotlib.figure.Figure at 0x10c09de10>"
      ]
     },
     "metadata": {},
     "output_type": "display_data"
    }
   ],
   "source": [
    "data = pods.datasets.olympic_100m_men()\n",
    "f, ax = plt.subplots(1, 2, figsize=(14,7))\n",
    "#ax.plot(data['X'], data['Y'], 'rx', markersize=10)\n",
    "x = data['X']\n",
    "y = data['Y']\n",
    "x_pred = np.linspace(1892, 2020, 130)[:, None]\n",
    "\n",
    "# Rescale x data\n",
    "x_span = x.max() - x.min()\n",
    "\n",
    "max_order = 6\n",
    "num_data = x.shape[0]\n",
    "err = np.array([np.nan]*(max_order+1))\n",
    "\n",
    "for order in range(0,max_order+1):\n",
    "    Phi = np.zeros((num_data, order+1))\n",
    "    Phi_pred = np.zeros((x_pred.shape[0], order+1))\n",
    "    for i in range(0,order+1):\n",
    "        Phi[:, i:i+1] = (2*(x-x.min())/x_span - 1)**i\n",
    "        Phi_pred[:, i:i+1] = (2*(x_pred-x.min())/x_span - 1)**i\n",
    "\n",
    "    # numerically this is not a good idea, but this is what the maths looks like\n",
    "    w_star = np.linalg.solve(np.dot(Phi.T,Phi),np.dot(Phi.T,y))\n",
    "    y_pred = np.dot(Phi_pred,w_star)\n",
    "    sum_squares = ((y - np.dot(Phi,w_star))**2).sum()\n",
    "    sigma2 = sum_squares/num_data;\n",
    "    \n",
    "    err[order] = num_data/2.*np.log(sigma2) + sum_squares/(2.*sigma2)\n",
    "\n",
    "    ax[0].cla()\n",
    "    ax[0].plot(x, y, 'o', color=[1, 0, 0], markersize=6, linewidth=3)\n",
    "    ylim = ax[0].get_ylim()\n",
    "    ax[0].plot(x_pred, y_pred, color=[0, 0, 1], linewidth=2)\n",
    "    ax[0].set_xlabel('year', fontsize=20)\n",
    "    ax[0].set_ylim(ylim)\n",
    "    plt.sca(ax[0])\n",
    "    plt.xticks([1892, 1932, 1972, 2012])\n",
    "\n",
    "    xlim = ax[0].get_xlim()\n",
    "    \n",
    "   \n",
    "    ax[1].plot(range(0,max_order+1), err, 'o', color=[1, 0, 0], markersize=6, linewidth=3)\n",
    "    ax[1].set_ylim([-40, 0])\n",
    "    ax[1].set_xlim([-1, max_order+1])\n",
    "    ax[1].set_xlabel('polynomial order', fontsize=20)\n",
    "\n",
    "    file_name = 'olympicPoly' + str(order) + '.svg'\n",
    "    plt.savefig('./diagrams/'+file_name)\n"
   ]
  },
  {
   "cell_type": "markdown",
   "metadata": {
    "slideshow": {
     "slide_type": "slide"
    }
   },
   "source": [
    "![](./diagrams/olympicPoly0.svg) "
   ]
  },
  {
   "cell_type": "markdown",
   "metadata": {
    "slideshow": {
     "slide_type": "slide"
    }
   },
   "source": [
    "![](./diagrams/olympicPoly1.svg) "
   ]
  },
  {
   "cell_type": "markdown",
   "metadata": {
    "slideshow": {
     "slide_type": "slide"
    }
   },
   "source": [
    "![](./diagrams/olympicPoly2.svg) "
   ]
  },
  {
   "cell_type": "markdown",
   "metadata": {
    "slideshow": {
     "slide_type": "slide"
    }
   },
   "source": [
    "![](./diagrams/olympicPoly3.svg) "
   ]
  },
  {
   "cell_type": "markdown",
   "metadata": {
    "slideshow": {
     "slide_type": "slide"
    }
   },
   "source": [
    "![](./diagrams/olympicPoly4.svg) "
   ]
  },
  {
   "cell_type": "markdown",
   "metadata": {
    "slideshow": {
     "slide_type": "slide"
    }
   },
   "source": [
    "![](./diagrams/olympicPoly5.svg) "
   ]
  },
  {
   "cell_type": "markdown",
   "metadata": {
    "slideshow": {
     "slide_type": "slide"
    }
   },
   "source": [
    "![](./diagrams/olympicPoly6.svg) "
   ]
  },
  {
   "cell_type": "markdown",
   "metadata": {
    "slideshow": {
     "slide_type": "slide"
    }
   },
   "source": [
    "#### Reading\n",
    "\n",
    "- Section 1.4 of @Rogers:book11.\n",
    "- Chapter 1, pg 1-6 of @Bishop:book06.\n",
    "- Chapter 3, Section 3.1 of @Bishop:book06 up to pg 143.\n",
    "\n",
    " "
   ]
  }
 ],
 "metadata": {
  "celltoolbar": "Slideshow",
  "kernelspec": {
   "display_name": "Python 3",
   "language": "python",
   "name": "python3"
  },
  "language_info": {
   "codemirror_mode": {
    "name": "ipython",
    "version": 3
   },
   "file_extension": ".py",
   "mimetype": "text/x-python",
   "name": "python",
   "nbconvert_exporter": "python",
   "pygments_lexer": "ipython3",
   "version": "3.4.3"
  }
 },
 "nbformat": 4,
 "nbformat_minor": 0
}
