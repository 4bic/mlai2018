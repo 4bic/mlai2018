{
 "cells": [
  {
   "cell_type": "markdown",
   "metadata": {
    "collapsed": true,
    "slideshow": {
     "slide_type": "skip"
    }
   },
   "source": [
    "jupyter nbconvert --to slides --reveal-prefix \"http://cdn.jsdelivr.net/reveal.js/2.6.2\""
   ]
  },
  {
   "cell_type": "code",
   "execution_count": 1,
   "metadata": {
    "collapsed": false,
    "slideshow": {
     "slide_type": "skip"
    }
   },
   "outputs": [],
   "source": [
    "import pods\n",
    "from matplotlib import pyplot as plt\n",
    "import numpy as np\n",
    "import scipy as sp\n",
    "%matplotlib inline"
   ]
  },
  {
   "cell_type": "markdown",
   "metadata": {
    "slideshow": {
     "slide_type": "slide"
    }
   },
   "source": [
    "#### MLAI Week 4: Basis Functions\n",
    "\n",
    "### Neil D. Lawrence\n",
    "\n",
    "### 20th October 2015"
   ]
  },
  {
   "cell_type": "markdown",
   "metadata": {
    "slideshow": {
     "slide_type": "slide"
    }
   },
   "source": [
    "### Review\n",
    "- Last time: explored least squares for univariate and multivariate regression.\n",
    "- Introduced matrices, linear algebra and derivatives.\n",
    "- This time: introduce *basis functions* for non-linear regression models."
   ]
  },
  {
   "cell_type": "markdown",
   "metadata": {
    "slideshow": {
     "slide_type": "slide"
    }
   },
   "source": [
    "### Nonlinear Regression\n",
    "\n",
    "-   Problem with Linear Regression—$\\mathbf{x}$ may not be linearly\n",
    "    related to $\\mathbf{y}$.\n",
    "\n",
    "-   Potential solution: create a feature space: define\n",
    "    $\\phi(\\mathbf{x})$ where $\\phi(\\cdot)$ is a\n",
    "    nonlinear function of $\\mathbf{x}$.\n",
    "\n",
    "-   Model for target is a linear combination of these nonlinear\n",
    "    functions\n",
    "    $$f(\\mathbf{x}) = \\sum_{j=1}^k w_j \\phi_j(\\mathbf{x})$$"
   ]
  },
  {
   "cell_type": "code",
   "execution_count": null,
   "metadata": {
    "collapsed": true
   },
   "outputs": [],
   "source": [
    "# %load -s polynomial mlai.py\n",
    "def polynomial(x, num_basis=4, data_limits=[-1., 1.]):\n",
    "    \"Polynomial basis\"\n",
    "    centre = data_limits[0]/2. + data_limits[1]/2.\n",
    "    span = data_limits[1] - data_limits[0]\n",
    "    z = x - centre\n",
    "    z = 2*z/span\n",
    "    Phi = np.zeros((x.shape[0], num_basis))\n",
    "    for i in range(num_basis):\n",
    "        Phi[:, i:i+1] = z**i\n",
    "    return Phi"
   ]
  },
  {
   "cell_type": "code",
   "execution_count": 11,
   "metadata": {
    "collapsed": false
   },
   "outputs": [],
   "source": [
    "# %load -s plot_basis mlai.py\n",
    "def plot_basis(basis, x_min, x_max, fig, ax, loc, text, diagrams='./diagrams', fontsize=20):\n",
    "    \"\"\"Plot examples of the basis vectors.\"\"\"\n",
    "    x = np.linspace(x_min, x_max, 100)[:, None]\n",
    "\n",
    "    Phi = basis(x, num_basis=3)\n",
    "\n",
    "    ax.plot(x, Phi[:, 0], '-', color=[1, 0, 0], linewidth=3)\n",
    "    ylim = [-2, 2]\n",
    "    ax.set_ylim(ylim)\n",
    "    plt.sca(ax)\n",
    "    plt.yticks([-2, -1, 0, 1, 2])\n",
    "    plt.xticks([-1, 0, 1])\n",
    "    ax.text(loc[0][0], loc[0][1],text[0], horizontalalignment='center', fontsize=20)\n",
    "    ax.set_xlabel('$x$', fontsize=fontsize)\n",
    "    ax.set_ylabel('$\\phi(x)$', fontsize=fontsize)\n",
    "\n",
    "    plt.savefig(diagrams + '/' + basis.__name__ + '_basis1.svg')\n",
    "\n",
    "    ax.plot(x, Phi[:, 1], '-', color=[1, 0, 1], linewidth=3)\n",
    "    ax.text(loc[1][0], loc[1][1], text[1], horizontalalignment='center', fontsize=fontsize)\n",
    "\n",
    "    plt.savefig(diagrams + '/' + basis.__name__ + '_basis2.svg')\n",
    "\n",
    "    ax.plot(x, Phi[:, 2], '-', color=[0, 0, 1], linewidth=3)\n",
    "    ax.text(loc[2][0], loc[2][1], text[2], horizontalalignment='center', fontsize=fontsize)\n",
    "\n",
    "    plt.savefig(diagrams + '/' + basis.__name__ + '_basis3.svg')\n"
   ]
  },
  {
   "cell_type": "code",
   "execution_count": 12,
   "metadata": {
    "collapsed": false,
    "slideshow": {
     "slide_type": "skip"
    }
   },
   "outputs": [
    {
     "data": {
      "image/png": "[encoded data removed]",
      "text/plain": [
       "<matplotlib.figure.Figure at 0x1093bcb70>"
      ]
     },
     "metadata": {},
     "output_type": "display_data"
    }
   ],
   "source": [
    "import mlai\n",
    "f, ax = plt.subplots(figsize=(5, 5))\n",
    "x_min = -1.3\n",
    "x_max = 1.3\n",
    "basis=polynomial\n",
    "\n",
    "loc =[[0, 1.4,],\n",
    "      [0, -0.7],\n",
    "      [0.75, -0.2]]\n",
    "text =['$\\phi(x) = 1$',\n",
    "       '$\\phi(x) = x$',\n",
    "       '$\\phi(x) = x^2$']\n",
    "plot_basis(polynomial, x_min=-1.3, x_max=1.3, fig=f, ax=ax, loc=loc, text=text)    \n"
   ]
  },
  {
   "cell_type": "markdown",
   "metadata": {
    "slideshow": {
     "slide_type": "slide"
    }
   },
   "source": [
    "### Quadratic Basis\n",
    "\n",
    "-   Basis functions can be global. E.g. quadratic basis:\n",
    "    $$\\mathbf{\\phi} = [1, x, x^2]$$\n",
    "    \n",
    "<center><img src=\"./diagrams/polynomial_basis1.svg\", width=60%></center>"
   ]
  },
  {
   "cell_type": "markdown",
   "metadata": {
    "slideshow": {
     "slide_type": "slide"
    }
   },
   "source": [
    "### Quadratic Basis\n",
    "\n",
    "-   Basis functions can be global. E.g. quadratic basis:\n",
    "    $$\\mathbf{\\phi} = [1, x, x^2]$$\n",
    "    \n",
    "<center><img src=\"./diagrams/polynomila_basis2.svg\", width=60%></center>"
   ]
  },
  {
   "cell_type": "markdown",
   "metadata": {
    "slideshow": {
     "slide_type": "slide"
    }
   },
   "source": [
    "### Quadratic Basis\n",
    "\n",
    "-   Basis functions can be global. E.g. quadratic basis:\n",
    "     $$\\mathbf{\\phi} = [1, x, x^2]$$\n",
    "   \n",
    "<center><img src=\"./diagrams/polynomial_basis3.svg\", width=60%></center>"
   ]
  },
  {
   "cell_type": "code",
   "execution_count": null,
   "metadata": {
    "collapsed": false,
    "slideshow": {
     "slide_type": "skip"
    }
   },
   "outputs": [],
   "source": [
    "f, ax = plt.subplots(figsize=(5,5))\n",
    "\n",
    "\n",
    "w = np.random.normal(size=(3, 1))\n",
    "f = np.dot(Phi,w)\n",
    "a, = ax.plot(x, f, color=[0, 0, 1], linewidth=3)\n",
    "ax.plot(x, Phi[:, 0], color=[1, 0, 0], linewidth=1) \n",
    "ax.plot(x, Phi[:, 1], color=[1, 0, 1], linewidth=1)\n",
    "ax.plot(x, Phi[:, 2], color=[0, 0, 1], linewidth=1) \n",
    "ylim = [-4, 3]\n",
    "ax.set_ylim(ylim)\n",
    "plt.sca(ax)\n",
    "plt.xticks([-1, 0, 1]) \n",
    "ax.set_xlabel('$x$', fontsize=20) \n",
    "ax.set_ylabel('$f(x)$', fontsize=20)\n",
    "t = []\n",
    "for i in range(w.shape[0]):\n",
    "    t.append(ax.text(loc[i][0], loc[i][1], '$w_' + str(i) + ' = '+ str(w[i]) + '$', horizontalalignment='center', fontsize=20))\n",
    "\n",
    "plt.savefig('./diagrams/quadraticFunction1.svg')\n",
    "\n",
    "w = np.random.normal(size=(3, 1)) \n",
    "f = np.dot(Phi,w) \n",
    "a.set_ydata(f)\n",
    "for i in range(3):\n",
    "    t[i].set_text('$w_' + str(i) + ' = '+ str(w[i]) + '$')\n",
    "plt.savefig('./diagrams/quadraticFunction2.svg')\n",
    "\n",
    "\n",
    "w = np.random.normal(size=(3, 1)) \n",
    "f = np.dot(Phi, w) \n",
    "a.set_ydata(f)\n",
    "for i in range(3):\n",
    "    t[i].set_text('$w_' + str(i) + ' = '+ str(w[i]) + '$')\n",
    "plt.savefig('./diagrams/quadraticFunction3.svg')"
   ]
  },
  {
   "cell_type": "markdown",
   "metadata": {
    "slideshow": {
     "slide_type": "slide"
    }
   },
   "source": [
    "### Functions Derived from Quadratic Basis\n",
    "\n",
    "$$f(x) = {\\color{\\redColor}w_0} + {\\color{\\magentaColor}w_1x} + {\\color{\\blueColor}w_2 x^2}$$\n",
    "\n",
    "<center><img src=\"./diagrams/quadraticFunction1.svg\", width=60%></center>"
   ]
  },
  {
   "cell_type": "markdown",
   "metadata": {
    "slideshow": {
     "slide_type": "slide"
    }
   },
   "source": [
    "### Functions Derived from Quadratic Basis\n",
    "\n",
    "$$f(x) = {\\color{\\redColor}w_1} + {\\color{\\magentaColor}w_2x} + {\\color{\\blueColor}w_3 x^2}$$\n",
    "\n",
    "<center><img src=\"./diagrams/quadraticFunction2.svg\", width=60%></center>"
   ]
  },
  {
   "cell_type": "markdown",
   "metadata": {
    "slideshow": {
     "slide_type": "slide"
    }
   },
   "source": [
    "### Functions Derived from Quadratic Basis\n",
    "\n",
    "$$f(x) = {\\color{\\redColor}w_1} + {\\color{\\magentaColor}w_2x} + {\\color{\\blueColor}w_3 x^2}$$\n",
    "\n",
    "<center><img src=\"./diagrams/quadraticFunction3.svg\", width=60%></center>"
   ]
  },
  {
   "cell_type": "code",
   "execution_count": null,
   "metadata": {
    "collapsed": true
   },
   "outputs": [],
   "source": [
    "# %load -s radial mlai.py\n",
    "def radial(x, num_basis=4, data_limits=[-1., 1.]):\n",
    "    \"Radial basis constructed using exponentiated quadratic form.\"\n",
    "    if num_basis>1:\n",
    "        centres=np.linspace(data_limits[0], data_limits[1], num_basis)\n",
    "        width = (centres[1]-centres[0])/2.\n",
    "    else:\n",
    "        centres = np.asarray([data_limits[0]/2. + data_limits[1]/2.])\n",
    "        width = (data_limits[1]-data_limits[0])/2.\n",
    "    \n",
    "    Phi = np.zeros((x.shape[0], num_basis))\n",
    "    for i in range(num_basis):\n",
    "        Phi[:, i:i+1] = np.exp(-0.5*((x-centres[i])/width)**2)\n",
    "    return Phi\n"
   ]
  },
  {
   "cell_type": "code",
   "execution_count": null,
   "metadata": {
    "collapsed": false,
    "slideshow": {
     "slide_type": "skip"
    }
   },
   "outputs": [],
   "source": [
    "f, ax = plt.subplots(figsize=(7, 7))\n",
    "x_min = -2\n",
    "x_max = 2\n",
    "x = np.linspace(x_min, x_max, 100)[:, None]\n",
    "\n",
    "Phi = radial(x, 3)\n",
    "\n",
    "loc = [[-1.25, -0.4],\n",
    "       [0., 1.25],\n",
    "       [1.25, -0.4]]\n",
    "text = ['$\\phi_1(x) = e^{-(x + 1)^2}$',\n",
    "        '$\\phi_2(x) = e^{-2x^2}$', \n",
    "        '$\\phi_3(x) = e^{-2(x-1)^2}$']\n",
    "ax.plot(x, Phi[:, 0], '-', color=[1, 0, 0], linewidth=3)\n",
    "ylim = [-2, 2]\n",
    "ax.set_ylim(ylim)\n",
    "plt.sca(ax)\n",
    "plt.yticks([-2, -1, 0, 1, 2])\n",
    "plt.xticks([-1, 0, 1])\n",
    "ax.text(loc[0][0], loc[0][1],text[0], horizontalalignment='center', fontsize=20)\n",
    "ax.set_xlabel('$x$', fontsize=20)\n",
    "ax.set_ylabel('$\\phi(x)$', fontsize=20)\n",
    "\n",
    "plt.savefig('./diagrams/radialBasis1.svg')\n",
    "\n",
    "ax.plot(x, Phi[:, 1], '-', color=[1, 0, 1], linewidth=3)\n",
    "ax.text(loc[1][0], loc[1][1], text[1], horizontalalignment='center', fontsize=20)\n",
    "\n",
    "plt.savefig('./diagrams/radialBasis2.svg')\n",
    "\n",
    "ax.plot(x, Phi[:, 2], '-', color=[0, 0, 1], linewidth=3)\n",
    "ax.text(loc[2][0], loc[2][1], text[2], horizontalalignment='center', fontsize=20)\n",
    "\n",
    "plt.savefig('./diagrams/radialBasis3.svg')"
   ]
  },
  {
   "cell_type": "markdown",
   "metadata": {
    "slideshow": {
     "slide_type": "slide"
    }
   },
   "source": [
    "### Radial Basis Functions\n",
    "\n",
    "-   Or they can be local. E.g. radial (or Gaussian) basis\n",
    "    $$\\phi_j(x) = \\exp\\left(-\\frac{(x-\\mu_j)^2}{\\ell^2}\\right)$$\n",
    "\n",
    "<center><img src=\"./diagrams/radialBasis1.svg\", width=60%></center>"
   ]
  },
  {
   "cell_type": "markdown",
   "metadata": {
    "slideshow": {
     "slide_type": "slide"
    }
   },
   "source": [
    "### Radial Basis Functions\n",
    "\n",
    "-   Or they can be local. E.g. radial (or Gaussian) basis\n",
    "    $$\\phi_j(x) = \\exp\\left(-\\frac{(x-\\mu_j)^2}{\\ell^2}\\right)$$\n",
    "\n",
    "<center><img src=\"./diagrams/radialBasis2.svg\", width=60%></center>"
   ]
  },
  {
   "cell_type": "markdown",
   "metadata": {
    "slideshow": {
     "slide_type": "slide"
    }
   },
   "source": [
    "### Radial Basis Functions\n",
    "\n",
    "-   Or they can be local. E.g. radial (or Gaussian) basis\n",
    "    $$\\phi_j(x) = \\exp\\left(-\\frac{(x-\\mu_j)^2}{\\ell^2}\\right)$$\n",
    "\n",
    "<center><img src=\"./diagrams/radialBasis3.svg\", width=60%></center>"
   ]
  },
  {
   "cell_type": "code",
   "execution_count": null,
   "metadata": {
    "collapsed": false,
    "slideshow": {
     "slide_type": "skip"
    }
   },
   "outputs": [],
   "source": [
    "f, ax = plt.subplots(figsize=(7,7))\n",
    "\n",
    "w = np.random.normal(size=(3, 1))\n",
    "f = np.dot(Phi,w)\n",
    "a, = ax.plot(x, f, color=[0, 0, 1], linewidth=3)\n",
    "ax.plot(x, phi[0], color=[1, 0, 0], linewidth=1) \n",
    "ax.plot(x, phi[1], color=[1, 0, 1], linewidth=1)\n",
    "ax.plot(x, phi[2], color=[0, 0, 1], linewidth=1) \n",
    "ylim = [-4, 3]\n",
    "ax.set_ylim(ylim)\n",
    "plt.sca(ax)\n",
    "plt.xticks([-1, 0, 1]) \n",
    "ax.set_xlabel('$x$', fontsize=20) \n",
    "ax.set_ylabel('$f(x)$', fontsize=20)\n",
    "t = []\n",
    "for i in range(w.shape[0]):\n",
    "    t.append(ax.text(loc[i][0], loc[i][1], '$w_' + str(i) + ' = '+ str(w[i]) + '$', horizontalalignment='center', fontsize=20))\n",
    "\n",
    "plt.savefig('./diagrams/radialFunction1.svg')\n",
    "\n",
    "w = np.random.normal(size=(3, 1)) \n",
    "f = np.dot(Phi,w) \n",
    "a.set_ydata(f)\n",
    "for i in range(3):\n",
    "    t[i].set_text('$w_' + str(i) + ' = '+ str(w[i]) + '$')\n",
    "plt.savefig('./diagrams/radialFunction2.svg')\n",
    "\n",
    "\n",
    "w = np.random.normal(size=(3, 1)) \n",
    "f = np.dot(Phi, w) \n",
    "a.set_ydata(f)\n",
    "for i in range(3):\n",
    "    t[i].set_text('$w_' + str(i) + ' = '+ str(w[i]) + '$')\n",
    "plt.savefig('./diagrams/radialFunction3.svg')"
   ]
  },
  {
   "cell_type": "markdown",
   "metadata": {
    "slideshow": {
     "slide_type": "slide"
    }
   },
   "source": [
    "### Functions Derived from Radial Basis\n",
    "\n",
    "$$f(x) = {\\color{\\redColor}w_1 e^{-2(x+1)^2}}  + {\\color{\\magentaColor}w_2e^{-2x^2}} + {\\color{\\blueColor}w_3 e^{-2(x-1)^2}}$$\n",
    "\n",
    "<center><img src=\"./diagrams/radialFunction1.svg\", width=60%></center>"
   ]
  },
  {
   "cell_type": "markdown",
   "metadata": {
    "slideshow": {
     "slide_type": "slide"
    }
   },
   "source": [
    "### Functions Derived from Radial Basis\n",
    "\n",
    "$$f(x) = {\\color{\\redColor}w_1 e^{-2(x+1)^2}}  + {\\color{\\magentaColor}w_2e^{-2x^2}} + {\\color{\\blueColor}w_3 e^{-2(x-1)^2}}$$\n",
    "\n",
    "<center><img src=\"./diagrams/radialFunction2.svg\", width=60%></center>"
   ]
  },
  {
   "cell_type": "markdown",
   "metadata": {
    "slideshow": {
     "slide_type": "slide"
    }
   },
   "source": [
    "### Functions Derived from Radial Basis\n",
    "\n",
    "$$f(x) = {\\color{\\redColor}w_1 e^{-2(x+1)^2}}  + {\\color{\\magentaColor}w_2e^{-2x^2}} + {\\color{\\blueColor}w_3 e^{-2(x-1)^2}}$$\n",
    "\n",
    "<center><img src=\"./diagrams/radialFunction3.svg\", width=60%></center>"
   ]
  },
  {
   "cell_type": "markdown",
   "metadata": {
    "slideshow": {
     "slide_type": "slide"
    }
   },
   "source": [
    "### Basis Function Models\n",
    "\n",
    "-   The *prediction function* is now defined as\n",
    "    $$f(\\mathbf{x}_i) = \\sum_{j=1}^m w_j \\phi_{i, j}$$\n"
   ]
  },
  {
   "cell_type": "markdown",
   "metadata": {
    "slideshow": {
     "slide_type": "slide"
    }
   },
   "source": [
    "## Vector Notation\n",
    "\n",
    "-   Write in vector notation,\n",
    "    $$f(\\mathbf{x}_i) = \\mathbf{w}^\\top \\mathbf{\\phi}_i$$"
   ]
  },
  {
   "cell_type": "markdown",
   "metadata": {
    "slideshow": {
     "slide_type": "slide"
    }
   },
   "source": [
    "### Log Likelihood for Basis Function Model\n",
    "\n",
    "-   The likelihood of a single data point is\n",
    "    $$p\\left(y_i|x_i\\right)=\\frac{1}{\\sqrt{2\\pi\\sigma^2}}\\exp\n",
    "        \\left(-\\frac{\\left(y_i-\\mathbf{w}^{\\top}\\mathbf{\\phi}_i\\right)^{2}}{2\\sigma^2}\\right).$$"
   ]
  },
  {
   "cell_type": "markdown",
   "metadata": {
    "slideshow": {
     "slide_type": "slide"
    }
   },
   "source": [
    "### Log Likelihood for Basis Function Model\n",
    "\n",
    "-   Leading to a log likelihood for the data set of\n",
    "    $$L(\\mathbf{w},\\sigma^2)= -\\frac{n}{2}\\log \\sigma^2\n",
    "          -\\frac{n}{2}\\log 2\\pi -\\frac{\\sum\n",
    "            _{i=1}^{n}\\left(y_i-\\mathbf{w}^{\\top}\\mathbf{\\phi}_i\\right)^{2}}{2\\sigma^2}.$$\n",
    "\n",
    " "
   ]
  },
  {
   "cell_type": "markdown",
   "metadata": {
    "slideshow": {
     "slide_type": "slide"
    }
   },
   "source": [
    "### Objective Function\n",
    "\n",
    "- And a corresponding *objective function* of the form\n",
    "    $$E(\\mathbf{w},\\sigma^2)= \\frac{n}{2}\\log\n",
    "          \\sigma^2 + \\frac{\\sum\n",
    "            _{i=1}^{n}\\left(y_i-\\mathbf{w}^{\\top}\\mathbf{\\phi}_i\\right)^{2}}{2\\sigma^2}.$$"
   ]
  },
  {
   "cell_type": "markdown",
   "metadata": {
    "slideshow": {
     "slide_type": "slide"
    }
   },
   "source": [
    "### Expand the Brackets\n",
    "\n",
    "$$\\begin{align}\n",
    "  E(\\mathbf{w},\\sigma^2) =  &\\frac{n}{2}\\log \\sigma^2 + \\frac{1}{2\\sigma^2}\\sum _{i=1}^{n}y_i^{2}-\\frac{1}{\\sigma^2}\\sum _{i=1}^{n}y_i\\mathbf{w}^{\\top}\\mathbf{\\phi}_i\\\\ &+\\frac{1}{2\\sigma^2}\\sum _{i=1}^{n}\\mathbf{w}^{\\top}\\mathbf{\\phi}_i\\mathbf{\\phi}_i^{\\top}\\mathbf{w} +\\text{const}.\\end{align}$$\n",
    " "
   ]
  },
  {
   "cell_type": "markdown",
   "metadata": {
    "slideshow": {
     "slide_type": "slide"
    }
   },
   "source": [
    " ### Expand the Brackets\n",
    " $$ \\begin{align} E(\\mathbf{w}, \\sigma^2) = & \\frac{n}{2}\\log \\sigma^2 + \\frac{1}{2\\sigma^2}\\sum _{i=1}^{n}y_i^{2}-\\frac{1}{\\sigma^2}\n",
    "  \\mathbf{w}^\\top\\sum_{i=1}^{n}\\mathbf{\\phi}_i y_i\\\\ & +\\frac{1}{2\\sigma^2} \\mathbf{w}^{\\top}\\left[\\sum\n",
    "    _{i=1}^{n}\\mathbf{\\phi}_i\\mathbf{\\phi}_i^{\\top}\\right]\\mathbf{w} +\\text{const}.\\end{align}$$"
   ]
  },
  {
   "cell_type": "markdown",
   "metadata": {
    "slideshow": {
     "slide_type": "slide"
    }
   },
   "source": [
    "### Multivariate Derivatives Reminder\n",
    "\n",
    "-   We will need some multivariate calculus.\n",
    "    $$\\frac{\\text{d}\\mathbf{a}^{\\top}\\mathbf{w}}{\\text{d}\\mathbf{w}}=\\mathbf{a}$$\n",
    "    and\n",
    "    $$\\frac{\\text{d}\\mathbf{w}^{\\top}\\mathbf{A}\\mathbf{w}}{\\text{d}\\mathbf{w}}=\\left(\\mathbf{A}+\\mathbf{A}^{\\top}\\right)\\mathbf{w}$$\n",
    "    or if $\\mathbf{A}$ is symmetric (*i.e.*\n",
    "    $\\mathbf{A}=\\mathbf{A}^{\\top}$)\n",
    "    $$\\frac{\\text{d}\\mathbf{w}^{\\top}\\mathbf{A}\\mathbf{w}}{\\text{d}\\mathbf{w}}=2\\mathbf{A}\\mathbf{w}.$$"
   ]
  },
  {
   "cell_type": "markdown",
   "metadata": {
    "slideshow": {
     "slide_type": "slide"
    }
   },
   "source": [
    "### Differentiate\n",
    "\n",
    "Differentiating with respect to the vector $\\mathbf{w}$ we obtain\n",
    "$$\\frac{\\text{d} E\\left(\\mathbf{w},\\sigma^2 \\right)}{\\text{d} \\mathbf{w}}=-\\frac{1}{\\sigma^2} \\sum _{i=1}^{n}\\mathbf{\\phi}_iy_i+\\frac{1}{\\sigma^2} \\left[\\sum _{i=1}^{n}\\mathbf{\\phi}_i\\mathbf{\\phi}_i^{\\top}\\right]\\mathbf{w}$$\n",
    "Leading to\n",
    "$$\\mathbf{w}^{*}=\\left[\\sum _{i=1}^{n}\\mathbf{\\phi}_i\\mathbf{\\phi}_i^{\\top}\\right]^{-1}\\sum _{i=1}^{n}\\mathbf{\\phi}_iy_i,$$"
   ]
  },
  {
   "cell_type": "markdown",
   "metadata": {
    "slideshow": {
     "slide_type": "slide"
    }
   },
   "source": [
    "### Matrix Notation\n",
    "\n",
    "Rewrite in matrix notation:\n",
    "$$\\sum _{i=1}^{n}\\mathbf{\\phi}_i\\mathbf{\\phi}_i^\\top = \\mathbf{\\Phi}^\\top \\mathbf{\\Phi}$$\n",
    "$$\\sum _{i=1}^{n}\\mathbf{\\phi}_iy_i = \\mathbf{\\Phi}^\\top \\mathbf{y}$$"
   ]
  },
  {
   "cell_type": "markdown",
   "metadata": {
    "slideshow": {
     "slide_type": "slide"
    }
   },
   "source": [
    "### Update Equations\n",
    "\n",
    "-   Update for $\\mathbf{w}^{*}$.\n",
    "    $$\\mathbf{w}^{*} = \\left(\\mathbf{\\Phi}^\\top \\mathbf{\\Phi}\\right)^{-1} \\mathbf{\\Phi}^\\top \\mathbf{y}$$\n",
    "\n",
    "-   The equation for $\\left.\\sigma^2\\right.^{*}$ may also be found\n",
    "    $$\\left.\\sigma^2\\right.^{{*}}=\\frac{\\sum _{i=1}^{n}\\left(y_i-\\left.\\mathbf{w}^{*}\\right.^{\\top}\\mathbf{\\phi}_i\\right)^{2}}{n}.$$"
   ]
  },
  {
   "cell_type": "markdown",
   "metadata": {
    "slideshow": {
     "slide_type": "slide"
    }
   },
   "source": [
    "### Avoid Direct Inverse\n",
    "\n",
    "- E.g. Solve for $\\mathbf{w}$\n",
    "  $$\\left(\\mathbf{\\Phi}^\\top \\mathbf{\\Phi}\\right)\\mathbf{w} = \\mathbf{\\Phi}^\\top \\mathbf{y}$$\n",
    "  \n",
    "- See `np.linalg.solve`\n",
    "\n",
    "- In practice use $\\mathbf{Q}\\mathbf{R}$ decomposition (see lab class notes)."
   ]
  },
  {
   "cell_type": "markdown",
   "metadata": {
    "slideshow": {
     "slide_type": "slide"
    }
   },
   "source": [
    "### Polynomial Fits to Olympic Data"
   ]
  },
  {
   "cell_type": "code",
   "execution_count": null,
   "metadata": {
    "collapsed": true
   },
   "outputs": [],
   "source": [
    "# %load -s LM mlai.py\n",
    "class LM():\n",
    "    \"\"\"Linear model\n",
    "    :param X: input values\n",
    "    :type X: numpy.ndarray\n",
    "    :param y: target values\n",
    "    :type y: numpy.ndarray\n",
    "    :param basis: basis function \n",
    "    :param type: function\"\"\"\n",
    "\n",
    "    def __init__(self, X, y, basis, **kwargs):\n",
    "\n",
    "        self.Phi = basis(X, **kwargs)\n",
    "        self.X = X\n",
    "        self.y = y\n",
    "        self.num_data = y.shape[0]\n",
    "        self.sigma2 = sigma2\n",
    "        self.basis = basis\n",
    "        self.basis_args = kwargs\n",
    "\n",
    "    def update_QR(self):\n",
    "        \"\"\"Perform the QR decomposition on the basis matrix.\"\"\"\n",
    "        self.Q, self.R = np.linalg.qr(self.Phi)\n",
    "\n",
    "    def fit(self):\n",
    "        \"\"\"Minimize the objective function with respect to the parameters\"\"\"\n",
    "        self.update_QR()\n",
    "        self.w_star = sp.linalg.solve_triangular(self.R, np.dot(self.Q.T, self.y))\n",
    "        self.update_sum_squares()\n",
    "        self.sigma2=self.sum_squares/self.num_data\n",
    "\n",
    "    def predict(self, X):\n",
    "        \"\"\"Return the result of the prediction function.\"\"\"\n",
    "        return np.dot(basis(X, self.kwargs), self.w_star)\n",
    "        \n",
    "    def update_f(self):\n",
    "        \"\"\"Update values at the prediction points.\"\"\"\n",
    "        self.f = np.dot(self.Phi, self.w_star)\n",
    "        \n",
    "    def update_sum_squares(self):\n",
    "        \"\"\"Compute the sum of squares error.\"\"\"\n",
    "        self.update_f()\n",
    "        self.sum_squares = ((self.y-self.f)**2).sum()\n",
    "        \n",
    "    def objective(self):\n",
    "        \"\"\"Compute the objective function.\"\"\"\n",
    "        self.update_sum_squares()\n",
    "        return self.sum_squares\n",
    "\n",
    "    def log_likelihood(self):\n",
    "        \"\"\"Compute the log likelihood.\"\"\"\n",
    "        self.update_sum_squares()\n",
    "        return -num_data/2.*np.log(np.pi*2.)-num_data/2.*np.log(sigma2)-self.sum_squares/(2.*self.sigma2)\n"
   ]
  },
  {
   "cell_type": "code",
   "execution_count": null,
   "metadata": {
    "collapsed": true
   },
   "outputs": [],
   "source": [
    "# %load -s polynomial mlai.py\n",
    "def polynomial(x, num_basis=4, data_limits=[-1., 1.]):\n",
    "    \"Polynomial basis\"\n",
    "    centre = data_limits[0]/2. + data_limits[1]/2.\n",
    "    span = data_limits[1] - data_limits[0]\n",
    "    z = x - centre\n",
    "    z = 2*z/span\n",
    "    Phi = np.zeros((x.shape[0], num_basis))\n",
    "    for i in range(num_basis):\n",
    "        Phi[:, i:i+1] = z**i\n",
    "    return Phi\n"
   ]
  },
  {
   "cell_type": "code",
   "execution_count": null,
   "metadata": {
    "collapsed": false
   },
   "outputs": [],
   "source": [
    "# %load -s radial mlai.py\n",
    "def radial(x, num_basis=4, data_limits=[-1., 1.]):\n",
    "    \"Radial basis constructed using exponentiated quadratic form.\"\n",
    "    if num_basis>1:\n",
    "        centres=np.linspace(data_limits[0], data_limits[1], num_basis)\n",
    "        width = (centres[1]-centres[0])/2.\n",
    "    else:\n",
    "        centres = np.asarray([data_limits[0]/2. + data_limits[1]/2.])\n",
    "        width = (data_limits[1]-data_limits[0])/2.\n",
    "    \n",
    "    Phi = np.zeros((x.shape[0], num_basis))\n",
    "    for i in range(num_basis):\n",
    "        Phi[:, i:i+1] = np.exp(-0.5*((x-centres[i])/width)**2)\n",
    "    return Phi\n"
   ]
  },
  {
   "cell_type": "code",
   "execution_count": null,
   "metadata": {
    "collapsed": false,
    "slideshow": {
     "slide_type": "skip"
    }
   },
   "outputs": [],
   "source": [
    "basis = radial\n",
    "\n",
    "data = pods.datasets.olympic_marathon_men()\n",
    "f, ax = plt.subplots(1, 2, figsize=(14,7))\n",
    "#ax.plot(data['X'], data['Y'], 'rx', markersize=10)\n",
    "x = data['X']\n",
    "y = data['Y']\n",
    "\n",
    "data_limits = [1892, 2020]\n",
    "max_basis = 7\n",
    "\n",
    "x_pred = np.linspace(data_limits[0], data_limits[1], 130)[:, None]\n",
    "\n",
    "ll = np.array([np.nan]*(max_basis))\n",
    "sum_squares = np.array([np.nan]*(max_basis))\n",
    "\n",
    "for num_basis in range(max_basis):\n",
    "    \n",
    "    model=LM(x, y, basis, num_basis=num_basis, data_limits=data_limits)\n",
    "    model.fit()\n",
    "    sum_squares[order] = model.objective() \n",
    "    ll[order] = model.log_likelihood()\n",
    "    \n",
    "    ax[0].cla()\n",
    "    ax[0].plot(x, y, 'o', color=[1, 0, 0], markersize=6, linewidth=3)\n",
    "    ylim = ax[0].get_ylim()\n",
    "    ax[0].plot(x_pred, y_pred, color=[0, 0, 1], linewidth=2)\n",
    "    ax[0].set_xlabel('year', fontsize=20)\n",
    "    ax[0].set_ylim(ylim)\n",
    "    plt.sca(ax[0])\n",
    "    plt.xticks([1892, 1932, 1972, 2012])\n",
    "\n",
    "    xlim = ax[0].get_xlim()\n",
    "    \n",
    "   \n",
    "    ax[1].plot(range(0,max_basis), sum_squares, 'o', color=[1, 0, 0], markersize=6, linewidth=3)\n",
    "    ax[1].set_ylim([0, 8])\n",
    "    ax[1].set_xlim([-1, max_basis])\n",
    "    ax[1].set_xlabel('polynomial order', fontsize=20)\n",
    "\n",
    "    file_name = 'olympic_' + basis.__name__ + str(num_basis) + '.svg'\n",
    "    plt.savefig('./diagrams/'+file_name)\n"
   ]
  },
  {
   "cell_type": "code",
   "execution_count": null,
   "metadata": {
    "collapsed": false
   },
   "outputs": [],
   "source": [
    "%debug"
   ]
  },
  {
   "cell_type": "markdown",
   "metadata": {
    "slideshow": {
     "slide_type": "notes"
    }
   },
   "source": [
    "![](./diagrams/olympic_poly1.svg) "
   ]
  },
  {
   "cell_type": "markdown",
   "metadata": {
    "slideshow": {
     "slide_type": "slide"
    }
   },
   "source": [
    "![](./diagrams/olympic_poly2.svg) "
   ]
  },
  {
   "cell_type": "markdown",
   "metadata": {
    "slideshow": {
     "slide_type": "slide"
    }
   },
   "source": [
    "![](./diagrams/olympic_poly3.svg) "
   ]
  },
  {
   "cell_type": "markdown",
   "metadata": {
    "slideshow": {
     "slide_type": "slide"
    }
   },
   "source": [
    "![](./diagrams/olympicPoly4.svg) "
   ]
  },
  {
   "cell_type": "markdown",
   "metadata": {
    "slideshow": {
     "slide_type": "slide"
    }
   },
   "source": [
    "![](./diagrams/olympic_poly5.svg) "
   ]
  },
  {
   "cell_type": "markdown",
   "metadata": {
    "slideshow": {
     "slide_type": "slide"
    }
   },
   "source": [
    "![](./diagrams/olympic_poly6.svg) "
   ]
  },
  {
   "cell_type": "markdown",
   "metadata": {
    "slideshow": {
     "slide_type": "slide"
    }
   },
   "source": [
    "![](./diagrams/olympic_poly7.svg) "
   ]
  },
  {
   "cell_type": "markdown",
   "metadata": {
    "slideshow": {
     "slide_type": "slide"
    }
   },
   "source": [
    "#### Reading\n",
    "\n",
    "- Section 1.4 of @Rogers:book11.\n",
    "- Chapter 1, pg 1-6 of @Bishop:book06.\n",
    "- Chapter 3, Section 3.1 of @Bishop:book06 up to pg 143.\n",
    "\n",
    " "
   ]
  }
 ],
 "metadata": {
  "celltoolbar": "Slideshow",
  "kernelspec": {
   "display_name": "Python 3",
   "language": "python",
   "name": "python3"
  },
  "language_info": {
   "codemirror_mode": {
    "name": "ipython",
    "version": 3
   },
   "file_extension": ".py",
   "mimetype": "text/x-python",
   "name": "python",
   "nbconvert_exporter": "python",
   "pygments_lexer": "ipython3",
   "version": "3.4.3"
  }
 },
 "nbformat": 4,
 "nbformat_minor": 0
}
