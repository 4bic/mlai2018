{
 "cells": [
  {
   "cell_type": "markdown",
   "metadata": {
    "collapsed": true,
    "slideshow": {
     "slide_type": "skip"
    }
   },
   "source": [
    "jupyter nbconvert --to slides --reveal-prefix \"http://cdn.jsdelivr.net/reveal.js/2.6.2\""
   ]
  },
  {
   "cell_type": "code",
   "execution_count": 5,
   "metadata": {
    "collapsed": false,
    "slideshow": {
     "slide_type": "skip"
    }
   },
   "outputs": [],
   "source": [
    "import pods\n",
    "from matplotlib import pyplot as plt\n",
    "import numpy as np\n",
    "%matplotlib inline"
   ]
  },
  {
   "cell_type": "markdown",
   "metadata": {
    "slideshow": {
     "slide_type": "slide"
    }
   },
   "source": [
    "#### MLAI Week 4: Basis Functions\n",
    "\n",
    "### Neil D. Lawrence\n",
    "\n",
    "### 20th October 2015"
   ]
  },
  {
   "cell_type": "markdown",
   "metadata": {
    "slideshow": {
     "slide_type": "slide"
    }
   },
   "source": [
    "### Review\n",
    "- Last time: explored least squares for univariate and multivariate regression.\n",
    "- Introduced matrices, linear algebra and derivatives.\n",
    "- This time: introduce *basis functions* for non-linear regression models."
   ]
  },
  {
   "cell_type": "markdown",
   "metadata": {
    "slideshow": {
     "slide_type": "slide"
    }
   },
   "source": [
    "### Nonlinear Regression\n",
    "\n",
    "-   Problem with Linear Regression—$\\mathbf{x}$ may not be linearly\n",
    "    related to $\\mathbf{y}$.\n",
    "\n",
    "-   Potential solution: create a feature space: define\n",
    "    $\\phi(\\mathbf{x})$ where $\\phi(\\cdot)$ is a\n",
    "    nonlinear function of $\\mathbf{x}$.\n",
    "\n",
    "-   Model for target is a linear combination of these nonlinear\n",
    "    functions\n",
    "    $$f(\\mathbf{x}) = \\sum_{j=1}^k w_j \\phi_j(\\mathbf{x})$$"
   ]
  },
  {
   "cell_type": "markdown",
   "metadata": {
    "slideshow": {
     "slide_type": "slide"
    }
   },
   "source": [
    "### Quadratic Basis\n",
    "\n",
    "-   Basis functions can be global. E.g. quadratic basis:\n",
    "    $$\\boldsymbol{\\phi} = [{\\color{\\redColor}1}, {\\color{\\magentaColor}x}, {\\color{\\blueColor}x^2}]$$"
   ]
  },
  {
   "cell_type": "markdown",
   "metadata": {},
   "source": [
    "### Functions Derived from Quadratic Basis"
   ]
  },
  {
   "cell_type": "code",
   "execution_count": null,
   "metadata": {
    "collapsed": true
   },
   "outputs": [],
   "source": [
    "figure \n",
    "plotWidth = 6; \n",
    "w = randn(3, 1); \n",
    "phi = \\[phi1 phi2 phi3\\]; \n",
    "f =phi*w; \n",
    "a = plot(x, f, ’-’, ’color’, blueColor); \n",
    "hold on \n",
    "plot(x, phi1,’-’, ’color’, redColor); \n",
    "plot(x, phi2, ’-’, ’color’, magentaColor);\n",
    "plot(x, phi3, ’-’, ’color’, blueColor); \n",
    "set(gca, ’ylim’, \\[-4 3\\])\n",
    "set(gca, ’xtick’, \\[-1 0 1\\]) \n",
    "set(a, ’linewidth’, 3)\n",
    "xlabel(’$x$’) \n",
    "ylabel(’$f(x)$’)\n",
    "\n",
    "printLatexText(\\[’$\\color{\\redColor}w_1 = ' num2str(w(1)) '$,$\\color{\\magentaColor}w_2 = ' num2str(w(2)) '$,\n",
    "$\\color{\\blueColor}w_3 = ' num2str(w(3)) '$’\\],’quadraticFunctionText1’, ’../../../ml/tex/talks/’)\n",
    "\n",
    "ylim = get(gca, ’ylim’); xlim = get(gca, ’xlim’); \n",
    "line(\\[xlim(1)\n",
    "xlim(1)\\], ylim, ’color’, blackColor) \n",
    "line(xlim, \\[ylim(1) ylim(1)\\],’color’, blackColor) \n",
    "box off\n",
    "\n",
    "printLatexPlot(’quadraticFunction1’, dirName, plotWidth);\n",
    "\n",
    "w = randn(3, 1); \n",
    "f = phi\\*w; \n",
    "set(a, ’ydata’, f);\n",
    "\n",
    "printLatexText(\\[’$\\color{\\redColor}w_1 = ' num2str(w(1)) '$,$\\color{\\magentaColor}w_2 = ' num2str(w(2)) '$,\n",
    "$\\color{\\blueColor}w_3 = ' num2str(w(3)) '$’\\],’quadraticFunctionText2’, ’../../../ml/tex/talks/’)\n",
    "\n",
    "ylim = get(gca, ’ylim’); xlim = get(gca, ’xlim’); \n",
    "line(\\[xlim(1) xlim(1)\\], ylim, ’color’, blackColor) \n",
    "line(xlim, \\[ylim(1) ylim(1)\\], ’color’, blackColor) box off\n",
    "\n",
    "printLatexPlot(’quadraticFunction2’, dirName, plotWidth);\n",
    "\n",
    "w = randn(3, 1); \n",
    "f = phi\\*w; \n",
    "set(a, ’ydata’, f);\n",
    "\n",
    "printLatexText(\\[’$\\color{\\redColor}w_1 = ' num2str(w(1)) '$,\n",
    "$\\color{\\magentaColor}w_2 = ' num2str(w(2)) '$,\n",
    "$\\color{\\blueColor}w_3 = ' num2str(w(3)) '$’\\],\n",
    "’quadraticFunctionText3’, ’../../../ml/tex/talks/’)\n",
    "\n",
    "ylim = get(gca, ’ylim’); \n",
    "xlim = get(gca, ’xlim’); \n",
    "line(\\[xlim(1) xlim(1)\\], ylim, ’color’, blackColor) \n",
    "line(xlim, \\[ylim(1) ylim(1)\\], ’color’, blackColor) \n",
    "box off\n",
    "\n",
    "printLatexPlot(’quadraticFunction3’, dirName, plotWidth);"
   ]
  },
  {
   "cell_type": "markdown",
   "metadata": {
    "slideshow": {
     "slide_type": "skip"
    }
   },
   "source": [
    "$f(x) = {\\color{\\redColor}w_1} + {\\color{\\magentaColor}w_2x} + {\\color{\\blueColor}w_3 x^2}$"
   ]
  },
  {
   "cell_type": "code",
   "execution_count": null,
   "metadata": {
    "collapsed": true,
    "slideshow": {
     "slide_type": "skip"
    }
   },
   "outputs": [],
   "source": [
    "figure\n",
    "plotWidth = 6;\n",
    "xMin = -1.3; xMax = 1.3;\n",
    "x = linspace(xMin, xMax, 100)';\n",
    "phi1 = ones(100, 1);\n",
    "phi2 = x;\n",
    "phi3 = x.*x;\n",
    "\n",
    "a = plot(x, phi1, '-', 'color', redColor);\n",
    "set(gca, 'ylim', [-2 2]);\n",
    "set(gca, 'ytick', [-2 -1 0 1 2])\n",
    "set(gca, 'xtick', [-1 0 1])\n",
    "hold on\n",
    "set(a, 'linewidth', 3)\n",
    "text(0, 1.4, '\\color{\\redColor}$\\phi(x) = 1$', 'horizontalalignment', 'center')\n",
    "xlabel('$x$')\n",
    "ylabel('$\\phi(x)$')\n",
    "\n",
    "ylim = get(gca, 'ylim');\n",
    "xlim = get(gca, 'xlim');\n",
    "line([xlim(1) xlim(1)], ylim, 'color', blackColor)\n",
    "line(xlim, [ylim(1) ylim(1)], 'color', blackColor)\n",
    "box off\n",
    "\n",
    "printLatexPlot('quadraticBasis1', dirName, plotWidth);\n",
    "\n",
    "b = plot(x, phi2, '-', 'color', magentaColor);\n",
    "set(b, 'linewidth', 3)\n",
    "text(0, -0.7, '\\color{\\magentaColor}$\\phi(x) = x$', 'horizontalalignment', 'center')\n",
    "\n",
    "ylim = get(gca, 'ylim');\n",
    "xlim = get(gca, 'xlim');\n",
    "line([xlim(1) xlim(1)], ylim, 'color', blackColor)\n",
    "line(xlim, [ylim(1) ylim(1)], 'color', blackColor)\n",
    "box off\n",
    "\n",
    "printLatexPlot('quadraticBasis2', dirName, plotWidth);\n",
    "\n",
    "c = plot(x, phi3, '-', 'color', blueColor);\n",
    "set(c, 'linewidth', 3)\n",
    "text(0.75, -0.2, '\\color{\\blueColor}$\\phi(x) = x^2$', 'horizontalalignment', 'center')\n",
    "ylim = get(gca, 'ylim');\n",
    "xlim = get(gca, 'xlim');\n",
    "line([xlim(1) xlim(1)], ylim, 'color', blackColor)\n",
    "line(xlim, [ylim(1) ylim(1)], 'color', blackColor)\n",
    "box off\n",
    "\n",
    "printLatexPlot('quadraticBasis3', dirName, plotWidth);\n",
    "    \n"
   ]
  },
  {
   "cell_type": "markdown",
   "metadata": {
    "slideshow": {
     "slide_type": "slide"
    }
   },
   "source": [
    "### Radial Basis Functions\n",
    "\n",
    "-   Or they can be local. E.g. radial (or Gaussian) basis\n",
    "    $\\phi_j(x) = \\exp\\left(-\\frac{(x-\\mu_j)^2}{\\lengthScale^2}\\right)$\n"
   ]
  },
  {
   "cell_type": "code",
   "execution_count": null,
   "metadata": {
    "collapsed": true,
    "slideshow": {
     "slide_type": "skip"
    }
   },
   "outputs": [],
   "source": [
    "figure\n",
    "plotWidth = 8;\n",
    "options = printLatexOptions;\n",
    "options.maintainAspect = false;\n",
    "options.height = 4.5;\n",
    "xMin = -3; xMax = 3;\n",
    "x = linspace(xMin, xMax, 100)';\n",
    "phi1 = exp(-2*(x + 1).^2);\n",
    "phi2 = exp(-2*(x).^2);\n",
    "phi3 = exp(-2*(x - 1).^2);\n",
    "\n",
    "a = plot(x, phi1, '-', 'color', redColor);\n",
    "set(gca, 'ylim', [-0.6 1.6]);\n",
    "set(gca, 'xtick', [-2 -1 0 1 2])\n",
    "set(gca, 'ytick', [-1 0 1])\n",
    "hold on\n",
    "set(a, 'linewidth', 3)\n",
    "text(-1.25, -0.25, '\\color{\\redColor}\\small$\\phi_1(x) = e^{-2(x + 1)^2}$', 'horizontalalignment', 'center')\n",
    "xlabel('$x$')\n",
    "ylabel('$\\phi(x)$')\n",
    "ylim = get(gca, 'ylim');\n",
    "xlim = get(gca, 'xlim');\n",
    "line([xlim(1) xlim(1)], ylim, 'color', blackColor)\n",
    "line(xlim, [ylim(1) ylim(1)], 'color', blackColor)\n",
    "box off\n",
    "\n",
    "printLatexPlot('radialBasis1', dirName, plotWidth, options);\n",
    "\n",
    "b = plot(x, phi2, '-', 'color', magentaColor);\n",
    "set(b, 'linewidth', 3)\n",
    "text(0, 1.25, '\\color{\\magentaColor}\\small$\\phi_2(x) = e^{-2x^2}$', 'horizontalalignment', 'center')\n",
    "ylim = get(gca, 'ylim');\n",
    "xlim = get(gca, 'xlim');\n",
    "line([xlim(1) xlim(1)], ylim, 'color', blackColor)\n",
    "line(xlim, [ylim(1) ylim(1)], 'color', blackColor)\n",
    "box off\n",
    "\n",
    "printLatexPlot('radialBasis2', dirName, plotWidth, options);\n",
    "\n",
    "c = plot(x, phi3, '-', 'color', blueColor);\n",
    "set(c, 'linewidth', 3)\n",
    "text(1.25, -0.4, '\\color{\\blueColor}\\small$\\phi_3(x) = e^{-2(x-1)^2}$', 'horizontalalignment', 'center')\n",
    "\n",
    "ylim = get(gca, 'ylim');\n",
    "xlim = get(gca, 'xlim');\n",
    "line([xlim(1) xlim(1)], ylim, 'color', blackColor)\n",
    "line(xlim, [ylim(1) ylim(1)], 'color', blackColor)\n",
    "box off\n",
    "\n",
    "printLatexPlot('radialBasis3', dirName, plotWidth, options);\n",
    "    "
   ]
  },
  {
   "cell_type": "markdown",
   "metadata": {
    "slideshow": {
     "slide_type": "slide"
    }
   },
   "source": [
    "### Functions Derived from Radial Basis\n",
    "\n",
    "$f(x) = {\\color{\\redColor}w_1 e^{-2(x+1)^2}}  + {\\color{\\magentaColor}w_2e^{-2x^2}} + {\\color{\\blueColor}w_3 e^{-2(x-1)^2}}$"
   ]
  },
  {
   "cell_type": "code",
   "execution_count": null,
   "metadata": {
    "collapsed": true
   },
   "outputs": [],
   "source": [
    "figure\n",
    "plotWidth = 6;\n",
    "w = randn(3, 1);\n",
    "phi = [phi1 phi2 phi3];\n",
    "f = phi*w;\n",
    "a = plot(x, f, '-', 'color', blueColor);\n",
    "hold on\n",
    "plot(x, phi1, '-', 'color', redColor);\n",
    "plot(x, phi2, '-', 'color', magentaColor);\n",
    "plot(x, phi3, '-', 'color', blueColor);\n",
    "set(gca, 'ylim', [-2 2])\n",
    "set(gca, 'xtick', [-3 -2 -1 0 1 2 3])\n",
    "set(gca, 'ytick', [-2 -1 0 1 2])\n",
    "set(a, 'linewidth', 3)\n",
    "xlabel('$x$')\n",
    "ylabel('$f(x)$')\n",
    "\n",
    "% Print details for caption\n",
    "printLatexText(['$\\color{\\redColor}w_1 = ' num2str(w(1)) '$, $\\color{\\magentaColor}w_2 = ' num2str(w(2)) '$, $\\color{\\blueColor}w_3 = ' num2str(w(3)) '$'], 'radialFunctionText1', '../../../ml/tex/talks/')\n",
    "\n",
    "ylim = get(gca, 'ylim');\n",
    "xlim = get(gca, 'xlim');\n",
    "line([xlim(1) xlim(1)], ylim, 'color', blackColor)\n",
    "line(xlim, [ylim(1) ylim(1)], 'color', blackColor)\n",
    "box off\n",
    "\n",
    "% Print plot\n",
    "printLatexPlot('radialFunction1', dirName, plotWidth, options);\n",
    "\n",
    "% Second Function\n",
    "w = randn(3, 1);\n",
    "f = phi*w;\n",
    "set(a, 'ydata', f);\n",
    "\n",
    "% Print details for caption\n",
    "printLatexText(['$\\color{\\redColor}w_1 = ' num2str(w(1)) '$, $\\color{\\magentaColor}w_2 = ' num2str(w(2)) '$, $\\color{\\blueColor}w_3 = ' num2str(w(3)) '$'], 'radialFunctionText2', '../../../ml/tex/talks/')\n",
    "\n",
    "ylim = get(gca, 'ylim');\n",
    "xlim = get(gca, 'xlim');\n",
    "line([xlim(1) xlim(1)], ylim, 'color', blackColor)\n",
    "line(xlim, [ylim(1) ylim(1)], 'color', blackColor)\n",
    "box off\n",
    "\n",
    "% Print plot\n",
    "printLatexPlot('radialFunction2', dirName, plotWidth, options);\n",
    "\n",
    "% Third Function\n",
    "w = randn(3, 1);\n",
    "f = phi*w;\n",
    "set(a, 'ydata', f);\n",
    "\n",
    "% Print details for caption\n",
    "printLatexText(['$\\color{\\redColor}w_1 = ' num2str(w(1)) '$, $\\color{\\magentaColor}w_2 = ' num2str(w(2)) '$, $\\color{\\blueColor}w_3 = ' num2str(w(3)) '$'], 'radialFunctionText3', '../../../ml/tex/talks/')\n",
    "\n",
    "ylim = get(gca, 'ylim');\n",
    "xlim = get(gca, 'xlim');\n",
    "line([xlim(1) xlim(1)], ylim, 'color', blackColor)\n",
    "line(xlim, [ylim(1) ylim(1)], 'color', blackColor)\n",
    "box off\n",
    "\n",
    "\n",
    "% Print plot\n",
    "printLatexPlot('radialFunction3', dirName, plotWidth, options);\n",
    "\n"
   ]
  },
  {
   "cell_type": "markdown",
   "metadata": {
    "slideshow": {
     "slide_type": "slide"
    }
   },
   "source": [
    "### Basis Function Models\n",
    "\n",
    "-   The *prediction function* is now defined as\n",
    "    $$f(\\mathbf{x}_i) = \\sum_{j=1}^m w_j \\phi_{i, j} + c$$\n"
   ]
  },
  {
   "cell_type": "markdown",
   "metadata": {
    "slideshow": {
     "slide_type": "slide"
    }
   },
   "source": [
    "## Vector Notation\n",
    "\n",
    "-   Write in vector notation,\n",
    "    $$f(\\mathbf{x}_i) = \\mathbf{w}^\\top \\boldsymbol{\\phi}_i + c$$\n",
    "\n",
    "### Log Likelihood for Basis Function Model\n",
    "\n",
    "-   The likelihood of a single data point is\n",
    "    $$p\\left(y_i|x_i\\right)=\\frac{1}{\\sqrt{2\\pi\\sigma^2}}\\exp\n",
    "        \\left(-\\frac{\\left(y_i-\\mathbf{w}^{\\top}\\boldsymbol{\\phi}_i\\right)^{2}}{2\\sigma^2}\\right).$$\n",
    "\n",
    "-   Leading to a log likelihood for the data set of\n",
    "    $$L(\\mathbf{w},\\sigma^2)= -\\frac{n}{2}\\log \\sigma^2\n",
    "          -\\frac{n}{2}\\log 2\\pi -\\frac{\\sum\n",
    "            _{i=1}^{n}\\left(y_i-\\mathbf{w}^{\\top}\\boldsymbol{\\phi}_i\\right)^{2}}{2\\sigma^2}.$$\n",
    "\n",
    "-   And a corresponding *objective function* of the form\n",
    "    $$E(\\mathbf{w},\\sigma^2)= \\frac{n}{2}\\log\n",
    "          \\sigma^2 + \\frac{\\sum\n",
    "            _{i=1}^{n}\\left(y_i-\\mathbf{w}^{\\top}\\boldsymbol{\\phi}_i\\right)^{2}}{2\\sigma^2}.$$"
   ]
  },
  {
   "cell_type": "markdown",
   "metadata": {
    "slideshow": {
     "slide_type": "slide"
    }
   },
   "source": [
    "### Expand the Brackets\n",
    "\n",
    "$$\\begin{aligned}\n",
    "  E(\\mathbf{w},\\sigma^2)  = & \\frac{n}{2}\\log \\sigma^2 + \\frac{1}{2\\sigma^2}\\sum _{i=1}^{n}y_i^{2}-\\frac{1}{\\sigma^2}\\sum _{i=1}^{n}y_i\\mathbf{w}^{\\top}\\boldsymbol{\\phi}_i\\\\&+\\frac{1}{2\\sigma^2}\\sum _{i=1}^{n}\\mathbf{w}^{\\top}\\boldsymbol{\\phi}_i\\boldsymbol{\\phi}_i^{\\top}\\mathbf{w} +\\text{const}.\\\\\n",
    "    = & \\frac{n}{2}\\log \\sigma^2 + \\frac{1}{2\\sigma^2}\\sum _{i=1}^{n}y_i^{2}-\\frac{1}{\\sigma^2}\n",
    "  \\mathbf{w}^\\top\\sum_{i=1}^{n}\\boldsymbol{\\phi}_iy_i\\\\&+\\frac{1}{2\\sigma^2} \\mathbf{w}^{\\top}\\left[\\sum\n",
    "    _{i=1}^{n}\\boldsymbol{\\phi}_i\\boldsymbol{\\phi}_i^{\\top}\\right]\\mathbf{w} +\\text{const}.\\end{aligned}$$"
   ]
  },
  {
   "cell_type": "markdown",
   "metadata": {
    "slideshow": {
     "slide_type": "slide"
    }
   },
   "source": [
    "### Multivariate Derivatives Reminder\n",
    "\n",
    "-   We will need some multivariate calculus.\n",
    "    $$\\frac{\\text{d}\\mathbf{a}^{\\top}\\mathbf{w}}{\\text{d}\\mathbf{w}}=\\mathbf{a}$$\n",
    "    and\n",
    "    $$\\frac{\\text{d}\\mathbf{w}^{\\top}\\mathbf{A}\\mathbf{w}}{\\text{d}\\mathbf{w}}=\\left(\\mathbf{A}+\\mathbf{A}^{\\top}\\right)\\mathbf{w}$$\n",
    "    or if $\\mathbf{A}$ is symmetric (*i.e.*\n",
    "    $\\mathbf{A}=\\mathbf{A}^{\\top}$)\n",
    "    $$\\frac{\\text{d}\\mathbf{w}^{\\top}\\mathbf{A}\\mathbf{w}}{\\text{d}\\mathbf{w}}=2\\mathbf{A}\\mathbf{w}.$$"
   ]
  },
  {
   "cell_type": "markdown",
   "metadata": {
    "slideshow": {
     "slide_type": "slide"
    }
   },
   "source": [
    "### Differentiate\n",
    "\n",
    "Differentiating with respect to the vector $\\mathbf{w}$ we obtain\n",
    "$$\\frac{\\text{d} L\\left(\\mathbf{w},\\beta \\right)}{\\text{d} \\mathbf{w}}=\\frac{1}{\\sigma^2} \\sum _{i=1}^{n}\\boldsymbol{\\phi}_iy_i-\\frac{1}{\\sigma^2} \\left[\\sum _{i=1}^{n}\\boldsymbol{\\phi}_i\\boldsymbol{\\phi}_i^{\\top}\\right]\\mathbf{w}$$\n",
    "Leading to\n",
    "$$\\mathbf{w}^{*}=\\left[\\sum _{i=1}^{n}\\boldsymbol{\\phi}_i\\boldsymbol{\\phi}_i^{\\top}\\right]^{-1}\\sum _{i=1}^{n}\\boldsymbol{\\phi}_iy_i,$$\n",
    "Rewrite in matrix notation:\n",
    "$$\\sum _{i=1}^{n}\\boldsymbol{\\phi}_i\\boldsymbol{\\phi}_i^\\top = \\boldsymbol{\\Phi}^\\top \\boldsymbol{\\Phi}$$\n",
    "$$\\sum _{i=1}^{n}\\boldsymbol{\\phi}_iy_i = \\boldsymbol{\\Phi}^\\top \\mathbf{y}$$"
   ]
  },
  {
   "cell_type": "markdown",
   "metadata": {
    "slideshow": {
     "slide_type": "slide"
    }
   },
   "source": [
    "### Update Equations\n",
    "\n",
    "-   Update for $\\mathbf{w}^{*}$.\n",
    "    $$\\mathbf{w}^{*} = \\left(\\boldsymbol{\\Phi}^\\top \\boldsymbol{\\Phi}\\right)^{-1} \\boldsymbol{\\Phi}^\\top \\mathbf{y}$$\n",
    "\n",
    "-   The equation for $\\left.\\sigma^2\\right.^{*}$ may also be found\n",
    "    $$\\left.\\sigma^2\\right.^{{*}}=\\frac{\\sum _{i=1}^{n}\\left(y_i-\\left.\\mathbf{w}^{*}\\right.^{\\top}\\boldsymbol{\\phi}_i\\right)^{2}}{n}.$$"
   ]
  },
  {
   "cell_type": "markdown",
   "metadata": {
    "slideshow": {
     "slide_type": "slide"
    }
   },
   "source": [
    "### Avoid Direct Inverse\n",
    "\n",
    "- E.g. Solve for $\\mathbf{w}$\n",
    "  $$\\left(\\boldsymbol{\\Phi}^\\top \\boldsymbol{\\Phi}\\right)\\mathbf{w} = \\boldsymbol{\\Phi}^\\top \\mathbf{y}$$\n",
    "  \n",
    "- See `np.linalg.solve`\n",
    "\n",
    "- In practice use $"
   ]
  },
  {
   "cell_type": "markdown",
   "metadata": {
    "slideshow": {
     "slide_type": "slide"
    }
   },
   "source": [
    "### Polynomial Fits to Olympic Data"
   ]
  },
  {
   "cell_type": "code",
   "execution_count": 45,
   "metadata": {
    "collapsed": false,
    "slideshow": {
     "slide_type": "skip"
    }
   },
   "outputs": [
    {
     "data": {
      "image/png": "[encoded data removed]",
      "text/plain": [
       "<matplotlib.figure.Figure at 0x10a108470>"
      ]
     },
     "metadata": {},
     "output_type": "display_data"
    }
   ],
   "source": [
    "data = pods.datasets.olympic_100m_men()\n",
    "f, ax = plt.subplots(1, 2, figsize=(14,7))\n",
    "#ax.plot(data['X'], data['Y'], 'rx', markersize=10)\n",
    "x = data['X']\n",
    "y = data['Y']\n",
    "x_pred = np.linspace(1892, 2020, 130)[:, None]\n",
    "\n",
    "# Rescale x data\n",
    "x_span = x.max() - x.min()\n",
    "\n",
    "max_order = 6\n",
    "num_data = x.shape[0]\n",
    "err = np.array([np.nan]*(max_order+1))\n",
    "\n",
    "for order in range(0,max_order+1):\n",
    "    Phi = np.zeros((num_data, order+1))\n",
    "    Phi_pred = np.zeros((x_pred.shape[0], order+1))\n",
    "    for i in range(0,order+1):\n",
    "        Phi[:, i:i+1] = (2*(x-x.min())/x_span - 1)**i\n",
    "        Phi_pred[:, i:i+1] = (2*(x_pred-x.min())/x_span - 1)**i\n",
    "\n",
    "    # numerically this is not a good idea, but this is what the maths looks like\n",
    "    w_star = np.linalg.solve(np.dot(Phi.T,Phi),np.dot(Phi.T,y))\n",
    "    y_pred = np.dot(Phi_pred,w_star)\n",
    "    sum_squares = ((y - np.dot(Phi,w_star))**2).sum()\n",
    "    sigma2 = sum_squares/num_data;\n",
    "    \n",
    "    err[order] = num_data/2.*np.log(sigma2) + sum_squares/(2.*sigma2)\n",
    "\n",
    "    ax[0].cla()\n",
    "    ax[0].plot(x, y, 'o', color=[1, 0, 0], markersize=6, linewidth=3)\n",
    "    ylim = ax[0].get_ylim()\n",
    "    ax[0].plot(x_pred, y_pred, color=[0, 0, 1], linewidth=2)\n",
    "    ax[0].set_xlabel('year', fontsize=20)\n",
    "    ax[0].set_ylim(ylim)\n",
    "    plt.sca(ax[0])\n",
    "    plt.xticks([1892, 1932, 1972, 2012])\n",
    "\n",
    "    xlim = ax[0].get_xlim()\n",
    "    \n",
    "    file_name = 'olympicPolyFit' + str(order)   \n",
    "    plt.savefig('./diagrams/'+file_name) \n",
    "\n",
    "    ax[1].plot(range(0,max_order+1), err, 'o', color=[1, 0, 0], markersize=6, linewidth=3)\n",
    "    ax[1].set_ylim([-40, 0])\n",
    "    ax[1].set_xlim([-1, max_order+1])\n",
    "    ax[1].set_xlabel('polynomial order', fontsize=20)\n",
    "\n",
    "    file_name = 'olympicPolyError' + str(order)  \n",
    "    plt.savefig('./diagrams/'+file_name)\n"
   ]
  },
  {
   "cell_type": "markdown",
   "metadata": {
    "slideshow": {
     "slide_type": "slide"
    }
   },
   "source": [
    "#### Reading\n",
    "\n",
    "- Section 1.4 of @Rogers:book11.\n",
    "- Chapter 1, pg 1-6 of @Bishop:book06.\n",
    "- Chapter 3, Section 3.1 of @Bishop:book06 up to pg 143.\n",
    "\n",
    " "
   ]
  }
 ],
 "metadata": {
  "celltoolbar": "Slideshow",
  "kernelspec": {
   "display_name": "Python 3",
   "language": "python",
   "name": "python3"
  },
  "language_info": {
   "codemirror_mode": {
    "name": "ipython",
    "version": 3
   },
   "file_extension": ".py",
   "mimetype": "text/x-python",
   "name": "python",
   "nbconvert_exporter": "python",
   "pygments_lexer": "ipython3",
   "version": "3.4.3"
  }
 },
 "nbformat": 4,
 "nbformat_minor": 0
}
