{
 "cells": [
  {
   "cell_type": "code",
   "execution_count": null,
   "metadata": {
    "collapsed": true,
    "slideshow": {
     "slide_type": "skip"
    }
   },
   "outputs": [],
   "source": [
    "jupyter nbconvert --to slides --reveal-prefix \"http://cdn.jsdelivr.net/reveal.js/2.6.2\""
   ]
  },
  {
   "cell_type": "markdown",
   "metadata": {
    "slideshow": {
     "slide_type": "slide"
    }
   },
   "source": [
    "# Uncertainty and Probability\n",
    "\n",
    "\n",
    "### Neil D. Lawrence\n",
    "\n",
    "\n",
    "### Machine Learning and Adaptive Intelligence"
   ]
  },
  {
   "cell_type": "markdown",
   "metadata": {
    "slideshow": {
     "slide_type": "slide"
    }
   },
   "source": [
    "# Course Text\n",
    "\n",
    "<img src=\"diagrams/a-first-course-in-machine-learning.jpg\" height=100% align=center>\n",
    "\n",
    "@Rogers:book11\n"
   ]
  },
  {
   "cell_type": "markdown",
   "metadata": {
    "collapsed": true,
    "slideshow": {
     "slide_type": "slide"
    }
   },
   "source": [
    "# Course Text\n",
    "\n",
    "\n",
    "![](diagrams/978-0-387-31073-2.png)\n",
    "\n",
    "@Bishop:book06\n"
   ]
  },
  {
   "cell_type": "markdown",
   "metadata": {
    "slideshow": {
     "slide_type": "slide"
    }
   },
   "source": [
    "# What is Machine Learning?\n",
    "\n",
    "\n",
    "**<center>data + model = prediction</center>**\n",
    "\n",
    " -   **data** : observations, could be actively or passively\n",
    "    acquired (meta-data).\n",
    "\n",
    " -   **model** : assumptions, based on previous experience (other data!\n",
    "    transfer learning etc), or beliefs about the regularities of\n",
    "    the universe. Inductive bias.\n",
    "\n",
    " -   **prediction** : an action to be taken or a categorization or a\n",
    "    quality score.\n"
   ]
  },
  {
   "cell_type": "markdown",
   "metadata": {
    "slideshow": {
     "slide_type": "slide"
    }
   },
   "source": [
    "# Fitting Data\n",
    "\n",
    "- **data**"
   ]
  },
  {
   "cell_type": "code",
   "execution_count": 3,
   "metadata": {
    "collapsed": false,
    "slideshow": {
     "slide_type": "fragment"
    }
   },
   "outputs": [],
   "source": [
    "import numpy as np\n",
    "\n",
    "# Create some data\n",
    "x = np.array([1, 3])\n",
    "y = np.array([3, 1])"
   ]
  },
  {
   "cell_type": "markdown",
   "metadata": {
    "slideshow": {
     "slide_type": "fragment"
    }
   },
   "source": [
    "- **model**\n",
    "$$y=mx + c$$"
   ]
  },
  {
   "cell_type": "markdown",
   "metadata": {
    "slideshow": {
     "slide_type": "slide"
    }
   },
   "source": [
    "# Model Fitting\n",
    "\n",
    "$$m = \\frac{y_2- y_1}{x_2-x_1}$$\n",
    "$$ c = y_1 - m x_1 $$"
   ]
  },
  {
   "cell_type": "code",
   "execution_count": 4,
   "metadata": {
    "collapsed": false,
    "slideshow": {
     "slide_type": "fragment"
    }
   },
   "outputs": [],
   "source": [
    "xvals = np.linspace(0, 5, 2);\n",
    "\n",
    "m = (y[1]-y[0])/(x[1]-x[0]);\n",
    "c = y[0]-m*x[0];\n",
    "\n",
    "yvals = m*xvals+c;"
   ]
  },
  {
   "cell_type": "code",
   "execution_count": 5,
   "metadata": {
    "collapsed": false,
    "slideshow": {
     "slide_type": "subslide"
    }
   },
   "outputs": [
    {
     "data": {
      "image/png": "[encoded data removed]",
      "text/plain": [
       "<matplotlib.figure.Figure at 0x10923cb70>"
      ]
     },
     "metadata": {},
     "output_type": "display_data"
    }
   ],
   "source": [
    "%matplotlib inline\n",
    "import matplotlib.pyplot as plt\n",
    "\n",
    "xvals = np.linspace(0, 5, 2);\n",
    "\n",
    "m = (y[1]-y[0])/(x[1]-x[0]);\n",
    "c = y[0]-m*x[0];\n",
    "\n",
    "yvals = m*xvals+c;\n",
    "\n",
    "ylim = np.array([0, 5])\n",
    "xlim = np.array([0, 5])\n",
    "\n",
    "f, ax = plt.subplots(1,1,figsize=(5,5))\n",
    "a = ax.plot(xvals, yvals, '-', linewidth=3);\n",
    "\n",
    "ax.set_xlim(xlim)\n",
    "ax.set_ylim(ylim)\n",
    "\n",
    "plt.xlabel('$x$', fontsize=30)\n",
    "plt.ylabel('$y$',fontsize=30)\n",
    "plt.text(4, 4, '$y=mx+c$',  horizontalalignment='center', verticalalignment='bottom', fontsize=30)\n",
    "plt.savefig('diagrams/straight_line1.svg')\n",
    "ctext = ax.text(0.15, c+0.15, '$c$',  horizontalalignment='center', verticalalignment='bottom', fontsize=20)\n",
    "xl = np.array([1.5, 2.5])\n",
    "yl = xl*m + c;\n",
    "mhand = ax.plot([xl[0], xl[1]], [yl.min(), yl.min()], color=[0, 0, 0])\n",
    "mhand2 = ax.plot([xl.min(), xl.min()], [yl[0], yl[1]], color=[0, 0, 0])\n",
    "mtext = ax.text(xl.mean(), yl.min()-0.2, '$m$',  horizontalalignment='center', verticalalignment='bottom',fontsize=20);\n",
    "plt.savefig('diagrams/straight_line2.svg')\n",
    "\n",
    "a2 = ax.plot(x, y, '.', markersize=20, linewidth=3, color=[1, 0, 0])\n",
    "plt.savefig('diagrams/straight_line3.svg')\n",
    "\n",
    "xs = 2\n",
    "ys = m*xs + c + 0.3\n",
    "\n",
    "ast = ax.plot(xs, ys, '.', markersize=20, linewidth=3, color=[0, 1, 0])\n",
    "plt.savefig('diagrams/straight_line4.svg')\n",
    "\n",
    "\n",
    "m = (y[1]-ys)/(x[1]-xs);\n",
    "c = ys-m*xs;\n",
    "yvals = m*xvals+c;\n",
    "\n",
    "for i in a:\n",
    "    i.set_visible(False)\n",
    "for i in mhand:\n",
    "    i.set_visible(False)\n",
    "for i in mhand2:\n",
    "    i.set_visible(False)\n",
    "mtext.set_visible(False)\n",
    "ctext.set_visible(False)\n",
    "a3 = ax.plot(xvals, yvals, '-', linewidth=2, color=[0, 0, 1])\n",
    "for i in ast:\n",
    "    i.set_color([1, 0, 0])\n",
    "plt.savefig('diagrams/straight_line5.svg')\n",
    "\n",
    "m = (ys-y[0])/(xs-x[0])\n",
    "c = y[0]-m*x[0]\n",
    "yvals = m*xvals+c\n",
    "\n",
    "for i in a3:\n",
    "    i.set_visible(False)\n",
    "a4 = ax.plot(xvals, yvals, '-', linewidth=2, color=[0, 0, 1]);\n",
    "for i in ast:\n",
    "    i.set_color([1, 0, 0])\n",
    "plt.savefig('diagrams/straight_line6.svg')\n",
    "for i in a:\n",
    "    i.set_visible(True)\n",
    "for i in a3:\n",
    "    i.set_visible(True)\n",
    "plt.savefig('diagrams/straight_line7.svg')\n"
   ]
  },
  {
   "cell_type": "code",
   "execution_count": 6,
   "metadata": {
    "collapsed": false,
    "slideshow": {
     "slide_type": "slide"
    }
   },
   "outputs": [
    {
     "data": {
      "text/html": [
       "<img src='./diagrams/straight_line4.svg'>"
      ],
      "text/plain": [
       "<IPython.core.display.HTML object>"
      ]
     },
     "metadata": {},
     "output_type": "display_data"
    }
   ],
   "source": [
    "import pods\n",
    "pods.notebook.display_plots('straight_line{plot}.svg', \n",
    "                            directory='./diagrams', plot=(1, 7))\n"
   ]
  },
  {
   "cell_type": "markdown",
   "metadata": {
    "collapsed": true,
    "slideshow": {
     "slide_type": "slide"
    }
   },
   "source": [
    "# $y = mx + c$\n",
    "\n",
    "point 1: $x = 1$, $y=3$ $$3 = m + c$$ \n",
    "point 2: $x = 3$, $y=1$ $$1 = 3m + c$$ \n",
    "point 3: $x = 2$, $y=2.5$ $$2.5 = 2m + c$$"
   ]
  },
  {
   "cell_type": "markdown",
   "metadata": {
    "collapsed": true,
    "slideshow": {
     "slide_type": "slide"
    }
   },
   "source": [
    "<img src=\"diagrams/Pierre-Simon_Laplace.png\" align=center width=50%>"
   ]
  },
  {
   "cell_type": "markdown",
   "metadata": {
    "collapsed": true,
    "slideshow": {
     "slide_type": "slide"
    }
   },
   "source": [
    "<img src=\"diagrams/laplacesDeterminismFrench.png\" align=center width=50%>"
   ]
  },
  {
   "cell_type": "markdown",
   "metadata": {
    "collapsed": true,
    "slideshow": {
     "slide_type": "slide"
    }
   },
   "source": [
    "<img src=\"diagrams/laplacesDeterminismEnglish.png\" align=center width=50%>"
   ]
  },
  {
   "cell_type": "markdown",
   "metadata": {
    "collapsed": true,
    "slideshow": {
     "slide_type": "slide"
    }
   },
   "source": [
    "<img src=\"diagrams/philosophicaless00lapliala.png\" height=800>"
   ]
  },
  {
   "cell_type": "markdown",
   "metadata": {
    "collapsed": true,
    "slideshow": {
     "slide_type": "slide"
    }
   },
   "source": [
    "# $y = mx + c + \\epsilon$\n",
    "\n",
    "point 1: $x = 1$, $y=3$ \n",
    "$$3 = m + c + \\epsilon_1$$ \n",
    "\n",
    "point 2: $x = 3$, $y=1$ \n",
    "$$1 = 3m + c + \\epsilon_2$$ \n",
    "\n",
    "point 3: $x = 2$, $y=2.5$ \n",
    "$$2.5 = 2m + c + \\epsilon_3$$"
   ]
  },
  {
   "cell_type": "markdown",
   "metadata": {
    "slideshow": {
     "slide_type": "slide"
    }
   },
   "source": [
    "### Probability Review\n",
    "\n",
    "-   We are interested in trials which result in two random variables,\n",
    "    $X$ and $Y$, each of which has an ‘outcome’\n",
    "    \n",
    "    denoted by $x$ or $y$.\n",
    "\n",
    "-   We summarise the notation and terminology for these distributions in\n",
    "    the following table.\n",
    "       \n",
    "Terminology | Mathematical notation | Description\n",
    "------|-------------|-------------\n",
    "joint | $P(X=x, Y=y)$ | prob. that X=x *and* Y=y\n",
    "marginal | $P(X=x)$ | prob. that X=x *regardless of* Y\n",
    "conditional | $P(X=x|Y=y)$ | prob. that X=x *given that* Y=y\n",
    "\n",
    "<center>The different basic probability\n",
    "  distributions.</center>"
   ]
  },
  {
   "cell_type": "code",
   "execution_count": 6,
   "metadata": {
    "collapsed": false,
    "slideshow": {
     "slide_type": "subslide"
    }
   },
   "outputs": [
    {
     "data": {
      "image/png": "[encoded data removed]",
      "text/plain": [
       "<matplotlib.figure.Figure at 0x106f057b8>"
      ]
     },
     "metadata": {},
     "output_type": "display_data"
    }
   ],
   "source": [
    "marg = 0.05 # Distance between lines and boxes\n",
    "indent = 0.1 # indent of n indicators\n",
    "axis_indent = 0.3 # Axis indent.\n",
    "\n",
    "x = np.random.randn(100, 1)+4\n",
    "y = np.random.randn(100, 1)+2.5\n",
    "\n",
    "fig, ax =plt.subplots(figsize=(8, 8))\n",
    "\n",
    "# Basic plot set up.    \n",
    "a = ax.plot(x, y, 'x', color = [1, 0, 0])\n",
    "plt.axis('off')\n",
    "ax.set_xlim([0-2*marg, 6+2*marg])\n",
    "ax.set_ylim([0-2*marg, 4+2*marg])\n",
    "#ax.set_visible(False)\n",
    "for i in range(7):\n",
    "  ax.plot([i, i], [0, 5], color=[0, 0, 0])\n",
    "for i in range(5):\n",
    "  ax.plot([0, 7], [i, i], color=[0, 0, 0])\n",
    "\n",
    "for i in range(1, 5):\n",
    "  ax.text(-axis_indent, i-.5, str(i), horizontalalignment='center', fontsize=20)\n",
    "\n",
    "for i in range(1,7):\n",
    "  ax.text(i-0.5, -axis_indent, str(i), horizontalalignment='center', fontsize=20)\n",
    "\n",
    "# Box for y=4\n",
    "ax.plot([-marg, 6+marg, 6+marg, -marg, -marg], [3-marg, 3-marg, 4+marg, 4+marg, 3-marg], linestyle=':', linewidth=2, color=[1, 0, 0])\n",
    "ax.text(0.5, 4-indent, '$n_{Y=4}$', horizontalalignment='center', fontsize=20)\n",
    "\n",
    "# Box for x=5\n",
    "ax.plot([4-marg, 5+marg, 5+marg, 4-marg, 4-marg], [-marg, -marg, 4+marg, 4+marg, -marg], linestyle='--', linewidth=2, color=[1, 0, 0])\n",
    "ax.text(4.5, 4-indent, '$n_{X=5}$', horizontalalignment='center', fontsize=20)\n",
    "\n",
    "# Box for x=3, y=4\n",
    "ax.plot([2-2*marg, 3+2*marg, 3+2*marg, 2-2*marg, 2-2*marg], [3-2*marg, 3-2*marg, 4+2*marg, 4+2*marg, 3-2*marg], linestyle='--', linewidth=2, color=[1, 0, 1])\n",
    "ax.text(2.5, 4-indent, '$n_{X=3, Y=4}$', horizontalalignment='center', fontsize=20)\n",
    "\n",
    "\n",
    "plt.text(1.5, 0.5, '$N$ crosses total', horizontalalignment='center', fontsize=20);\n",
    "\n",
    "plt.text(3, -2*axis_indent, '$X$', fontsize=20)\n",
    "plt.text(-2*axis_indent, 2, '$Y$', fontsize=20)\n",
    "#ylabel('\\variableTwo')\n",
    "\n",
    "plt.savefig('diagrams/probDiagram.svg')\n"
   ]
  },
  {
   "cell_type": "markdown",
   "metadata": {
    "slideshow": {
     "slide_type": "slide"
    }
   },
   "source": [
    "# A Pictorial Definition of Probability\n",
    "\n",
    "![](diagrams/probDiagram.svg)"
   ]
  },
  {
   "cell_type": "markdown",
   "metadata": {
    "slideshow": {
     "slide_type": "slide"
    }
   },
   "source": [
    "### Different Distributions\n",
    "\n",
    "- Definition of probability distributions.\n",
    "\n",
    "Terminology      |  Definition                                              |         Probability Notation\n",
    "-----------------|----------------------------------------------------------|------------------------------                                                                                                                               \n",
    "  Joint Probability      | $\\lim_{N\\rightarrow\\infty}\\frac{n_{X=3,Y=4}}{N}$ | $P\\left(X=3,Y=4\\right)$\n",
    "  Marginal Probability |  $\\lim_{N\\rightarrow\\infty}\\frac{n_{X=5}}{N}$    | $P\\left(X=5\\right)$\n",
    " Conditional Probability | $\\lim_{N\\rightarrow\\infty}\\frac{n_{X=3,Y=4}}{n_{Y=4}}$ |  $P\\left(X=3|Y=4\\right)$"
   ]
  },
  {
   "cell_type": "markdown",
   "metadata": {
    "slideshow": {
     "slide_type": "slide"
    }
   },
   "source": [
    "# Notational Details\n",
    "\n",
    "-   Typically we should write out\n",
    "    $P\\left(X=x,Y=y\\right)$.\n",
    "\n",
    "-   In practice, we often use $P\\left(x,y\\right)$.\n",
    "\n",
    "-   This looks very much like we might write a multivariate function,\n",
    "    *e.g.*\n",
    "    $f\\left(x,y\\right)=\\frac{x}{y}$.\n",
    "\n",
    "    -   For a multivariate function though,\n",
    "        $f\\left(x,y\\right)\\neq f\\left(y,x\\right)$.\n",
    "\n",
    "    -   However\n",
    "        $P\\left(x,y\\right)=P\\left(y,x\\right)$\n",
    "        because\n",
    "        $P\\left(X=x,Y=y\\right)=P\\left(Y=y,X=x\\right)$.\n",
    "\n",
    "-   We now quickly review the ‘rules of probability’."
   ]
  },
  {
   "cell_type": "markdown",
   "metadata": {
    "slideshow": {
     "slide_type": "slide"
    }
   },
   "source": [
    "# Normalization\n",
    "\n",
    "*All* distributions are normalized. This is clear from the fact that\n",
    "$\\sum_{x}n_{x}=N$, which gives\n",
    "$$\\sum_{x}P\\left(x\\right)={\\lim_{N\\rightarrow\\infty}}\\frac{\\sum_{x}n_{x}}{N}={\\lim_{N\\rightarrow\\infty}}\\frac{N}{N}=1.$$\n",
    "A similar result can be derived for the marginal and conditional\n",
    "distributions."
   ]
  },
  {
   "cell_type": "markdown",
   "metadata": {
    "slideshow": {
     "slide_type": "slide"
    }
   },
   "source": [
    "# The Sum Rule\n",
    "\n",
    "Ignoring the limit in our definitions:\n",
    "\n",
    "-   The marginal probability $P\\left(y\\right)$ is\n",
    "    ${\\lim_{N\\rightarrow\\infty}}\\frac{n_{y}}{N}$ .\n",
    "\n",
    "-   The joint distribution $P\\left(x,y\\right)$ is\n",
    "    ${\\lim_{N\\rightarrow\\infty}}\\frac{n_{x,y}}{N}$.\n",
    "\n",
    "-   $n_{y}=\\sum_{x}n_{x,y}$\n",
    "    so$${\\lim_{N\\rightarrow\\infty}}\\frac{n_{y}}{N}={\\lim_{N\\rightarrow\\infty}}\\sum_{x}\\frac{n_{x,y}}{N},$$\n",
    "    in other words\n",
    "    $$P\\left(y\\right)=\\sum_{x}P\\left(x,y\\right).$$\n",
    "    This is known as the sum rule of probability."
   ]
  },
  {
   "cell_type": "markdown",
   "metadata": {
    "slideshow": {
     "slide_type": "slide"
    }
   },
   "source": [
    "# The Product Rule\n",
    "\n",
    "-   $P\\left(x|y\\right)$ is\n",
    "    $${\\lim_{N\\rightarrow\\infty}}\\frac{n_{x,y}}{n_{y}}.$$\n",
    "\n",
    "-   $P\\left(x,y\\right)$ is\n",
    "    $${\\lim_{N\\rightarrow\\infty}}\\frac{n_{x,y}}{N}={\\lim_{N\\rightarrow\\infty}}\\frac{n_{x,y}}{n_{y}}\\frac{n_{y}}{N}$$\n",
    "    or in other\n",
    "    words$$P\\left(x,y\\right)=P\\left(x|y\\right)P\\left(y\\right).$$\n",
    "    This is known as the product rule of probability."
   ]
  },
  {
   "cell_type": "markdown",
   "metadata": {
    "slideshow": {
     "slide_type": "slide"
    }
   },
   "source": [
    "# Bayes’ Rule\n",
    "\n",
    "-   From the product rule,\n",
    "    $$P\\left(y,x\\right)=P\\left(x,y\\right)=P\\left(x|y\\right)P\\left(y\\right),$$\n",
    "    so\n",
    "    $$P\\left(y|x\\right)P\\left(x\\right)=P\\left(x|y\\right)P\\left(y\\right)$$\n",
    "    which leads to Bayes’ rule,\n",
    "    $$P\\left(y|x\\right)=\\frac{P\\left(x|y\\right)P\\left(y\\right)}{P\\left(x\\right)}.$$"
   ]
  },
  {
   "cell_type": "markdown",
   "metadata": {
    "slideshow": {
     "slide_type": "slide"
    }
   },
   "source": [
    "# Bayes’ Theorem Example\n",
    "\n",
    "-   There are two barrels in front of you. Barrel One contains 20 apples\n",
    "    and 4 oranges. Barrel Two other contains 4 apples and 8 oranges. You\n",
    "    choose a barrel randomly and select a fruit. It is an apple. What is\n",
    "    the probability that the barrel was Barrel One?"
   ]
  },
  {
   "cell_type": "markdown",
   "metadata": {
    "slideshow": {
     "slide_type": "subslide"
    }
   },
   "source": [
    "# Bayes’ Theorem Example: Answer I\n",
    "\n",
    "-   We are given that: $$\\begin{aligned}\n",
    "          P(\\text{F}=\\text{A}|\\text{B}=1) = & 20/24 \\\\\n",
    "          P(\\text{F}=\\text{A}|\\text{B}=2) = & 4/12 \\\\\n",
    "          P(\\text{B}=1) = & 0.5 \\\\\n",
    "          P(\\text{B}=2) = & 0.5\n",
    "        \\end{aligned}$$"
   ]
  },
  {
   "cell_type": "markdown",
   "metadata": {
    "slideshow": {
     "slide_type": "subslide"
    }
   },
   "source": [
    "# Bayes’ Theorem Example: Answer II\n",
    "\n",
    "-   We use the sum rule to compute: $$\\begin{aligned}\n",
    "          P(\\text{F}=\\text{A}) = & P(\\text{F}=\\text{A}|\\text{B}=1)P(\\text{B}=1) \\\\& + P(\\text{F}=\\text{A}|\\text{B}=2)P(\\text{B}=2) \\\\\n",
    "          = & 20/24\\times 0.5 + 4/12 \\times 0.5 = 7/12\n",
    "        \\end{aligned}$$\n",
    "\n",
    "-   And Bayes’ theorem tells us that: $$\\begin{aligned}\n",
    "          P(\\text{B}=1|\\text{F}=\\text{A}) = & \\frac{P(\\text{F} = \\text{A}|\\text{B}=1)P(\\text{B}=1)}{P(\\text{F}=\\text{A})}\\\\ \n",
    "          = & \\frac{20/24 \\times 0.5}{7/12} = 5/7\n",
    "        \\end{aligned}$$\n",
    "\n"
   ]
  },
  {
   "cell_type": "markdown",
   "metadata": {
    "collapsed": true,
    "slideshow": {
     "slide_type": "slide"
    }
   },
   "source": [
    "# Reading & Exercises\n",
    "\n",
    "Before next week, review the example on Bayes Theorem!\n",
    "\n",
    "-   Read and *understand* Bishop on probability distributions: page\n",
    "    12–17 (Section 1.2).\n",
    "\n",
    "-   Complete Exercise 1.3 in Bishop."
   ]
  },
  {
   "cell_type": "markdown",
   "metadata": {
    "slideshow": {
     "slide_type": "slide"
    }
   },
   "source": [
    "# Expectation Computation Example\n",
    "\n",
    "-   Consider the following distribution.\n",
    "\n",
    "$y$        |  1  |  2  |  3  |  4\n",
    "-----------------------------|-----|-----|-----|-----\n",
    "$P\\left(y\\right)$ |  0.3|  0.2|  0.1|  0.4\n",
    "\n",
    "-   What is the mean of the distribution?\n",
    "\n",
    "-   What is the standard deviation of the distribution?\n",
    "\n",
    "-   Are the mean and standard deviation representative of the\n",
    "    distribution form?\n",
    "\n",
    "-   What is the expected value of $-\\log P(y)$?"
   ]
  },
  {
   "cell_type": "markdown",
   "metadata": {
    "slideshow": {
     "slide_type": "subslide"
    }
   },
   "source": [
    "# Expectations Example: Answer\n",
    "\n",
    "-   We are given that:\n",
    "\n",
    "$y$        |   1   |   2   |   3   |   4\n",
    "---------------------|-------|-------|-------|-------\n",
    "$P\\left(y\\right)$ |  0.3  |  0.2  |  0.1  |  0.4\n",
    "$y^2$       |   1   |   4   |   9   |  16\n",
    "  $-\\log(P(y))$   | 1.204 | 1.609 | 2.302 | 0.916\n",
    "\n",
    "-   Mean:\n",
    "    $1\\times 0.3 + 2\\times 0.2 + 3 \\times 0.1 + 4 \\times 0.4 = 2.6$\n",
    "\n",
    "-   Second moment:\n",
    "    $1 \\times 0.3 + 4 \\times 0.2 + 9 \\times 0.1 + 16 \\times 0.4 = 8.4$\n",
    "\n",
    "-   Variance: $8.4 - 2.6\\times 2.6 = 1.64$\n",
    "\n",
    "-   Standard deviation: $\\sqrt{1.64} = 1.2806$\n",
    "\n",
    "-   Expectation $-\\log(P(y))$:\n",
    "    $0.3\\times 1.204 + 0.2\\times 1.609 + 0.1\\times 2.302 +0.4\\times 0.916 = 1.280$"
   ]
  },
  {
   "cell_type": "markdown",
   "metadata": {
    "slideshow": {
     "slide_type": "slide"
    }
   },
   "source": [
    "# Sample Based Approximation Example\n",
    "\n",
    "-   You are given the following values samples of heights of students,\n",
    "\n",
    "$i$       |   1  |    2 |  3   |   4  |   5  |    6\n",
    "-----------------|------|------|------|------|------|------\n",
    "$y_i$ |  1.76|  1.73| 1.79 | 1.81 | 1.85 |  1.80\n",
    "\n",
    "-   What is the sample mean?\n",
    "\n",
    "-   What is the sample variance?\n",
    "\n",
    "-   Can you compute sample approximation expected value of\n",
    "    $-\\log P(y)$?\n",
    "\n",
    "-   Actually these “data” were sampled from a Gaussian with mean 1.7 and\n",
    "    standard deviation 0.15. Are your estimates close to the real\n",
    "    values? If not why not?"
   ]
  },
  {
   "cell_type": "markdown",
   "metadata": {
    "slideshow": {
     "slide_type": "subslide"
    }
   },
   "source": [
    "# Sample Based Approximation Example: Answer\n",
    "\n",
    "-   We can compute:\n",
    "\n",
    "$i$        |    1    |    2    |    3    |    4    |    5    |    6\n",
    "-------------------|--------|--------|--------|--------|--------|--------\n",
    "$y_i$  |   1.76  |   1.73  |   1.79  |   1.81  |   1.85  |   1.80\n",
    "$y^2_i$ |  3.0976 |  2.9929 |  3.2041 |  3.2761 |  3.4225 |  3.2400\n",
    "\n",
    "-   Mean: $\\frac{1.76 + 1.73 + 1.79 + 1.81 + 1.85 + 1.80}{6} = 1.79$\n",
    "\n",
    "-   Second moment:\n",
    "    $ \\frac{3.0976 + 2.9929 + 3.2041 + 3.2761 + 3.4225 + 3.2400}{6} = 3.2055$\n",
    "\n",
    "-   Variance: $3.2055 - 1.79\\times1.79 = 1.43\\times 10^{-3}$\n",
    "\n",
    "-   Standard deviation: $0.0379$\n",
    "\n",
    "-   No, you can’t compute it. You don’t have access to\n",
    "    $P(y)$ directly."
   ]
  },
  {
   "cell_type": "markdown",
   "metadata": {
    "slideshow": {
     "slide_type": "slide"
    }
   },
   "source": [
    "# Reading\n",
    "\n",
    "-   See probability review at end of slides for reminders.\n",
    "\n",
    "-   Read and *understand* @Rogers:book11 on:\n",
    "\n",
    "    1.  Section 2.2 (pg 41–53).\n",
    "\n",
    "    2.  Section 2.4 (pg 55–58).\n",
    "\n",
    "    3.  Section 2.5.1 (pg 58–60).\n",
    "\n",
    "    4.  Section 2.5.3 (pg 61–62).\n",
    "\n",
    "-   For other material in @Bishop:book06 read:\n",
    "\n",
    "    1.  Probability densities: Section 1.2.1 (Pages 17–19).\n",
    "\n",
    "    2.  Expectations and Covariances: Section 1.2.2 (Pages 19–20).\n",
    "\n",
    "    3.  The Gaussian density: Section 1.2.4 (Pages 24–28) (don’t worry\n",
    "        about material on bias).\n",
    "\n",
    "    4.  For material on information theory and KL divergence try Section\n",
    "        1.6 & 1.6.1 of @Bishop:book06 (pg 48 onwards).\n",
    "\n",
    "-   If you are unfamiliar with probabilities you should complete the\n",
    "    following exercises:\n",
    "\n",
    "    1.  @Bishop:book06 Exercise 1.7\n",
    "\n",
    "    2.  @Bishop:book06 Exercise 1.8\n",
    "\n",
    "    3.  @Bishop:book06 Exercise 1.9"
   ]
  }
 ],
 "metadata": {
  "celltoolbar": "Slideshow",
  "kernelspec": {
   "display_name": "Python 3",
   "language": "python",
   "name": "python3"
  },
  "language_info": {
   "codemirror_mode": {
    "name": "ipython",
    "version": 3
   },
   "file_extension": ".py",
   "mimetype": "text/x-python",
   "name": "python",
   "nbconvert_exporter": "python",
   "pygments_lexer": "ipython3",
   "version": "3.4.3"
  }
 },
 "nbformat": 4,
 "nbformat_minor": 0
}
