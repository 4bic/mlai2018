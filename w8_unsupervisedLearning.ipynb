{
 "cells": [
  {
   "cell_type": "markdown",
   "metadata": {
    "slideshow": {
     "slide_type": "slide"
    }
   },
   "source": [
    "# MLAI Week 8: Unsupervised Learning\n",
    "\n",
    "### Neil D. Lawrence\n",
    "\n",
    "### 17th November 2015"
   ]
  },
  {
   "cell_type": "code",
   "execution_count": 5,
   "metadata": {
    "collapsed": false,
    "slideshow": {
     "slide_type": "skip"
    }
   },
   "outputs": [],
   "source": [
    "import pods\n",
    "import mlai\n",
    "import numpy as np\n",
    "import matplotlib.pyplot as plt\n",
    "%matplotlib inline\n"
   ]
  },
  {
   "cell_type": "markdown",
   "metadata": {
    "slideshow": {
     "slide_type": "slide"
    }
   },
   "source": [
    "### Review\n",
    "\n",
    "* Last time: Looked at Bayesian Regression.\n",
    "* Introduced priors and marginal likelihoods.\n",
    "* This time: Unsupervised Learning"
   ]
  },
  {
   "cell_type": "markdown",
   "metadata": {
    "slideshow": {
     "slide_type": "slide"
    }
   },
   "source": [
    "### Unsupervised Learning\n",
    "\n",
    "* Supervised learning is learning where each data has a label (e.g. regression output)\n",
    "* In unsupervised learning we have no labels for the data.\n",
    "* Often thought of as structure discovery.\n",
    "    * Finding features in the data\n",
    "    * Exploratory data analysis"
   ]
  },
  {
   "cell_type": "markdown",
   "metadata": {
    "slideshow": {
     "slide_type": "slide"
    }
   },
   "source": [
    "### Clustering\n",
    "\n",
    "* One common approach, not deeply covered in this course. \n",
    "* Associate each data point, $\\mathbf{y}_{i, :}$ with one of $k$ different discrete groups.\n",
    "* For example:\n",
    "    * Clustering animals into discrete groups. Are animals discrete or continuous?\n",
    "    * Clustering into different different *political* affiliations.\n",
    "* Humans do seem to like clusters:\n",
    "    * Very useful when interacting with biologists.\n",
    "* Subtle difference between clustering and *vector quantisation*\n"
   ]
  },
  {
   "cell_type": "markdown",
   "metadata": {
    "slideshow": {
     "slide_type": "slide"
    }
   },
   "source": [
    "### Trying to Teach About Infinity\n",
    "\n",
    "* Little anecdote."
   ]
  },
  {
   "cell_type": "markdown",
   "metadata": {
    "slideshow": {
     "slide_type": "slide"
    }
   },
   "source": [
    "### Clustering and Vector Quantisation\n",
    "\n",
    "* To my mind difference is in clustering there should be a reduction in data density between samples.\n",
    "* This definition is not universally applied.\n",
    "* For today's purposes we merge them:\n",
    "    * Determine how to allocate each point to a group and *harder* total number of groups."
   ]
  },
  {
   "cell_type": "markdown",
   "metadata": {
    "slideshow": {
     "slide_type": "slide"
    }
   },
   "source": [
    "### $k$-means Clustering\n",
    "\n",
    "* Simple algorithm for allocating points to groups. \n",
    "* *Require*: Set of $k$ cluster centres & assignment of each points to a cluster.\n",
    "    1. Initialize cluster centres as randomly selected data points.\n",
    "    2. Assign each data point to *nearest* cluster centre.\n",
    "    3. Update each cluster centre by setting it to the mean of assigned data points.\n",
    "    4. Repeat 2 and 3 until cluster allocations do not change."
   ]
  },
  {
   "cell_type": "markdown",
   "metadata": {
    "slideshow": {
     "slide_type": "slide"
    }
   },
   "source": [
    "### Objective Function\n",
    "\n",
    "* This minimizes the objective\n",
    "  $$\n",
    "    E=\\sum_{j=1}^K \\sum_{i\\ \\text{allocated to}\\ j}  \\left(\\mathbf{y}_{i, :} - \\boldsymbol{\\mu}_{j, :}\\right)^\\top\\left(\\mathbf{y}_{i, :} - \\boldsymbol{\\mu}_{j, :}\\right)\n",
    "  $$\n",
    "  *i.e.* it minimizes thesum of Euclidean squared distances betwen points and their associated centres.\n",
    "* The minimum is *not* guaranteed to be *global* or *unique*.\n",
    "* This objective is a non-convex optimization problem."
   ]
  },
  {
   "cell_type": "code",
   "execution_count": 6,
   "metadata": {
    "collapsed": false,
    "slideshow": {
     "slide_type": "skip"
    }
   },
   "outputs": [
    {
     "data": {
      "image/png": "[encoded data removed]",
      "text/plain": [
       "<matplotlib.figure.Figure at 0x109847b00>"
      ]
     },
     "metadata": {},
     "output_type": "display_data"
    }
   ],
   "source": [
    "def write_plot(counter, caption):\n",
    "    filebase = './diagrams/kmeans_clustering_'+str(counter)\n",
    "    plt.savefig(filebase + '.svg')\n",
    "    f = open(filebase + '.tex', 'w')\n",
    "    f.write(caption)\n",
    "    f.close()\n",
    "    \n",
    "fig, ax = plt.subplots(figsize=(7,7))\n",
    "fontsize = 20\n",
    "\n",
    "num_clust_points = 30\n",
    "\n",
    "Y = np.vstack([np.random.normal(size=(num_clust_points, 2)) + 2.5,\n",
    "       np.random.normal(size=(num_clust_points, 2)) - 2.5,\n",
    "       np.random.normal(size=(num_clust_points, 2)) + np.array([2.5, -2.5])])\n",
    "\n",
    "centre_inds = np.random.permutation(Y.shape[0])[:3]\n",
    "centres = Y[centre_inds, :]\n",
    "\n",
    "ax.cla()\n",
    "\n",
    "ax.plot(Y[:, 0], Y[:, 1], '.', color=[0, 0, 0], markersize=10)\n",
    "ax.set_xlabel('$y_1$')\n",
    "ax.set_ylabel('$y_2$')\n",
    "ax.set_title('Data')\n",
    "counter=0\n",
    "write_plot(counter, 'Data set to be analyzed. Initialize cluster centers.')\n",
    "ax.plot(centres[:, 0], centres[:, 1], 'o', color=[0,0,0], linewidth=3, markersize=12)    \n",
    "counter+=1\n",
    "write_plot(counter, 'Allocate each point to the cluster with the nearest center')\n",
    "i = 0\n",
    "\n",
    "for i in range(6):\n",
    "    dist_mat = ((Y[:, :, None] - centres.T[None, :, :])**2).sum(1)\n",
    "    ind = dist_mat.argmin(1)\n",
    "    ax.cla()\n",
    "    ax.plot(Y[ind==0, 0], Y[ind==0, 1], 'x', color= [1, 0, 0], markersize=10)\n",
    "    ax.plot(Y[ind==1, 0], Y[ind==1, 1], 'o', color=[0, 1, 0], markersize=10)\n",
    "    ax.plot(Y[ind==2, 0], Y[ind==2, 1], '+', color=[0, 0, 1], markersize=10)\n",
    "    c = ax.plot(centres[:, 0], centres[:, 1], 'o', color=[0,0, 0], markersize=12, linewidth=3)\n",
    "    ax.set_xlabel('$y_1$',fontsize=fontsize)\n",
    "    ax.set_ylabel('$y_2$',fontsize=fontsize)\n",
    "    ax.set_title('Iteration ' + str(i))\n",
    "    counter+=1\n",
    "    write_plot(counter, 'Update each centre by setting to the mean of the allocated points.')\n",
    "    for j in range(centres.shape[0]):\n",
    "          centres[j, :] = np.mean(Y[ind==j, :], 0)\n",
    "    c[0].set_data(centres[:, 0], centres[:, 1])\n",
    "    counter+=1\n",
    "    plt.savefig('./diagrams/kmeans_clustering_' + str(counter) + '.svg')\n",
    "    write_plot(counter, 'Allocate each data point to the nearest cluster center.')\n",
    "\n",
    "\n"
   ]
  },
  {
   "cell_type": "code",
   "execution_count": 7,
   "metadata": {
    "collapsed": false,
    "slideshow": {
     "slide_type": "slide"
    }
   },
   "outputs": [
    {
     "data": {
      "image/svg+xml": [
       "<svg height=\"504pt\" version=\"1.1\" viewBox=\"0 0 504 504\" width=\"504pt\" xmlns=\"http://www.w3.org/2000/svg\" xmlns:xlink=\"http://www.w3.org/1999/xlink\">\n",
       " <defs>\n",
       "  <style type=\"text/css\">\n",
       "*{stroke-linecap:butt;stroke-linejoin:round;}\n",
       "  </style>\n",
       " </defs>\n",
       " <g id=\"figure_1\">\n",
       "  <g id=\"patch_1\">\n",
       "   <path d=\" M0 504 L504 504 L504 0 L0 0 z \" style=\"fill:#ffffff;\"/>\n",
       "  </g>\n",
       "  <g id=\"axes_1\">\n",
       "   <g id=\"patch_2\">\n",
       "    <path d=\" M63 441 L453.6 441 L453.6 50.4 L63 50.4 z \" style=\"fill:#ffffff;\"/>\n",
       "   </g>\n",
       "   <g id=\"line2d_1\">\n",
       "    <defs>\n",
       "     <path d=\" M-5 5 L5 -5 M-5 -5 L5 5\" id=\"m1e2c92650e\" style=\"stroke:#ff0000;stroke-width:0.5;\"/>\n",
       "    </defs>\n",
       "    <g clip-path=\"url(#p41d7ee9abc)\">\n",
       "     <use style=\"fill:#ff0000;stroke:#ff0000;stroke-width:0.5;\" x=\"130.825009155\" xlink:href=\"#m1e2c92650e\" y=\"307.760103444\"/>\n",
       "     <use style=\"fill:#ff0000;stroke:#ff0000;stroke-width:0.5;\" x=\"225.436608588\" xlink:href=\"#m1e2c92650e\" y=\"322.566474113\"/>\n",
       "     <use style=\"fill:#ff0000;stroke:#ff0000;stroke-width:0.5;\" x=\"167.376342572\" xlink:href=\"#m1e2c92650e\" y=\"350.225751478\"/>\n",
       "     <use style=\"fill:#ff0000;stroke:#ff0000;stroke-width:0.5;\" x=\"215.779399603\" xlink:href=\"#m1e2c92650e\" y=\"320.56599654\"/>\n",
       "     <use style=\"fill:#ff0000;stroke:#ff0000;stroke-width:0.5;\" x=\"98.5891759337\" xlink:href=\"#m1e2c92650e\" y=\"317.657476276\"/>\n",
       "     <use style=\"fill:#ff0000;stroke:#ff0000;stroke-width:0.5;\" x=\"155.169306698\" xlink:href=\"#m1e2c92650e\" y=\"276.133736829\"/>\n",
       "     <use style=\"fill:#ff0000;stroke:#ff0000;stroke-width:0.5;\" x=\"171.677343695\" xlink:href=\"#m1e2c92650e\" y=\"294.987121314\"/>\n",
       "     <use style=\"fill:#ff0000;stroke:#ff0000;stroke-width:0.5;\" x=\"188.932069946\" xlink:href=\"#m1e2c92650e\" y=\"320.295008178\"/>\n",
       "     <use style=\"fill:#ff0000;stroke:#ff0000;stroke-width:0.5;\" x=\"179.059500815\" xlink:href=\"#m1e2c92650e\" y=\"304.048862666\"/>\n",
       "     <use style=\"fill:#ff0000;stroke:#ff0000;stroke-width:0.5;\" x=\"139.778986951\" xlink:href=\"#m1e2c92650e\" y=\"363.700761514\"/>\n",
       "     <use style=\"fill:#ff0000;stroke:#ff0000;stroke-width:0.5;\" x=\"123.486475433\" xlink:href=\"#m1e2c92650e\" y=\"341.095121911\"/>\n",
       "     <use style=\"fill:#ff0000;stroke:#ff0000;stroke-width:0.5;\" x=\"125.833393017\" xlink:href=\"#m1e2c92650e\" y=\"298.304166135\"/>\n",
       "     <use style=\"fill:#ff0000;stroke:#ff0000;stroke-width:0.5;\" x=\"182.596884942\" xlink:href=\"#m1e2c92650e\" y=\"346.768698116\"/>\n",
       "     <use style=\"fill:#ff0000;stroke:#ff0000;stroke-width:0.5;\" x=\"204.64482337\" xlink:href=\"#m1e2c92650e\" y=\"251.680386811\"/>\n",
       "     <use style=\"fill:#ff0000;stroke:#ff0000;stroke-width:0.5;\" x=\"207.322592117\" xlink:href=\"#m1e2c92650e\" y=\"406.204530537\"/>\n",
       "     <use style=\"fill:#ff0000;stroke:#ff0000;stroke-width:0.5;\" x=\"153.748366046\" xlink:href=\"#m1e2c92650e\" y=\"358.779063394\"/>\n",
       "     <use style=\"fill:#ff0000;stroke:#ff0000;stroke-width:0.5;\" x=\"151.405049635\" xlink:href=\"#m1e2c92650e\" y=\"344.594857513\"/>\n",
       "     <use style=\"fill:#ff0000;stroke:#ff0000;stroke-width:0.5;\" x=\"171.20145899\" xlink:href=\"#m1e2c92650e\" y=\"308.829629295\"/>\n",
       "     <use style=\"fill:#ff0000;stroke:#ff0000;stroke-width:0.5;\" x=\"202.235036015\" xlink:href=\"#m1e2c92650e\" y=\"349.671288789\"/>\n",
       "     <use style=\"fill:#ff0000;stroke:#ff0000;stroke-width:0.5;\" x=\"152.358560396\" xlink:href=\"#m1e2c92650e\" y=\"334.745389661\"/>\n",
       "     <use style=\"fill:#ff0000;stroke:#ff0000;stroke-width:0.5;\" x=\"166.5960694\" xlink:href=\"#m1e2c92650e\" y=\"288.458355567\"/>\n",
       "     <use style=\"fill:#ff0000;stroke:#ff0000;stroke-width:0.5;\" x=\"85.4282741355\" xlink:href=\"#m1e2c92650e\" y=\"309.075066503\"/>\n",
       "     <use style=\"fill:#ff0000;stroke:#ff0000;stroke-width:0.5;\" x=\"207.15030341\" xlink:href=\"#m1e2c92650e\" y=\"336.493904141\"/>\n",
       "     <use style=\"fill:#ff0000;stroke:#ff0000;stroke-width:0.5;\" x=\"189.323957826\" xlink:href=\"#m1e2c92650e\" y=\"351.823646076\"/>\n",
       "     <use style=\"fill:#ff0000;stroke:#ff0000;stroke-width:0.5;\" x=\"186.7403293\" xlink:href=\"#m1e2c92650e\" y=\"279.144028487\"/>\n",
       "     <use style=\"fill:#ff0000;stroke:#ff0000;stroke-width:0.5;\" x=\"179.496502776\" xlink:href=\"#m1e2c92650e\" y=\"369.879060271\"/>\n",
       "     <use style=\"fill:#ff0000;stroke:#ff0000;stroke-width:0.5;\" x=\"219.88575784\" xlink:href=\"#m1e2c92650e\" y=\"356.410634962\"/>\n",
       "     <use style=\"fill:#ff0000;stroke:#ff0000;stroke-width:0.5;\" x=\"199.094871447\" xlink:href=\"#m1e2c92650e\" y=\"277.117822826\"/>\n",
       "     <use style=\"fill:#ff0000;stroke:#ff0000;stroke-width:0.5;\" x=\"126.97318331\" xlink:href=\"#m1e2c92650e\" y=\"329.373920699\"/>\n",
       "     <use style=\"fill:#ff0000;stroke:#ff0000;stroke-width:0.5;\" x=\"142.084486961\" xlink:href=\"#m1e2c92650e\" y=\"336.105797187\"/>\n",
       "     <use style=\"fill:#ff0000;stroke:#ff0000;stroke-width:0.5;\" x=\"334.224047588\" xlink:href=\"#m1e2c92650e\" y=\"399.418123296\"/>\n",
       "     <use style=\"fill:#ff0000;stroke:#ff0000;stroke-width:0.5;\" x=\"262.485497345\" xlink:href=\"#m1e2c92650e\" y=\"340.678465673\"/>\n",
       "     <use style=\"fill:#ff0000;stroke:#ff0000;stroke-width:0.5;\" x=\"280.324426459\" xlink:href=\"#m1e2c92650e\" y=\"336.124411276\"/>\n",
       "     <use style=\"fill:#ff0000;stroke:#ff0000;stroke-width:0.5;\" x=\"312.472375202\" xlink:href=\"#m1e2c92650e\" y=\"312.864123842\"/>\n",
       "     <use style=\"fill:#ff0000;stroke:#ff0000;stroke-width:0.5;\" x=\"386.981051694\" xlink:href=\"#m1e2c92650e\" y=\"307.398817451\"/>\n",
       "     <use style=\"fill:#ff0000;stroke:#ff0000;stroke-width:0.5;\" x=\"388.822285891\" xlink:href=\"#m1e2c92650e\" y=\"308.584522404\"/>\n",
       "     <use style=\"fill:#ff0000;stroke:#ff0000;stroke-width:0.5;\" x=\"291.574238245\" xlink:href=\"#m1e2c92650e\" y=\"321.110881985\"/>\n",
       "     <use style=\"fill:#ff0000;stroke:#ff0000;stroke-width:0.5;\" x=\"324.213295215\" xlink:href=\"#m1e2c92650e\" y=\"326.145221184\"/>\n",
       "     <use style=\"fill:#ff0000;stroke:#ff0000;stroke-width:0.5;\" x=\"331.125177416\" xlink:href=\"#m1e2c92650e\" y=\"345.341733194\"/>\n",
       "     <use style=\"fill:#ff0000;stroke:#ff0000;stroke-width:0.5;\" x=\"356.474304008\" xlink:href=\"#m1e2c92650e\" y=\"318.778107734\"/>\n",
       "     <use style=\"fill:#ff0000;stroke:#ff0000;stroke-width:0.5;\" x=\"327.142085298\" xlink:href=\"#m1e2c92650e\" y=\"364.828264024\"/>\n",
       "     <use style=\"fill:#ff0000;stroke:#ff0000;stroke-width:0.5;\" x=\"424.881555316\" xlink:href=\"#m1e2c92650e\" y=\"356.320380558\"/>\n",
       "     <use style=\"fill:#ff0000;stroke:#ff0000;stroke-width:0.5;\" x=\"369.768040189\" xlink:href=\"#m1e2c92650e\" y=\"350.644044764\"/>\n",
       "     <use style=\"fill:#ff0000;stroke:#ff0000;stroke-width:0.5;\" x=\"324.83763038\" xlink:href=\"#m1e2c92650e\" y=\"352.430376664\"/>\n",
       "     <use style=\"fill:#ff0000;stroke:#ff0000;stroke-width:0.5;\" x=\"305.120059384\" xlink:href=\"#m1e2c92650e\" y=\"280.999828672\"/>\n",
       "     <use style=\"fill:#ff0000;stroke:#ff0000;stroke-width:0.5;\" x=\"344.583391767\" xlink:href=\"#m1e2c92650e\" y=\"308.676149814\"/>\n",
       "     <use style=\"fill:#ff0000;stroke:#ff0000;stroke-width:0.5;\" x=\"352.495327262\" xlink:href=\"#m1e2c92650e\" y=\"351.80502159\"/>\n",
       "     <use style=\"fill:#ff0000;stroke:#ff0000;stroke-width:0.5;\" x=\"309.603809596\" xlink:href=\"#m1e2c92650e\" y=\"352.533317354\"/>\n",
       "     <use style=\"fill:#ff0000;stroke:#ff0000;stroke-width:0.5;\" x=\"264.757374307\" xlink:href=\"#m1e2c92650e\" y=\"343.919876368\"/>\n",
       "     <use style=\"fill:#ff0000;stroke:#ff0000;stroke-width:0.5;\" x=\"406.136419468\" xlink:href=\"#m1e2c92650e\" y=\"388.087803046\"/>\n",
       "     <use style=\"fill:#ff0000;stroke:#ff0000;stroke-width:0.5;\" x=\"331.152280279\" xlink:href=\"#m1e2c92650e\" y=\"268.276440756\"/>\n",
       "     <use style=\"fill:#ff0000;stroke:#ff0000;stroke-width:0.5;\" x=\"365.753617959\" xlink:href=\"#m1e2c92650e\" y=\"322.183491402\"/>\n",
       "     <use style=\"fill:#ff0000;stroke:#ff0000;stroke-width:0.5;\" x=\"356.523872363\" xlink:href=\"#m1e2c92650e\" y=\"343.02219714\"/>\n",
       "     <use style=\"fill:#ff0000;stroke:#ff0000;stroke-width:0.5;\" x=\"402.685612528\" xlink:href=\"#m1e2c92650e\" y=\"360.205408601\"/>\n",
       "     <use style=\"fill:#ff0000;stroke:#ff0000;stroke-width:0.5;\" x=\"309.88396563\" xlink:href=\"#m1e2c92650e\" y=\"317.499317759\"/>\n",
       "     <use style=\"fill:#ff0000;stroke:#ff0000;stroke-width:0.5;\" x=\"319.014519242\" xlink:href=\"#m1e2c92650e\" y=\"275.772625565\"/>\n",
       "     <use style=\"fill:#ff0000;stroke:#ff0000;stroke-width:0.5;\" x=\"385.451186843\" xlink:href=\"#m1e2c92650e\" y=\"364.752004179\"/>\n",
       "     <use style=\"fill:#ff0000;stroke:#ff0000;stroke-width:0.5;\" x=\"338.924447323\" xlink:href=\"#m1e2c92650e\" y=\"335.920894372\"/>\n",
       "     <use style=\"fill:#ff0000;stroke:#ff0000;stroke-width:0.5;\" x=\"330.010017545\" xlink:href=\"#m1e2c92650e\" y=\"334.155032405\"/>\n",
       "     <use style=\"fill:#ff0000;stroke:#ff0000;stroke-width:0.5;\" x=\"334.588409113\" xlink:href=\"#m1e2c92650e\" y=\"346.423951888\"/>\n",
       "    </g>\n",
       "   </g>\n",
       "   <g id=\"line2d_2\">\n",
       "    <defs>\n",
       "     <path d=\" M0 5 C1.32602 5 2.5979 4.47317 3.53553 3.53553 C4.47317 2.5979 5 1.32602 5 0 C5 -1.32602 4.47317 -2.5979 3.53553 -3.53553 C2.5979 -4.47317 1.32602 -5 0 -5 C-1.32602 -5 -2.5979 -4.47317 -3.53553 -3.53553 C-4.47317 -2.5979 -5 -1.32602 -5 0 C-5 1.32602 -4.47317 2.5979 -3.53553 3.53553 C-2.5979 4.47317 -1.32602 5 0 5 z \" id=\"m7813ac0a1d\" style=\"stroke:#000000;stroke-width:0.5;\"/>\n",
       "    </defs>\n",
       "    <g clip-path=\"url(#p41d7ee9abc)\">\n",
       "     <use style=\"fill:#00ff00;stroke:#000000;stroke-width:0.5;\" x=\"359.01065658\" xlink:href=\"#m7813ac0a1d\" y=\"234.785805758\"/>\n",
       "     <use style=\"fill:#00ff00;stroke:#000000;stroke-width:0.5;\" x=\"357.015574874\" xlink:href=\"#m7813ac0a1d\" y=\"178.621389996\"/>\n",
       "     <use style=\"fill:#00ff00;stroke:#000000;stroke-width:0.5;\" x=\"366.89759997\" xlink:href=\"#m7813ac0a1d\" y=\"189.650649023\"/>\n",
       "     <use style=\"fill:#00ff00;stroke:#000000;stroke-width:0.5;\" x=\"335.978642382\" xlink:href=\"#m7813ac0a1d\" y=\"172.455247282\"/>\n",
       "     <use style=\"fill:#00ff00;stroke:#000000;stroke-width:0.5;\" x=\"325.441900299\" xlink:href=\"#m7813ac0a1d\" y=\"212.536803267\"/>\n",
       "     <use style=\"fill:#00ff00;stroke:#000000;stroke-width:0.5;\" x=\"358.365747994\" xlink:href=\"#m7813ac0a1d\" y=\"131.358514372\"/>\n",
       "     <use style=\"fill:#00ff00;stroke:#000000;stroke-width:0.5;\" x=\"320.570363822\" xlink:href=\"#m7813ac0a1d\" y=\"136.853345322\"/>\n",
       "     <use style=\"fill:#00ff00;stroke:#000000;stroke-width:0.5;\" x=\"355.629215191\" xlink:href=\"#m7813ac0a1d\" y=\"197.051098837\"/>\n",
       "     <use style=\"fill:#00ff00;stroke:#000000;stroke-width:0.5;\" x=\"335.128767926\" xlink:href=\"#m7813ac0a1d\" y=\"160.117907584\"/>\n",
       "     <use style=\"fill:#00ff00;stroke:#000000;stroke-width:0.5;\" x=\"289.750727692\" xlink:href=\"#m7813ac0a1d\" y=\"181.217549963\"/>\n",
       "     <use style=\"fill:#00ff00;stroke:#000000;stroke-width:0.5;\" x=\"371.665342635\" xlink:href=\"#m7813ac0a1d\" y=\"179.067782593\"/>\n",
       "     <use style=\"fill:#00ff00;stroke:#000000;stroke-width:0.5;\" x=\"346.625870518\" xlink:href=\"#m7813ac0a1d\" y=\"168.650279596\"/>\n",
       "     <use style=\"fill:#00ff00;stroke:#000000;stroke-width:0.5;\" x=\"320.988757659\" xlink:href=\"#m7813ac0a1d\" y=\"158.208848073\"/>\n",
       "     <use style=\"fill:#00ff00;stroke:#000000;stroke-width:0.5;\" x=\"324.96934385\" xlink:href=\"#m7813ac0a1d\" y=\"153.423242411\"/>\n",
       "     <use style=\"fill:#00ff00;stroke:#000000;stroke-width:0.5;\" x=\"403.830917564\" xlink:href=\"#m7813ac0a1d\" y=\"184.743652485\"/>\n",
       "     <use style=\"fill:#00ff00;stroke:#000000;stroke-width:0.5;\" x=\"363.146479658\" xlink:href=\"#m7813ac0a1d\" y=\"168.378386387\"/>\n",
       "     <use style=\"fill:#00ff00;stroke:#000000;stroke-width:0.5;\" x=\"352.456669359\" xlink:href=\"#m7813ac0a1d\" y=\"149.133392392\"/>\n",
       "     <use style=\"fill:#00ff00;stroke:#000000;stroke-width:0.5;\" x=\"297.303763506\" xlink:href=\"#m7813ac0a1d\" y=\"152.108351539\"/>\n",
       "     <use style=\"fill:#00ff00;stroke:#000000;stroke-width:0.5;\" x=\"315.419041053\" xlink:href=\"#m7813ac0a1d\" y=\"186.709539891\"/>\n",
       "     <use style=\"fill:#00ff00;stroke:#000000;stroke-width:0.5;\" x=\"363.584848124\" xlink:href=\"#m7813ac0a1d\" y=\"177.096729157\"/>\n",
       "     <use style=\"fill:#00ff00;stroke:#000000;stroke-width:0.5;\" x=\"343.004132067\" xlink:href=\"#m7813ac0a1d\" y=\"140.193702887\"/>\n",
       "     <use style=\"fill:#00ff00;stroke:#000000;stroke-width:0.5;\" x=\"292.169119991\" xlink:href=\"#m7813ac0a1d\" y=\"144.741141096\"/>\n",
       "     <use style=\"fill:#00ff00;stroke:#000000;stroke-width:0.5;\" x=\"307.411166597\" xlink:href=\"#m7813ac0a1d\" y=\"214.931292092\"/>\n",
       "     <use style=\"fill:#00ff00;stroke:#000000;stroke-width:0.5;\" x=\"331.561695186\" xlink:href=\"#m7813ac0a1d\" y=\"194.974684621\"/>\n",
       "     <use style=\"fill:#00ff00;stroke:#000000;stroke-width:0.5;\" x=\"374.409940501\" xlink:href=\"#m7813ac0a1d\" y=\"191.815777562\"/>\n",
       "     <use style=\"fill:#00ff00;stroke:#000000;stroke-width:0.5;\" x=\"328.741133155\" xlink:href=\"#m7813ac0a1d\" y=\"184.611183608\"/>\n",
       "    </g>\n",
       "   </g>\n",
       "   <g id=\"line2d_3\">\n",
       "    <defs>\n",
       "     <path d=\" M-5 0 L5 0 M0 5 L0 -5\" id=\"mb436b58393\" style=\"stroke:#0000ff;stroke-width:0.5;\"/>\n",
       "    </defs>\n",
       "    <g clip-path=\"url(#p41d7ee9abc)\">\n",
       "     <use style=\"fill:#0000ff;stroke:#0000ff;stroke-width:0.5;\" x=\"356.247384365\" xlink:href=\"#mb436b58393\" y=\"67.8401600595\"/>\n",
       "     <use style=\"fill:#0000ff;stroke:#0000ff;stroke-width:0.5;\" x=\"309.204119276\" xlink:href=\"#mb436b58393\" y=\"103.019966242\"/>\n",
       "     <use style=\"fill:#0000ff;stroke:#0000ff;stroke-width:0.5;\" x=\"318.170911993\" xlink:href=\"#mb436b58393\" y=\"67.2168795633\"/>\n",
       "     <use style=\"fill:#0000ff;stroke:#0000ff;stroke-width:0.5;\" x=\"341.456361601\" xlink:href=\"#mb436b58393\" y=\"108.993901604\"/>\n",
       "    </g>\n",
       "   </g>\n",
       "   <g id=\"line2d_4\">\n",
       "    <defs>\n",
       "     <path d=\" M0 6 C1.59122 6 3.11748 5.3678 4.24264 4.24264 C5.3678 3.11748 6 1.59122 6 0 C6 -1.59122 5.3678 -3.11748 4.24264 -4.24264 C3.11748 -5.3678 1.59122 -6 0 -6 C-1.59122 -6 -3.11748 -5.3678 -4.24264 -4.24264 C-5.3678 -3.11748 -6 -1.59122 -6 0 C-6 1.59122 -5.3678 3.11748 -4.24264 4.24264 C-3.11748 5.3678 -1.59122 6 0 6 z \" id=\"m601a4abb1a\" style=\"stroke:#000000;stroke-width:0.5;\"/>\n",
       "    </defs>\n",
       "    <g clip-path=\"url(#p41d7ee9abc)\">\n",
       "     <use style=\"stroke:#000000;stroke-width:0.5;\" x=\"256.268746199\" xlink:href=\"#m601a4abb1a\" y=\"326.405074097\"/>\n",
       "     <use style=\"stroke:#000000;stroke-width:0.5;\" x=\"339.435233687\" xlink:href=\"#m601a4abb1a\" y=\"165.605117992\"/>\n",
       "     <use style=\"stroke:#000000;stroke-width:0.5;\" x=\"337.209148179\" xlink:href=\"#m601a4abb1a\" y=\"67.5285198114\"/>\n",
       "    </g>\n",
       "   </g>\n",
       "   <g id=\"patch_3\">\n",
       "    <path d=\" M63 50.4 L453.6 50.4\" style=\"fill:none;stroke:#000000;stroke-linecap:square;stroke-linejoin:miter;\"/>\n",
       "   </g>\n",
       "   <g id=\"patch_4\">\n",
       "    <path d=\" M453.6 441 L453.6 50.4\" style=\"fill:none;stroke:#000000;stroke-linecap:square;stroke-linejoin:miter;\"/>\n",
       "   </g>\n",
       "   <g id=\"patch_5\">\n",
       "    <path d=\" M63 441 L453.6 441\" style=\"fill:none;stroke:#000000;stroke-linecap:square;stroke-linejoin:miter;\"/>\n",
       "   </g>\n",
       "   <g id=\"patch_6\">\n",
       "    <path d=\" M63 441 L63 50.4\" style=\"fill:none;stroke:#000000;stroke-linecap:square;stroke-linejoin:miter;\"/>\n",
       "   </g>\n",
       "   <g id=\"matplotlib.axis_1\">\n",
       "    <g id=\"xtick_1\">\n",
       "     <g id=\"line2d_5\">\n",
       "      <defs>\n",
       "       <path d=\" M0 0 L0 -4\" id=\"mc7db9fdffb\" style=\"stroke:#000000;stroke-width:0.5;\"/>\n",
       "      </defs>\n",
       "      <g>\n",
       "       <use style=\"stroke:#000000;stroke-width:0.5;\" x=\"63.0\" xlink:href=\"#mc7db9fdffb\" y=\"441.0\"/>\n",
       "      </g>\n",
       "     </g>\n",
       "     <g id=\"line2d_6\">\n",
       "      <defs>\n",
       "       <path d=\" M0 0 L0 4\" id=\"m5a7d422ac3\" style=\"stroke:#000000;stroke-width:0.5;\"/>\n",
       "      </defs>\n",
       "      <g>\n",
       "       <use style=\"stroke:#000000;stroke-width:0.5;\" x=\"63.0\" xlink:href=\"#m5a7d422ac3\" y=\"50.4\"/>\n",
       "      </g>\n",
       "     </g>\n",
       "     <g id=\"text_1\">\n",
       "      <!-- −6 -->\n",
       "      <defs>\n",
       "       <path d=\" M10.5938 35.5 L73.1875 35.5 L73.1875 27.2031 L10.5938 27.2031 z \" id=\"BitstreamVeraSans-Roman-2212\"/>\n",
       "       <path d=\" M33.0156 40.375 Q26.375 40.375 22.4844 35.8281 Q18.6094 31.2969 18.6094 23.3906 Q18.6094 15.5312 22.4844 10.9531 Q26.375 6.39062 33.0156 6.39062 Q39.6562 6.39062 43.5312 10.9531 Q47.4062 15.5312 47.4062 23.3906 Q47.4062 31.2969 43.5312 35.8281 Q39.6562 40.375 33.0156 40.375 M52.5938 71.2969 L52.5938 62.3125 Q48.875 64.0625 45.0938 64.9844 Q41.3125 65.9219 37.5938 65.9219 Q27.8281 65.9219 22.6719 59.3281 Q17.5312 52.7344 16.7969 39.4062 Q19.6719 43.6562 24.0156 45.9219 Q28.375 48.1875 33.5938 48.1875 Q44.5781 48.1875 50.9531 41.5156 Q57.3281 34.8594 57.3281 23.3906 Q57.3281 12.1562 50.6875 5.35938 Q44.0469 -1.42188 33.0156 -1.42188 Q20.3594 -1.42188 13.6719 8.26562 Q6.98438 17.9688 6.98438 36.375 Q6.98438 53.6562 15.1875 63.9375 Q23.3906 74.2188 37.2031 74.2188 Q40.9219 74.2188 44.7031 73.4844 Q48.4844 72.75 52.5938 71.2969\" id=\"BitstreamVeraSans-Roman-36\"/>\n",
       "      </defs>\n",
       "      <g transform=\"translate(56.4734375 452.5984375)scale(0.1 -0.1)\">\n",
       "       <use xlink:href=\"#BitstreamVeraSans-Roman-2212\"/>\n",
       "       <use x=\"83.7890625\" xlink:href=\"#BitstreamVeraSans-Roman-36\"/>\n",
       "      </g>\n",
       "     </g>\n",
       "    </g>\n",
       "    <g id=\"xtick_2\">\n",
       "     <g id=\"line2d_7\">\n",
       "      <g>\n",
       "       <use style=\"stroke:#000000;stroke-width:0.5;\" x=\"128.1\" xlink:href=\"#mc7db9fdffb\" y=\"441.0\"/>\n",
       "      </g>\n",
       "     </g>\n",
       "     <g id=\"line2d_8\">\n",
       "      <g>\n",
       "       <use style=\"stroke:#000000;stroke-width:0.5;\" x=\"128.1\" xlink:href=\"#m5a7d422ac3\" y=\"50.4\"/>\n",
       "      </g>\n",
       "     </g>\n",
       "     <g id=\"text_2\">\n",
       "      <!-- −4 -->\n",
       "      <defs>\n",
       "       <path d=\" M37.7969 64.3125 L12.8906 25.3906 L37.7969 25.3906 z  M35.2031 72.9062 L47.6094 72.9062 L47.6094 25.3906 L58.0156 25.3906 L58.0156 17.1875 L47.6094 17.1875 L47.6094 0 L37.7969 0 L37.7969 17.1875 L4.89062 17.1875 L4.89062 26.7031 z \" id=\"BitstreamVeraSans-Roman-34\"/>\n",
       "      </defs>\n",
       "      <g transform=\"translate(121.5390625 452.5984375)scale(0.1 -0.1)\">\n",
       "       <use xlink:href=\"#BitstreamVeraSans-Roman-2212\"/>\n",
       "       <use x=\"83.7890625\" xlink:href=\"#BitstreamVeraSans-Roman-34\"/>\n",
       "      </g>\n",
       "     </g>\n",
       "    </g>\n",
       "    <g id=\"xtick_3\">\n",
       "     <g id=\"line2d_9\">\n",
       "      <g>\n",
       "       <use style=\"stroke:#000000;stroke-width:0.5;\" x=\"193.2\" xlink:href=\"#mc7db9fdffb\" y=\"441.0\"/>\n",
       "      </g>\n",
       "     </g>\n",
       "     <g id=\"line2d_10\">\n",
       "      <g>\n",
       "       <use style=\"stroke:#000000;stroke-width:0.5;\" x=\"193.2\" xlink:href=\"#m5a7d422ac3\" y=\"50.4\"/>\n",
       "      </g>\n",
       "     </g>\n",
       "     <g id=\"text_3\">\n",
       "      <!-- −2 -->\n",
       "      <defs>\n",
       "       <path d=\" M19.1875 8.29688 L53.6094 8.29688 L53.6094 0 L7.32812 0 L7.32812 8.29688 Q12.9375 14.1094 22.625 23.8906 Q32.3281 33.6875 34.8125 36.5312 Q39.5469 41.8438 41.4219 45.5312 Q43.3125 49.2188 43.3125 52.7812 Q43.3125 58.5938 39.2344 62.25 Q35.1562 65.9219 28.6094 65.9219 Q23.9688 65.9219 18.8125 64.3125 Q13.6719 62.7031 7.8125 59.4219 L7.8125 69.3906 Q13.7656 71.7812 18.9375 73 Q24.125 74.2188 28.4219 74.2188 Q39.75 74.2188 46.4844 68.5469 Q53.2188 62.8906 53.2188 53.4219 Q53.2188 48.9219 51.5312 44.8906 Q49.8594 40.875 45.4062 35.4062 Q44.1875 33.9844 37.6406 27.2188 Q31.1094 20.4531 19.1875 8.29688\" id=\"BitstreamVeraSans-Roman-32\"/>\n",
       "      </defs>\n",
       "      <g transform=\"translate(186.859375 452.5984375)scale(0.1 -0.1)\">\n",
       "       <use xlink:href=\"#BitstreamVeraSans-Roman-2212\"/>\n",
       "       <use x=\"83.7890625\" xlink:href=\"#BitstreamVeraSans-Roman-32\"/>\n",
       "      </g>\n",
       "     </g>\n",
       "    </g>\n",
       "    <g id=\"xtick_4\">\n",
       "     <g id=\"line2d_11\">\n",
       "      <g>\n",
       "       <use style=\"stroke:#000000;stroke-width:0.5;\" x=\"258.3\" xlink:href=\"#mc7db9fdffb\" y=\"441.0\"/>\n",
       "      </g>\n",
       "     </g>\n",
       "     <g id=\"line2d_12\">\n",
       "      <g>\n",
       "       <use style=\"stroke:#000000;stroke-width:0.5;\" x=\"258.3\" xlink:href=\"#m5a7d422ac3\" y=\"50.4\"/>\n",
       "      </g>\n",
       "     </g>\n",
       "     <g id=\"text_4\">\n",
       "      <!-- 0 -->\n",
       "      <defs>\n",
       "       <path d=\" M31.7812 66.4062 Q24.1719 66.4062 20.3281 58.9062 Q16.5 51.4219 16.5 36.375 Q16.5 21.3906 20.3281 13.8906 Q24.1719 6.39062 31.7812 6.39062 Q39.4531 6.39062 43.2812 13.8906 Q47.125 21.3906 47.125 36.375 Q47.125 51.4219 43.2812 58.9062 Q39.4531 66.4062 31.7812 66.4062 M31.7812 74.2188 Q44.0469 74.2188 50.5156 64.5156 Q56.9844 54.8281 56.9844 36.375 Q56.9844 17.9688 50.5156 8.26562 Q44.0469 -1.42188 31.7812 -1.42188 Q19.5312 -1.42188 13.0625 8.26562 Q6.59375 17.9688 6.59375 36.375 Q6.59375 54.8281 13.0625 64.5156 Q19.5312 74.2188 31.7812 74.2188\" id=\"BitstreamVeraSans-Roman-30\"/>\n",
       "      </defs>\n",
       "      <g transform=\"translate(255.78046875 452.5984375)scale(0.1 -0.1)\">\n",
       "       <use xlink:href=\"#BitstreamVeraSans-Roman-30\"/>\n",
       "      </g>\n",
       "     </g>\n",
       "    </g>\n",
       "    <g id=\"xtick_5\">\n",
       "     <g id=\"line2d_13\">\n",
       "      <g>\n",
       "       <use style=\"stroke:#000000;stroke-width:0.5;\" x=\"323.4\" xlink:href=\"#mc7db9fdffb\" y=\"441.0\"/>\n",
       "      </g>\n",
       "     </g>\n",
       "     <g id=\"line2d_14\">\n",
       "      <g>\n",
       "       <use style=\"stroke:#000000;stroke-width:0.5;\" x=\"323.4\" xlink:href=\"#m5a7d422ac3\" y=\"50.4\"/>\n",
       "      </g>\n",
       "     </g>\n",
       "     <g id=\"text_5\">\n",
       "      <!-- 2 -->\n",
       "      <g transform=\"translate(321.0859375 452.5984375)scale(0.1 -0.1)\">\n",
       "       <use xlink:href=\"#BitstreamVeraSans-Roman-32\"/>\n",
       "      </g>\n",
       "     </g>\n",
       "    </g>\n",
       "    <g id=\"xtick_6\">\n",
       "     <g id=\"line2d_15\">\n",
       "      <g>\n",
       "       <use style=\"stroke:#000000;stroke-width:0.5;\" x=\"388.5\" xlink:href=\"#mc7db9fdffb\" y=\"441.0\"/>\n",
       "      </g>\n",
       "     </g>\n",
       "     <g id=\"line2d_16\">\n",
       "      <g>\n",
       "       <use style=\"stroke:#000000;stroke-width:0.5;\" x=\"388.5\" xlink:href=\"#m5a7d422ac3\" y=\"50.4\"/>\n",
       "      </g>\n",
       "     </g>\n",
       "     <g id=\"text_6\">\n",
       "      <!-- 4 -->\n",
       "      <g transform=\"translate(385.84375 452.5984375)scale(0.1 -0.1)\">\n",
       "       <use xlink:href=\"#BitstreamVeraSans-Roman-34\"/>\n",
       "      </g>\n",
       "     </g>\n",
       "    </g>\n",
       "    <g id=\"xtick_7\">\n",
       "     <g id=\"line2d_17\">\n",
       "      <g>\n",
       "       <use style=\"stroke:#000000;stroke-width:0.5;\" x=\"453.6\" xlink:href=\"#mc7db9fdffb\" y=\"441.0\"/>\n",
       "      </g>\n",
       "     </g>\n",
       "     <g id=\"line2d_18\">\n",
       "      <g>\n",
       "       <use style=\"stroke:#000000;stroke-width:0.5;\" x=\"453.6\" xlink:href=\"#m5a7d422ac3\" y=\"50.4\"/>\n",
       "      </g>\n",
       "     </g>\n",
       "     <g id=\"text_7\">\n",
       "      <!-- 6 -->\n",
       "      <g transform=\"translate(451.0828125 452.5984375)scale(0.1 -0.1)\">\n",
       "       <use xlink:href=\"#BitstreamVeraSans-Roman-36\"/>\n",
       "      </g>\n",
       "     </g>\n",
       "    </g>\n",
       "    <g id=\"text_8\">\n",
       "     <!-- $y_1$ -->\n",
       "     <defs>\n",
       "      <path d=\" M9.28125 0 L9.28125 3.51562 Q21.7812 3.51562 21.7812 6.6875 L21.7812 59.1875 Q16.6094 56.6875 8.6875 56.6875 L8.6875 60.2031 Q20.9531 60.2031 27.2031 66.6094 L28.6094 66.6094 Q28.9531 66.6094 29.2656 66.3281 Q29.5938 66.0625 29.5938 65.7188 L29.5938 6.6875 Q29.5938 3.51562 42.0938 3.51562 L42.0938 0 z \" id=\"Cmr10-31\"/>\n",
       "      <path d=\" M8.40625 -14.3125 Q10.5 -17.9219 15.7188 -17.9219 Q20.4531 -17.9219 23.9219 -14.5938 Q27.3906 -11.2812 29.5156 -6.5625 Q31.6406 -1.85938 32.8125 3.07812 Q28.375 -1.125 23.1875 -1.125 Q19.2344 -1.125 16.4531 0.234375 Q13.6719 1.60938 12.125 4.3125 Q10.5938 7.03125 10.5938 10.8906 Q10.5938 14.1562 11.4688 17.5938 Q12.3594 21.0469 13.9375 25.2656 Q15.5312 29.5 16.7031 32.625 Q18.0156 36.2812 18.0156 38.625 Q18.0156 41.6094 15.8281 41.6094 Q11.8594 41.6094 9.29688 37.5312 Q6.73438 33.4531 5.51562 28.4219 Q5.32812 27.7812 4.6875 27.7812 L3.51562 27.7812 Q2.6875 27.7812 2.6875 28.7188 L2.6875 29 Q4.29688 34.9688 7.60938 39.5781 Q10.9375 44.1875 16.0156 44.1875 Q19.5781 44.1875 22.0469 41.8438 Q24.5156 39.5 24.5156 35.8906 Q24.5156 34.0312 23.6875 31.9844 Q23.25 30.7656 21.6875 26.6562 Q20.125 22.5625 19.2812 19.875 Q18.4531 17.1875 17.9219 14.5938 Q17.3906 12.0156 17.3906 9.42188 Q17.3906 6.10938 18.7969 3.8125 Q20.2188 1.51562 23.2969 1.51562 Q29.5 1.51562 34.4219 9.07812 L42 39.8906 Q42.3281 41.2188 43.5469 42.1562 Q44.7812 43.1094 46.1875 43.1094 Q47.4062 43.1094 48.3125 42.3281 Q49.2188 41.5469 49.2188 40.2812 Q49.2188 39.7031 49.125 39.5 L39.2031 -0.296875 Q37.8906 -5.42188 34.375 -10.1094 Q30.8594 -14.7969 25.9062 -17.6562 Q20.9531 -20.5156 15.5781 -20.5156 Q12.9844 -20.5156 10.4375 -19.5 Q7.90625 -18.5 6.34375 -16.5 Q4.78125 -14.5 4.78125 -11.8125 Q4.78125 -9.07812 6.39062 -7.07812 Q8.01562 -5.07812 10.6875 -5.07812 Q12.3125 -5.07812 13.4062 -6.07812 Q14.5 -7.07812 14.5 -8.6875 Q14.5 -10.9844 12.7812 -12.6875 Q11.0781 -14.4062 8.79688 -14.4062 Q8.6875 -14.3594 8.59375 -14.3281 Q8.5 -14.3125 8.40625 -14.3125\" id=\"Cmmi10-79\"/>\n",
       "     </defs>\n",
       "     <g transform=\"translate(248.3 473.834375)scale(0.2 -0.2)\">\n",
       "      <use transform=\"translate(0.0 0.8125)\" xlink:href=\"#Cmmi10-79\"/>\n",
       "      <use transform=\"translate(49.0234375 -24.696875000000006)scale(0.7)\" xlink:href=\"#Cmr10-31\"/>\n",
       "     </g>\n",
       "    </g>\n",
       "   </g>\n",
       "   <g id=\"matplotlib.axis_2\">\n",
       "    <g id=\"ytick_1\">\n",
       "     <g id=\"line2d_19\">\n",
       "      <defs>\n",
       "       <path d=\" M0 0 L4 0\" id=\"md7965d1ba0\" style=\"stroke:#000000;stroke-width:0.5;\"/>\n",
       "      </defs>\n",
       "      <g>\n",
       "       <use style=\"stroke:#000000;stroke-width:0.5;\" x=\"63.0\" xlink:href=\"#md7965d1ba0\" y=\"441.0\"/>\n",
       "      </g>\n",
       "     </g>\n",
       "     <g id=\"line2d_20\">\n",
       "      <defs>\n",
       "       <path d=\" M0 0 L-4 0\" id=\"md9a1c1a7cd\" style=\"stroke:#000000;stroke-width:0.5;\"/>\n",
       "      </defs>\n",
       "      <g>\n",
       "       <use style=\"stroke:#000000;stroke-width:0.5;\" x=\"453.6\" xlink:href=\"#md9a1c1a7cd\" y=\"441.0\"/>\n",
       "      </g>\n",
       "     </g>\n",
       "     <g id=\"text_9\">\n",
       "      <!-- −6 -->\n",
       "      <g transform=\"translate(45.946875 443.759375)scale(0.1 -0.1)\">\n",
       "       <use xlink:href=\"#BitstreamVeraSans-Roman-2212\"/>\n",
       "       <use x=\"83.7890625\" xlink:href=\"#BitstreamVeraSans-Roman-36\"/>\n",
       "      </g>\n",
       "     </g>\n",
       "    </g>\n",
       "    <g id=\"ytick_2\">\n",
       "     <g id=\"line2d_21\">\n",
       "      <g>\n",
       "       <use style=\"stroke:#000000;stroke-width:0.5;\" x=\"63.0\" xlink:href=\"#md7965d1ba0\" y=\"375.9\"/>\n",
       "      </g>\n",
       "     </g>\n",
       "     <g id=\"line2d_22\">\n",
       "      <g>\n",
       "       <use style=\"stroke:#000000;stroke-width:0.5;\" x=\"453.6\" xlink:href=\"#md9a1c1a7cd\" y=\"375.9\"/>\n",
       "      </g>\n",
       "     </g>\n",
       "     <g id=\"text_10\">\n",
       "      <!-- −4 -->\n",
       "      <g transform=\"translate(45.878125 378.659375)scale(0.1 -0.1)\">\n",
       "       <use xlink:href=\"#BitstreamVeraSans-Roman-2212\"/>\n",
       "       <use x=\"83.7890625\" xlink:href=\"#BitstreamVeraSans-Roman-34\"/>\n",
       "      </g>\n",
       "     </g>\n",
       "    </g>\n",
       "    <g id=\"ytick_3\">\n",
       "     <g id=\"line2d_23\">\n",
       "      <g>\n",
       "       <use style=\"stroke:#000000;stroke-width:0.5;\" x=\"63.0\" xlink:href=\"#md7965d1ba0\" y=\"310.8\"/>\n",
       "      </g>\n",
       "     </g>\n",
       "     <g id=\"line2d_24\">\n",
       "      <g>\n",
       "       <use style=\"stroke:#000000;stroke-width:0.5;\" x=\"453.6\" xlink:href=\"#md9a1c1a7cd\" y=\"310.8\"/>\n",
       "      </g>\n",
       "     </g>\n",
       "     <g id=\"text_11\">\n",
       "      <!-- −2 -->\n",
       "      <g transform=\"translate(46.31875 313.559375)scale(0.1 -0.1)\">\n",
       "       <use xlink:href=\"#BitstreamVeraSans-Roman-2212\"/>\n",
       "       <use x=\"83.7890625\" xlink:href=\"#BitstreamVeraSans-Roman-32\"/>\n",
       "      </g>\n",
       "     </g>\n",
       "    </g>\n",
       "    <g id=\"ytick_4\">\n",
       "     <g id=\"line2d_25\">\n",
       "      <g>\n",
       "       <use style=\"stroke:#000000;stroke-width:0.5;\" x=\"63.0\" xlink:href=\"#md7965d1ba0\" y=\"245.7\"/>\n",
       "      </g>\n",
       "     </g>\n",
       "     <g id=\"line2d_26\">\n",
       "      <g>\n",
       "       <use style=\"stroke:#000000;stroke-width:0.5;\" x=\"453.6\" xlink:href=\"#md9a1c1a7cd\" y=\"245.7\"/>\n",
       "      </g>\n",
       "     </g>\n",
       "     <g id=\"text_12\">\n",
       "      <!-- 0 -->\n",
       "      <g transform=\"translate(53.9609375 248.459375)scale(0.1 -0.1)\">\n",
       "       <use xlink:href=\"#BitstreamVeraSans-Roman-30\"/>\n",
       "      </g>\n",
       "     </g>\n",
       "    </g>\n",
       "    <g id=\"ytick_5\">\n",
       "     <g id=\"line2d_27\">\n",
       "      <g>\n",
       "       <use style=\"stroke:#000000;stroke-width:0.5;\" x=\"63.0\" xlink:href=\"#md7965d1ba0\" y=\"180.6\"/>\n",
       "      </g>\n",
       "     </g>\n",
       "     <g id=\"line2d_28\">\n",
       "      <g>\n",
       "       <use style=\"stroke:#000000;stroke-width:0.5;\" x=\"453.6\" xlink:href=\"#md9a1c1a7cd\" y=\"180.6\"/>\n",
       "      </g>\n",
       "     </g>\n",
       "     <g id=\"text_13\">\n",
       "      <!-- 2 -->\n",
       "      <g transform=\"translate(54.371875 183.359375)scale(0.1 -0.1)\">\n",
       "       <use xlink:href=\"#BitstreamVeraSans-Roman-32\"/>\n",
       "      </g>\n",
       "     </g>\n",
       "    </g>\n",
       "    <g id=\"ytick_6\">\n",
       "     <g id=\"line2d_29\">\n",
       "      <g>\n",
       "       <use style=\"stroke:#000000;stroke-width:0.5;\" x=\"63.0\" xlink:href=\"#md7965d1ba0\" y=\"115.5\"/>\n",
       "      </g>\n",
       "     </g>\n",
       "     <g id=\"line2d_30\">\n",
       "      <g>\n",
       "       <use style=\"stroke:#000000;stroke-width:0.5;\" x=\"453.6\" xlink:href=\"#md9a1c1a7cd\" y=\"115.5\"/>\n",
       "      </g>\n",
       "     </g>\n",
       "     <g id=\"text_14\">\n",
       "      <!-- 4 -->\n",
       "      <g transform=\"translate(53.6875 118.259375)scale(0.1 -0.1)\">\n",
       "       <use xlink:href=\"#BitstreamVeraSans-Roman-34\"/>\n",
       "      </g>\n",
       "     </g>\n",
       "    </g>\n",
       "    <g id=\"ytick_7\">\n",
       "     <g id=\"line2d_31\">\n",
       "      <g>\n",
       "       <use style=\"stroke:#000000;stroke-width:0.5;\" x=\"63.0\" xlink:href=\"#md7965d1ba0\" y=\"50.4\"/>\n",
       "      </g>\n",
       "     </g>\n",
       "     <g id=\"line2d_32\">\n",
       "      <g>\n",
       "       <use style=\"stroke:#000000;stroke-width:0.5;\" x=\"453.6\" xlink:href=\"#md9a1c1a7cd\" y=\"50.4\"/>\n",
       "      </g>\n",
       "     </g>\n",
       "     <g id=\"text_15\">\n",
       "      <!-- 6 -->\n",
       "      <g transform=\"translate(53.965625 53.159375)scale(0.1 -0.1)\">\n",
       "       <use xlink:href=\"#BitstreamVeraSans-Roman-36\"/>\n",
       "      </g>\n",
       "     </g>\n",
       "    </g>\n",
       "    <g id=\"text_16\">\n",
       "     <!-- $y_2$ -->\n",
       "     <defs>\n",
       "      <path d=\" M4.98438 0 L4.98438 2.6875 Q4.98438 2.9375 5.17188 3.21875 L20.7031 20.4062 Q24.2188 24.2188 26.4062 26.7969 Q28.6094 29.3906 30.75 32.7656 Q32.9062 36.1406 34.1562 39.625 Q35.4062 43.1094 35.4062 47.0156 Q35.4062 51.125 33.8906 54.8594 Q32.375 58.5938 29.375 60.8438 Q26.375 63.0938 22.125 63.0938 Q17.7812 63.0938 14.3125 60.4688 Q10.8438 57.8594 9.42188 53.7188 Q9.8125 53.8125 10.5 53.8125 Q12.75 53.8125 14.3281 52.2969 Q15.9219 50.7812 15.9219 48.3906 Q15.9219 46.0938 14.3281 44.5 Q12.75 42.9219 10.5 42.9219 Q8.15625 42.9219 6.5625 44.5469 Q4.98438 46.1875 4.98438 48.3906 Q4.98438 52.1562 6.39062 55.4375 Q7.8125 58.7344 10.4688 61.2969 Q13.1406 63.875 16.4844 65.2344 Q19.8281 66.6094 23.5781 66.6094 Q29.2969 66.6094 34.2188 64.1875 Q39.1562 61.7656 42.0312 57.3438 Q44.9219 52.9375 44.9219 47.0156 Q44.9219 42.6719 43.0156 38.7656 Q41.1094 34.8594 38.125 31.6562 Q35.1562 28.4688 30.5156 24.4062 Q25.875 20.3594 24.4219 19 L13.0938 8.10938 L22.7031 8.10938 Q29.7812 8.10938 34.5469 8.21875 Q39.3125 8.34375 39.5938 8.59375 Q40.7656 9.85938 42 17.8281 L44.9219 17.8281 L42.0938 0 z \" id=\"Cmr10-32\"/>\n",
       "     </defs>\n",
       "     <g transform=\"translate(35.678125 255.7)rotate(-90.0)scale(0.2 -0.2)\">\n",
       "      <use transform=\"translate(0.0 0.8125)\" xlink:href=\"#Cmmi10-79\"/>\n",
       "      <use transform=\"translate(49.0234375 -24.696875000000006)scale(0.7)\" xlink:href=\"#Cmr10-32\"/>\n",
       "     </g>\n",
       "    </g>\n",
       "   </g>\n",
       "   <g id=\"text_17\">\n",
       "    <!-- Iteration 2 -->\n",
       "    <defs>\n",
       "     <path id=\"BitstreamVeraSans-Roman-20\"/>\n",
       "     <path d=\" M18.3125 70.2188 L18.3125 54.6875 L36.8125 54.6875 L36.8125 47.7031 L18.3125 47.7031 L18.3125 18.0156 Q18.3125 11.3281 20.1406 9.42188 Q21.9688 7.51562 27.5938 7.51562 L36.8125 7.51562 L36.8125 0 L27.5938 0 Q17.1875 0 13.2344 3.875 Q9.28125 7.76562 9.28125 18.0156 L9.28125 47.7031 L2.6875 47.7031 L2.6875 54.6875 L9.28125 54.6875 L9.28125 70.2188 z \" id=\"BitstreamVeraSans-Roman-74\"/>\n",
       "     <path d=\" M9.8125 72.9062 L19.6719 72.9062 L19.6719 0 L9.8125 0 z \" id=\"BitstreamVeraSans-Roman-49\"/>\n",
       "     <path d=\" M54.8906 33.0156 L54.8906 0 L45.9062 0 L45.9062 32.7188 Q45.9062 40.4844 42.875 44.3281 Q39.8438 48.1875 33.7969 48.1875 Q26.5156 48.1875 22.3125 43.5469 Q18.1094 38.9219 18.1094 30.9062 L18.1094 0 L9.07812 0 L9.07812 54.6875 L18.1094 54.6875 L18.1094 46.1875 Q21.3438 51.125 25.7031 53.5625 Q30.0781 56 35.7969 56 Q45.2188 56 50.0469 50.1719 Q54.8906 44.3438 54.8906 33.0156\" id=\"BitstreamVeraSans-Roman-6e\"/>\n",
       "     <path d=\" M30.6094 48.3906 Q23.3906 48.3906 19.1875 42.75 Q14.9844 37.1094 14.9844 27.2969 Q14.9844 17.4844 19.1562 11.8438 Q23.3438 6.20312 30.6094 6.20312 Q37.7969 6.20312 41.9844 11.8594 Q46.1875 17.5312 46.1875 27.2969 Q46.1875 37.0156 41.9844 42.7031 Q37.7969 48.3906 30.6094 48.3906 M30.6094 56 Q42.3281 56 49.0156 48.375 Q55.7188 40.7656 55.7188 27.2969 Q55.7188 13.875 49.0156 6.21875 Q42.3281 -1.42188 30.6094 -1.42188 Q18.8438 -1.42188 12.1719 6.21875 Q5.51562 13.875 5.51562 27.2969 Q5.51562 40.7656 12.1719 48.375 Q18.8438 56 30.6094 56\" id=\"BitstreamVeraSans-Roman-6f\"/>\n",
       "     <path d=\" M34.2812 27.4844 Q23.3906 27.4844 19.1875 25 Q14.9844 22.5156 14.9844 16.5 Q14.9844 11.7188 18.1406 8.90625 Q21.2969 6.10938 26.7031 6.10938 Q34.1875 6.10938 38.7031 11.4062 Q43.2188 16.7031 43.2188 25.4844 L43.2188 27.4844 z  M52.2031 31.2031 L52.2031 0 L43.2188 0 L43.2188 8.29688 Q40.1406 3.32812 35.5469 0.953125 Q30.9531 -1.42188 24.3125 -1.42188 Q15.9219 -1.42188 10.9531 3.29688 Q6 8.01562 6 15.9219 Q6 25.1406 12.1719 29.8281 Q18.3594 34.5156 30.6094 34.5156 L43.2188 34.5156 L43.2188 35.4062 Q43.2188 41.6094 39.1406 45 Q35.0625 48.3906 27.6875 48.3906 Q23 48.3906 18.5469 47.2656 Q14.1094 46.1406 10.0156 43.8906 L10.0156 52.2031 Q14.9375 54.1094 19.5781 55.0469 Q24.2188 56 28.6094 56 Q40.4844 56 46.3438 49.8438 Q52.2031 43.7031 52.2031 31.2031\" id=\"BitstreamVeraSans-Roman-61\"/>\n",
       "     <path d=\" M9.42188 54.6875 L18.4062 54.6875 L18.4062 0 L9.42188 0 z  M9.42188 75.9844 L18.4062 75.9844 L18.4062 64.5938 L9.42188 64.5938 z \" id=\"BitstreamVeraSans-Roman-69\"/>\n",
       "     <path d=\" M56.2031 29.5938 L56.2031 25.2031 L14.8906 25.2031 Q15.4844 15.9219 20.4844 11.0625 Q25.4844 6.20312 34.4219 6.20312 Q39.5938 6.20312 44.4531 7.46875 Q49.3125 8.73438 54.1094 11.2812 L54.1094 2.78125 Q49.2656 0.734375 44.1875 -0.34375 Q39.1094 -1.42188 33.8906 -1.42188 Q20.7969 -1.42188 13.1562 6.1875 Q5.51562 13.8125 5.51562 26.8125 Q5.51562 40.2344 12.7656 48.1094 Q20.0156 56 32.3281 56 Q43.3594 56 49.7812 48.8906 Q56.2031 41.7969 56.2031 29.5938 M47.2188 32.2344 Q47.125 39.5938 43.0938 43.9844 Q39.0625 48.3906 32.4219 48.3906 Q24.9062 48.3906 20.3906 44.1406 Q15.875 39.8906 15.1875 32.1719 z \" id=\"BitstreamVeraSans-Roman-65\"/>\n",
       "     <path d=\" M41.1094 46.2969 Q39.5938 47.1719 37.8125 47.5781 Q36.0312 48 33.8906 48 Q26.2656 48 22.1875 43.0469 Q18.1094 38.0938 18.1094 28.8125 L18.1094 0 L9.07812 0 L9.07812 54.6875 L18.1094 54.6875 L18.1094 46.1875 Q20.9531 51.1719 25.4844 53.5781 Q30.0312 56 36.5312 56 Q37.4531 56 38.5781 55.875 Q39.7031 55.7656 41.0625 55.5156 z \" id=\"BitstreamVeraSans-Roman-72\"/>\n",
       "    </defs>\n",
       "    <g transform=\"translate(227.72625 45.4)scale(0.12 -0.12)\">\n",
       "     <use xlink:href=\"#BitstreamVeraSans-Roman-49\"/>\n",
       "     <use x=\"29.4921875\" xlink:href=\"#BitstreamVeraSans-Roman-74\"/>\n",
       "     <use x=\"68.701171875\" xlink:href=\"#BitstreamVeraSans-Roman-65\"/>\n",
       "     <use x=\"130.224609375\" xlink:href=\"#BitstreamVeraSans-Roman-72\"/>\n",
       "     <use x=\"171.337890625\" xlink:href=\"#BitstreamVeraSans-Roman-61\"/>\n",
       "     <use x=\"232.6171875\" xlink:href=\"#BitstreamVeraSans-Roman-74\"/>\n",
       "     <use x=\"271.826171875\" xlink:href=\"#BitstreamVeraSans-Roman-69\"/>\n",
       "     <use x=\"299.609375\" xlink:href=\"#BitstreamVeraSans-Roman-6f\"/>\n",
       "     <use x=\"360.791015625\" xlink:href=\"#BitstreamVeraSans-Roman-6e\"/>\n",
       "     <use x=\"424.169921875\" xlink:href=\"#BitstreamVeraSans-Roman-20\"/>\n",
       "     <use x=\"455.95703125\" xlink:href=\"#BitstreamVeraSans-Roman-32\"/>\n",
       "    </g>\n",
       "   </g>\n",
       "  </g>\n",
       " </g>\n",
       " <defs>\n",
       "  <clipPath id=\"p41d7ee9abc\">\n",
       "   <rect height=\"390.6\" width=\"390.6\" x=\"63.0\" y=\"50.4\"/>\n",
       "  </clipPath>\n",
       " </defs>\n",
       "</svg>"
      ],
      "text/plain": [
       "<IPython.core.display.SVG object>"
      ]
     },
     "metadata": {},
     "output_type": "display_data"
    },
    {
     "data": {
      "text/latex": [
       "Update each centre by setting to the mean of the allocated points."
      ],
      "text/plain": [
       "<IPython.core.display.Latex object>"
      ]
     },
     "metadata": {},
     "output_type": "display_data"
    }
   ],
   "source": [
    "pods.notebook.display_plots('kmeans_clustering_{counter}.svg', directory='./diagrams', text='kmeans_clustering_{counter}.tex', counter=(0, 13))"
   ]
  },
  {
   "cell_type": "markdown",
   "metadata": {
    "slideshow": {
     "slide_type": "slide"
    }
   },
   "source": [
    "### Other Clustering Approaches\n",
    "\n",
    "* Spectral clustering (@Shi:normalized00,@Ng:spectral02)\n",
    "    * Allows clusters which aren't convex hulls.\n",
    "* Dirichlet process\n",
    "    * A probabilistic formulation for a clustering algorithm that is *non-parametric*. \n",
    "    * Loosely speaking it allows infinite clusters\n",
    "    * In practice useful for dealing with previously unknown species (e.g. a \"Black Swan Event\")."
   ]
  },
  {
   "cell_type": "markdown",
   "metadata": {
    "slideshow": {
     "slide_type": "slide"
    }
   },
   "source": [
    "### High Dimensional Data\n",
    "\n",
    "* USPS Data Set Handwritten Digit\n",
    "* 3648 dimensions (64 rows, 57 columns)\n",
    "* Space contains much more than just this digit."
   ]
  },
  {
   "cell_type": "markdown",
   "metadata": {
    "slideshow": {
     "slide_type": "slide"
    }
   },
   "source": [
    "### USPS Samples\n",
    "\n",
    "* Even if we sample every nanonsecond from now until end of universe you won't see original six!"
   ]
  },
  {
   "cell_type": "markdown",
   "metadata": {
    "slideshow": {
     "slide_type": "slide"
    }
   },
   "source": [
    "### Simple Model of Digit\n",
    "* Rotate a prototype"
   ]
  },
  {
   "cell_type": "markdown",
   "metadata": {
    "slideshow": {
     "slide_type": "slide"
    }
   },
   "source": [
    "### Low Dimensional Manifolds\n",
    "\n",
    "* Pure rotation is too simple\n",
    "    * In practice data may undergo several distortions.\n",
    "* For high dimensional data with *structure*:\n",
    "    * We expect fewer distortions than dimensions;\n",
    "    * Therefore we expect the data to live on a lower dimensional manifold.\n",
    "    * Conclusion: Deal with high dimensional data by looking for a lower dimensional non-linear embedding.\n",
    "    "
   ]
  },
  {
   "cell_type": "markdown",
   "metadata": {
    "slideshow": {
     "slide_type": "slide"
    }
   },
   "source": [
    "### Principal Component Analysis\n",
    "\n",
    "* PCA (@Hotelling:analysis33) is a linear embedding.\n",
    "* Today its presented as:\n",
    "    * Rotate to find 'directions' in data with maximal variance.\n",
    "    * How do we find these directions?\n",
    "* Algorithmically we do this by diagonalizing the sample covariance matrix \n",
    "    $$\n",
    "    \\mathbf{S}=\\frac{1}{n}\\sum_{i=1}^n \\left(\\mathbf{y}_{i, :}-\\boldsymbol{\\mu}\\right)\\left(\\mathbf{y}_{i, :} - \\boldsymbol{\\mu}\\right)^\\top\n",
    "    $$"
   ]
  },
  {
   "cell_type": "markdown",
   "metadata": {
    "slideshow": {
     "slide_type": "slide"
    }
   },
   "source": [
    "### Principal Component Analysis\n",
    "\n",
    "* Find directions in the data, $\\mathbf{x} = \\mathbf{U}\\mathbf{y}$, for which variance is maximized."
   ]
  },
  {
   "cell_type": "markdown",
   "metadata": {
    "slideshow": {
     "slide_type": "slide"
    }
   },
   "source": [
    "### Lagrangian\n",
    "\n",
    "* Solution is found via constrained optimisation (which uses [Lagrange multipliers](https://en.wikipedia.org/wiki/Lagrange_multiplier)): \n",
    "  $$\n",
    "    L\\left(\\mathbf{u}_{1},\\lambda_{1}\\right)=\\mathbf{u}_{1}^{\\top}\\mathbf{S}\\mathbf{u}_{1}+\\lambda_{1}\\left(1-\\mathbf{u}_{1}^{\\top}\\mathbf{u}_{1}\\right)\n",
    "  $$\n",
    "\n",
    "* Gradient with respect to $\\mathbf{u}_{1}$ \n",
    "  $$\\frac{\\text{d}L\\left(\\mathbf{u}_{1},\\lambda_{1}\\right)}{\\text{d}\\mathbf{u}_{1}}=2\\mathbf{S}\\mathbf{u}_{1}-2\\lambda_{1}\\mathbf{u}_{1}$$\n",
    "rearrange to form\n",
    "$$\\mathbf{S}\\mathbf{u}_{1}=\\lambda_{1}\\mathbf{u}_{1}.$$\n",
    "  Which is known as an [*eigenvalue problem*](https://en.wikipedia.org/wiki/Eigenvalues_and_eigenvectors).\n",
    "  \n",
    "* Further directions that are *orthogonal* to the first can also be shown to be eigenvectors of the covariance.\n"
   ]
  },
  {
   "cell_type": "markdown",
   "metadata": {
    "slideshow": {
     "slide_type": "slide"
    }
   },
   "source": [
    "### Linear Dimensionality Reduction\n",
    "\n",
    "* Represent data, $\\mathbf{Y}$, with a lower dimensional set of latent\n",
    "    variables $\\mathbf{X}$.\n",
    "* Assume a linear relationship of the form\n",
    "  $$ \\mathbf{y}_{i,:}=\\mathbf{W}\\mathbf{x}_{i,:}+\\boldsymbol{\\epsilon}_{i,:},\n",
    "  $$\n",
    "  where\n",
    "  $$\n",
    "  \\boldsymbol{\\epsilon}_{i,:} \\sim \\mathcal{N}(\\mathbf{0}, \\sigma^2\\mathbf{I})\n",
    "  $$"
   ]
  },
  {
   "cell_type": "markdown",
   "metadata": {
    "slideshow": {
     "slide_type": "slide"
    }
   },
   "source": [
    "### Linear Latent Variable Model\n",
    "**Probabilistic PCA**\n",
    "\n",
    "* Define *linear-Gaussian relationship* between latent variables and data.\n",
    "* **Standard** Latent variable approach:\n",
    "  * Define Gaussian prior over *latent space*, $\\mathbf{X}$.\n",
    "  * Integrate out *latent variables*.\n",
    "    \n",
    "\\begin{tikzpicture}\n",
    "          \n",
    "          % Define nodes\n",
    "          \\node[obs]                               (Y) {$\\dataMatrix$};\n",
    "          \\node[const, above=of Y, xshift=-1.2cm] (W) {$\\mappingMatrix$};\n",
    "          \\node[latent, above=of Y, xshift=1.2cm]  (X) {$\\latentMatrix$};\n",
    "          \\node[const, right=1cm of Y]            (sigma) {$\\dataStd^2$};\n",
    "          \n",
    "          % Connect the nodes\n",
    "          \\edge {X,W,sigma} {Y} ; %\n",
    "          \n",
    "        \\end{tikzpicture}\n",
    "    \n",
    "    \n",
    "\n",
    "$$p\\left(\\mathbf{Y}|\\mathbf{X},\\mathbf{W}\\right)=\\prod_{i=1}^{n}\\mathcal{N}\\left(\\mathbf{y}_{i,:}|\\mathbf{W}\\mathbf{x}_{i,:}, \\sigma^2\\mathbf{I}\\right)$$\n"
   ]
  },
  {
   "cell_type": "markdown",
   "metadata": {
    "slideshow": {
     "slide_type": "fragment"
    }
   },
   "source": [
    "$$p\\left(\\mathbf{X}\\right)=\\prod_{i=1}^{n}\\mathcal{N}\\left(\\mathbf{x}_{i,:}|\\mathbf{0},\\mathbf{I}\\right)$$"
   ]
  },
  {
   "cell_type": "markdown",
   "metadata": {
    "slideshow": {
     "slide_type": "fragment"
    }
   },
   "source": [
    "$$p\\left(\\mathbf{Y}|\\mathbf{W}\\right)=\\prod_{i=1}^{n}\\mathcal{N}\\left(\\mathbf{y}_{i,:}|\\mathbf{0},\\mathbf{W}\\mathbf{W}^{\\top}+\\sigma^{2}\\mathbf{I}\\right)$$"
   ]
  },
  {
   "cell_type": "markdown",
   "metadata": {
    "slideshow": {
     "slide_type": "slide"
    }
   },
   "source": [
    "### Computation of the Marginal Likelihood\n",
    "\n",
    "$$\\mathbf{y}_{i,:}=\\mathbf{W}\\mathbf{x}_{i,:}+\\boldsymbol{\\epsilon}_{i,:},\\quad\n",
    "\\mathbf{x}_{i,:} \\sim \\mathcal{N}(\\mathbf{0},\\mathbf{I}), \\quad\n",
    "\\boldsymbol{\\epsilon}_{i,:} \\sim \\mathcal{N}(\\mathbf{0},\\sigma^{2}\\mathbf{I})$$"
   ]
  },
  {
   "cell_type": "markdown",
   "metadata": {
    "slideshow": {
     "slide_type": "fragment"
    }
   },
   "source": [
    "$$\\mathbf{W}\\mathbf{x}_{i,:} \\sim \\mathcal{N}(\\mathbf{0},\\mathbf{W}\\mathbf{W}^\\top)$$"
   ]
  },
  {
   "cell_type": "markdown",
   "metadata": {
    "slideshow": {
     "slide_type": "fragment"
    }
   },
   "source": [
    "$$\\mathbf{W}\\mathbf{x}_{i, :} + \\boldsymbol{\\epsilon}_{i, :} \\sim \\mathcal{N}\\left(\\mathbf{0},\\mathbf{W}\\mathbf{W}^\\top + \\sigma^2 \\mathbf{I}\\right)$$"
   ]
  },
  {
   "cell_type": "markdown",
   "metadata": {
    "slideshow": {
     "slide_type": "slide"
    }
   },
   "source": [
    "### Linear Latent Variable Model II\n",
    "  **Probabilistic PCA Max. Likelihood Soln** (@Tipping:probpca99)\n",
    "  \\begin{center}\n",
    "    %\\includegraphics<1>[width=0.25\\textwidth]{../../../gplvm/tex/diagrams/ppcaGraph}\n",
    "    \\begin{tikzpicture}\n",
    "        \n",
    "      % Define nodes\n",
    "      \\node[obs]                               (Y) {$\\dataMatrix$};\n",
    "      \\node[const, above=of Y] (W) {$\\mappingMatrix$};\n",
    "      \\node[const, right=1cm of Y]            (sigma) {$\\dataStd^2$};\n",
    "      \n",
    "      % Connect the nodes\n",
    "      \\edge {W,sigma} {Y} ; %\n",
    "    \\end{tikzpicture}\n",
    "$$p\\left(\\mathbf{Y}|\\mathbf{W}\\right)=\\prod_{i=1}^{n}\\mathcal{N}\\left(\\mathbf{y}_{i, :}|\\mathbf{0}, \\mathbf{W}\\mathbf{W}^{\\top}+\\sigma^{2}\\mathbf{I}\\right)$$\n"
   ]
  },
  {
   "cell_type": "markdown",
   "metadata": {
    "slideshow": {
     "slide_type": "slide"
    }
   },
   "source": [
    "### Linear Latent Variable Model II\n",
    "  \n",
    "**Probabilistic PCA Max. Likelihood Soln** (@Tipping:probpca99)\n",
    "  $$  p\\left(\\mathbf{Y}|\\mathbf{W}\\right)=\\prod_{i=1}^{n}\\mathcal{N}\\left(\\mathbf{y}_{i,:}|\\mathbf{0},\\mathbf{C}\\right),\\quad \\mathbf{C}=\\mathbf{W}\\mathbf{W}^{\\top}+\\sigma^{2}\\mathbf{I}\n",
    "  $$\n",
    "  $$\n",
    "    \\log p\\left(\\mathbf{Y}|\\mathbf{W}\\right)=-\\frac{n}{2}\\log\\left|\\mathbf{C}\\right|-\\frac{1}{2}\\text{tr}\\left(\\mathbf{C}^{-1}\\mathbf{Y}^{\\top}\\mathbf{Y}\\right)+\\text{const.}\n",
    "  $$\n",
    "  If $\\mathbf{U}_{q}$ are first $q$ principal eigenvectors of $n^{-1}\\mathbf{Y}^{\\top}\\mathbf{Y}$\n",
    "  and the corresponding eigenvalues are $\\boldsymbol{\\Lambda}_{q}$,\n",
    "  $$\n",
    " \\mathbf{W}=\\mathbf{U}_{q}\\mathbf{L}\\mathbf{R}^{\\top},\\quad\\mathbf{L}=\\left(\\boldsymbol{\\Lambda}_{q}-\\sigma^{2}\\mathbf{I}\\right)^{\\frac{1}{2}}\n",
    "  $$\n",
    "    where $\\mathbf{R}$ is an arbitrary rotation matrix.\n"
   ]
  },
  {
   "cell_type": "markdown",
   "metadata": {
    "slideshow": {
     "slide_type": "slide"
    }
   },
   "source": [
    "### Reading\n",
    "\n",
    "-   Chapter 7 of @Rogers:book11 up to pg 249."
   ]
  }
 ],
 "metadata": {
  "celltoolbar": "Slideshow",
  "kernelspec": {
   "display_name": "Python 3",
   "language": "python",
   "name": "python3"
  },
  "language_info": {
   "codemirror_mode": {
    "name": "ipython",
    "version": 3
   },
   "file_extension": ".py",
   "mimetype": "text/x-python",
   "name": "python",
   "nbconvert_exporter": "python",
   "pygments_lexer": "ipython3",
   "version": "3.4.3"
  }
 },
 "nbformat": 4,
 "nbformat_minor": 0
}
