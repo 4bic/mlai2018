{
 "cells": [
  {
   "cell_type": "markdown",
   "metadata": {
    "slideshow": {
     "slide_type": "slide"
    }
   },
   "source": [
    "# MLAI Week 2: Objective Functions\n",
    "\n",
    "### Neil D. Lawrence\n",
    "\n",
    "### 6th October 2015"
   ]
  },
  {
   "cell_type": "code",
   "execution_count": null,
   "metadata": {
    "collapsed": false,
    "slideshow": {
     "slide_type": "subslide"
    }
   },
   "outputs": [],
   "source": [
    "import pods\n",
    "import numpy as np\n",
    "import matplotlib.pyplot as plt\n",
    "%matplotlib inline\n",
    "pods.notebook.code_toggle()"
   ]
  },
  {
   "cell_type": "markdown",
   "metadata": {
    "slideshow": {
     "slide_type": "slide"
    }
   },
   "source": [
    "### Objective Function\n",
    "\n",
    "- Last week we motivated the importance of probability.\n",
    "- This week we motivate the idea of the 'objective function'."
   ]
  },
  {
   "cell_type": "markdown",
   "metadata": {
    "slideshow": {
     "slide_type": "slide"
    }
   },
   "source": [
    "### Classification\n",
    "\n",
    "- In classification we take in a *feature matrix* and make predictions of *class labels* given the features. \n",
    "- Our features are $\\mathbf{x}_i$ for the $i$th data point\n",
    "- Our labels are $y_i$ which is either -1 (negative) or +1 (positive).\n"
   ]
  },
  {
   "cell_type": "markdown",
   "metadata": {
    "slideshow": {
     "slide_type": "slide"
    }
   },
   "source": [
    "### Classification\n",
    "\n",
    "- predict the class label, $y_i$, given the features associated with that data point, $\\mathbf{x}_i$, using the following formula: \n",
    "\n",
    "    $$y_i = \\text{sign}\\left(\\mathbf{w}^\\top \\mathbf{x}_i + b\\right)$$\n",
    "\n",
    "- Decision boundary for the classification is given by a *hyperplane*. \n",
    "- Vector $\\mathbf{w}$ is the [normal vector](http://en.wikipedia.org/wiki/Normal_(geometry) to the hyperplane.\n",
    "- Hyperplane is described by the formula $\\mathbf{w}^\\top \\mathbf{x} = -b$ "
   ]
  },
  {
   "cell_type": "markdown",
   "metadata": {
    "slideshow": {
     "slide_type": "slide"
    }
   },
   "source": [
    "### Toy Data\n",
    "\n",
    "- Need to draw a decision boundary that separates red crosses from green circles."
   ]
  },
  {
   "cell_type": "code",
   "execution_count": null,
   "metadata": {
    "collapsed": false
   },
   "outputs": [],
   "source": [
    "x_plus = np.random.normal(loc=1.7, size=(100, 2))\n",
    "x_minus = np.random.normal(loc=-1.7, size=(100, 2))*2\n",
    "\n",
    "# plot data\n",
    "plt.plot(x_plus[:, 0], x_plus[:, 1], 'rx')\n",
    "plt.plot(x_minus[:, 0], x_minus[:, 1], 'go')"
   ]
  },
  {
   "cell_type": "markdown",
   "metadata": {
    "slideshow": {
     "slide_type": "slide"
    }
   },
   "source": [
    "### Mathematical Drawing of Decision Boundary\n",
    "\n",
    " - Refresher: draw a hyper plane at decision boundary.\n",
    " - Decision boundary: plane where a point moves from being classified as -1 to +1. \n",
    " - For a prediction $\\text{sign}(\\mathbf{x}^\\top \\mathbf{w})$, we have\n",
    "\n",
    "   $$\\text{sign}(w_0 + w_1x_{i,1} + w_2 x_{i, 2})$$\n",
    "\n",
    " - $x_{i, 1}$ is first feature $x_{i, 2}$ is second feature.\n",
    " - Use a trick to take $x_{0,i}=1$. \n",
    " - Set $w_0 = b$ we have\n",
    " \n",
    "   $$\\text{sign}\\left(b + w_1 x_{i, 1} + w_2 x_{i, 2}\\right)$$"
   ]
  },
  {
   "cell_type": "markdown",
   "metadata": {
    "slideshow": {
     "slide_type": "slide"
    }
   },
   "source": [
    "### Perceptron Algorithm: Initialisation Maths\n",
    "\n",
    "- For a randomly chosen data point, $i$, set\n",
    "\n",
    "  $$\\mathbf{w} = y_i \\mathbf{x}_i$$\n",
    "\n",
    "- If predicted label of the $i$th point is \n",
    "\n",
    "  $$\\text{sign}(\\mathbf{w}^\\top\\mathbf{x}_i)$$\n",
    "\n",
    "- Setting $\\mathbf{w}$ to $y_i\\mathbf{x}_i$ implies\n",
    "\n",
    "  $$\\text{sign}(\\mathbf{w}^\\top\\mathbf{x}_i) = \\text{sign}(y_i\\mathbf{x}_i^\\top \\mathbf{x}_i) = y_i$$"
   ]
  },
  {
   "cell_type": "markdown",
   "metadata": {
    "slideshow": {
     "slide_type": "slide"
    }
   },
   "source": [
    "### Perceptron Algorithm: Initialisation Code"
   ]
  },
  {
   "cell_type": "code",
   "execution_count": null,
   "metadata": {
    "collapsed": false
   },
   "outputs": [],
   "source": [
    "# flip a coin (i.e. generate a random number and check if it is greater than 0.5)\n",
    "choose_plus = np.random.rand(1)>0.5\n",
    "if choose_plus:\n",
    "    # generate a random point from the positives\n",
    "    index = np.random.randint(0, x_plus.shape[1])\n",
    "    x_select = x_plus[index, :]\n",
    "    w = x_plus[index, :] # set the normal vector to that point.\n",
    "    b = 1\n",
    "else:\n",
    "    # generate a random point from the negatives\n",
    "    index = np.random.randint(0, x_minus.shape[1])\n",
    "    x_select = x_minus[index, :]\n",
    "    w = -x_minus[index, :] # set the normal vector to minus that point.\n",
    "    b = -1\n",
    "    "
   ]
  },
  {
   "cell_type": "markdown",
   "metadata": {
    "slideshow": {
     "slide_type": "slide"
    }
   },
   "source": [
    "### Computing Decision Boundary"
   ]
  },
  {
   "cell_type": "code",
   "execution_count": null,
   "metadata": {
    "collapsed": false,
    "slideshow": {
     "slide_type": "-"
    }
   },
   "outputs": [],
   "source": [
    "pods.notebook.code_toggle(message='Click me when finished to re-reveal code.')\n",
    "# import the time model to allow python to pause.\n",
    "import time\n",
    "# import the IPython display module to clear the output.\n",
    "from IPython.display import display, clear_output, HTML\n",
    "\n",
    "def hyperplane_coordinates(w, b, plot_limits):\n",
    "    \"\"\"Helper function for plotting the decision boundary of the perceptron.\"\"\"\n",
    "    if abs(w[1])>abs(w[0]):\n",
    "        # If w[1]>w[0] in absolute value, plane is likely to be leaving tops of plot.\n",
    "        x0 = plot_limits['x']\n",
    "        x1 = -(b + x0*w[0])/w[1]\n",
    "    else:\n",
    "        # otherwise plane is likely to be leaving sides of plot.\n",
    "        x1 = plot_limits['y']\n",
    "        x0 = -(b + x1*w[1])/w[0]\n",
    "    return x0, x1\n",
    "\n",
    "def init_perceptron_plot(f, ax, x_plus, x_minus, w, b, x_select):\n",
    "    \"\"\"Initialise a plot for showing the perceptron decision boundary.\"\"\"\n",
    "\n",
    "    h = {}\n",
    "\n",
    "    ax[0].set_aspect('equal')\n",
    "    # Plot the data again\n",
    "    ax[0].plot(x_plus[:, 0], x_plus[:, 1], 'rx')\n",
    "    ax[0].plot(x_minus[:, 0], x_minus[:, 1], 'go')\n",
    "    plot_limits = {}\n",
    "    plot_limits['x'] = np.asarray(ax[0].get_xlim())\n",
    "    plot_limits['y'] = np.asarray(ax[0].get_ylim())\n",
    "    x0, x1 = hyperplane_coordinates(w, b, plot_limits)\n",
    "    strt = -b/w[1]\n",
    "\n",
    "    h['arrow'] = ax[0].arrow(0, strt, w[0], w[1]+strt, head_width=0.2)\n",
    "    # plot a line to represent the separating 'hyperplane'\n",
    "    h['plane'], = ax[0].plot(x0, x1, 'b-')\n",
    "    ax[0].set_xlim(plot_limits['x'])\n",
    "    ax[0].set_ylim(plot_limits['y'])\n",
    "    ax[0].set_xlabel('$x_0$', fontsize=20)\n",
    "    ax[0].set_ylabel('$x_1$', fontsize=20)\n",
    "    h['iter'] = ax[0].set_title('Iteration 0')\n",
    "\n",
    "    h['select'], = ax[0].plot(x_select[0], x_select[1], 'ro', markersize=10)\n",
    "\n",
    "    bins = 15\n",
    "    f_minus = np.dot(x_minus, w)\n",
    "    f_plus = np.dot(x_plus, w)\n",
    "    ax[1].hist(f_plus, bins, alpha=0.5, label='+1', color='r')\n",
    "    ax[1].hist(f_minus, bins, alpha=0.5, label='-1', color='g')\n",
    "    ax[1].legend(loc='upper right')\n",
    "    return h\n",
    "\n",
    "def update_perceptron_plot(h, f, ax, i, w, b, x_select):\n",
    "    \"\"\"Update plots after decision boundary has changed.\"\"\"\n",
    "    # Helper function for updating plots\n",
    "    h['select'].set_xdata(x_select[0])\n",
    "    h['select'].set_ydata(x_select[1])\n",
    "    # Re-plot the hyper plane \n",
    "    plot_limits = {}\n",
    "    plot_limits['x'] = np.asarray(ax[0].get_xlim())\n",
    "    plot_limits['y'] = np.asarray(ax[0].get_ylim())\n",
    "    x0, x1 = hyperplane_coordinates(w, b, plot_limits)\n",
    "    strt = -b/w[1]\n",
    "    h['arrow'].remove()\n",
    "    del(h['arrow'])\n",
    "    h['arrow'] = ax[0].arrow(0, strt, w[0], w[1]+strt, head_width=0.2)\n",
    "    \n",
    "    h['plane'].set_xdata(x0)\n",
    "    h['plane'].set_ydata(x1)\n",
    "\n",
    "    h['iter'].set_text('Iteration ' + str(i))\n",
    "    ax[1].cla()\n",
    "    bins = 15\n",
    "    f_minus = np.dot(x_minus, w)\n",
    "    f_plus = np.dot(x_plus, w)\n",
    "    ax[1].hist(f_plus, bins, alpha=0.5, label='+1', color='r')\n",
    "    ax[1].hist(f_minus, bins, alpha=0.5, label='-1', color='g')\n",
    "    ax[1].legend(loc='upper right')\n",
    "\n",
    "    display(f)\n",
    "    clear_output(wait=True)\n",
    "    if i<3:\n",
    "        time.sleep(0.5)\n",
    "    else:\n",
    "        time.sleep(.25)   \n",
    "    return handle\n",
    "\n",
    "f, ax = plt.subplots(1, 2, figsize=(14,7))\n",
    "handle = init_perceptron_plot(f, ax, x_plus, x_minus, w, b, x_select)"
   ]
  },
  {
   "cell_type": "markdown",
   "metadata": {},
   "source": [
    "This little drawing routine we've defined is going to be useful for updating the hyperplane when we update the parameters (to visualize how things change). We don't want paste in the code *every* time we need it, so let's define it as a function which computes the coordinates of the hyperplane. To define a function we declare it as follows:"
   ]
  },
  {
   "cell_type": "markdown",
   "metadata": {
    "slideshow": {
     "slide_type": "subslide"
    }
   },
   "source": [
    "   \n",
    "### Drawing Decision Boundary\n",
    "\n",
    "The decision boundary is where the output of the function changes from -1 to +1 (or vice versa) so it's the point at which the argument of the $\\text{sign}$ function is zero. So in other words, the decision boundary is given by the *line* defined by $x_1 w_1 + x_2 w_2 = -b$ (where we have dropped the index $i$ for convenience). In this two dimensional space the decision boundary is defined by a line. In a three dimensional space it would be defined by a *plane*  and in higher dimensional spaces it is defined by something called a *hyperplane* (http://en.wikipedia.org/wiki/Hyperplane). This equation is therefore often known as the *separating hyperplane* because it defines the hyperplane that separates the data. To draw it in 2-D we can choose some values to plot from $x_1$ and then find the corresponding values for $x_2$ to plot using the rearrangement of the hyperplane formula as follows\n",
    "\n",
    "$$x_2 = -\\frac{(b+x_1w_1)}{w_2}$$\n",
    "\n",
    "Of course, we can also choose to specify the values for $x_2$ and compute the values for $x_1$ given the values for $x_2$,\n",
    "\n",
    "$$x_1 = -\\frac{b + x_2w_2}{w_1}$$"
   ]
  },
  {
   "cell_type": "markdown",
   "metadata": {
    "slideshow": {
     "slide_type": "subslide"
    }
   },
   "source": [
    "### Switching Formulae\n",
    "\n",
    "It turns out that sometimes we need to use the first formula, and sometimes we need to use the second. Which formula we use depends on how the separating hyperplane leaves the plot. \n",
    "\n",
    "We want to draw the separating hyperplane in the bounds of the plot which is showing our data. To think about which equation to use, let's consider two separate situations (actually there are a few more). \n",
    "\n",
    "1. If the separating hyperplane leaves the top and bottom of the plot then we want to plot a line with values in the $y$ direction (given by $x_2$) given by the upper and lower limits of our plot. The values in the $x$ direction can then be computed from the formula for the plane. \n",
    "\n",
    "2. Conversely if the line leaves the sides of the plot then we want to plot a line with values in the $x$ direction given by the limits of the plot. Then the values in the $y$ direction can be computed from the formula. Whether the line leaves the top/bottom or the sides of the plot is dependent on the relative values of $w_1$ and $w_2$. \n",
    "\n",
    "This motivates a simple `if` statement to check which situation we're in."
   ]
  },
  {
   "cell_type": "markdown",
   "metadata": {
    "slideshow": {
     "slide_type": "slide"
    }
   },
   "source": [
    "### Code for Perceptron"
   ]
  },
  {
   "cell_type": "code",
   "execution_count": null,
   "metadata": {
    "collapsed": false
   },
   "outputs": [
    {
     "data": {
      "text/html": [
       "<script>\n",
       "code_show=false;\n",
       "function code_toggle() {\n",
       " if (code_show){\n",
       " $('div.input').show();\n",
       " } else {\n",
       " $('div.input').hide();\n",
       " }\n",
       " code_show = !code_show\n",
       "} \n",
       "$( document ).ready(code_toggle);\n",
       "</script>\n",
       "Click me when finished to re-reveal code. To toggle on/off the raw code, click <a href=\"javascript:code_toggle()\">here</a>."
      ],
      "text/plain": [
       "<IPython.core.display.HTML object>"
      ]
     },
     "metadata": {},
     "output_type": "display_data"
    }
   ],
   "source": [
    "pods.notebook.code_toggle(message='Click me when finished to re-reveal code.')\n",
    "learn_rate = 0.1\n",
    "num_iterations = 30\n",
    "iteration = 0\n",
    "setup=True\n",
    "w_updated = False\n",
    "f2, ax2 = plt.subplots(1, 2, figsize=(14,7))\n",
    "handle = init_perceptron_plot(f2, ax2, x_plus, x_minus, w, b, x_select)\n",
    "\n",
    "while iteration<num_iterations:\n",
    "    # select a point at random from the data\n",
    "    choose_plus = np.random.uniform(size=1)>0.5\n",
    "    w_updated=False\n",
    "    if choose_plus:\n",
    "        # choose a point from the positive data\n",
    "        index = np.random.random_integers(x_plus.shape[0]-1)\n",
    "        x_select = x_plus[index, :]\n",
    "        if np.dot(w, x_select)+b <= 0.:\n",
    "            # point is currently incorrectly classified\n",
    "            w += learn_rate*x_select\n",
    "            b += learn_rate\n",
    "            iteration += 1\n",
    "            w_updated=True\n",
    "    else:\n",
    "        # choose a point from the negative data\n",
    "        index = np.random.random_integers(x_minus.shape[0]-1)\n",
    "        x_select = x_minus[index, :]\n",
    "        if np.dot(w, x_select)+b > 0.:\n",
    "            # point is currently incorrectly classified\n",
    "            w -= learn_rate*x_select\n",
    "            b -= learn_rate\n",
    "            iteration += 1\n",
    "            w_updated=True\n",
    "    if w_updated:\n",
    "        handle = update_perceptron_plot(handle, f2, ax2, iteration, w, b, x_select)\n",
    "        \n",
    "from IPython.display import HTML\n",
    "display(HTML('To toggle on/off the raw code, click <a href=\"javascript:code_toggle()\">here</a>.'))"
   ]
  },
  {
   "cell_type": "markdown",
   "metadata": {
    "slideshow": {
     "slide_type": "slide"
    }
   },
   "source": [
    "### Perceptron Reflection\n",
    "\n",
    " - The perceptron is an algorithm. \n",
    " - What is it doing? When will it fail?\n",
    " - We can explain the update equations and proove it converges.\n",
    " - Normally it is far easier to first define an *objective function*.\n",
    " "
   ]
  },
  {
   "cell_type": "markdown",
   "metadata": {
    "slideshow": {
     "slide_type": "slide"
    }
   },
   "source": [
    "### Objective Functions and Regression\n",
    "\n",
    "- Classification: map feature to class label.\n",
    "- Regression: map feature to real value. *e.g.*\n",
    "\n",
    "    $$y_i = mx_i + c$$\n",
    "\n",
    "- Need an *algorithm* to fit it. \n",
    "\n",
    "- Least squares: minimize an error.\n",
    "\n",
    "$$E(m, c) = \\sum_{i=1}^n (y_i - mx_i - c)^2$$\n",
    "\n"
   ]
  },
  {
   "cell_type": "markdown",
   "metadata": {
    "slideshow": {
     "slide_type": "slide"
    }
   },
   "source": [
    "### Regression\n",
    "\n",
    "- Create an artifical data set.\n",
    "\n"
   ]
  },
  {
   "cell_type": "code",
   "execution_count": null,
   "metadata": {
    "collapsed": false
   },
   "outputs": [],
   "source": [
    "x = np.random.normal(size=4)"
   ]
  },
  {
   "cell_type": "markdown",
   "metadata": {},
   "source": [
    "We now need to decide on a *true* value for $m$ and a *true* value for *c* to use for generating the data. "
   ]
  },
  {
   "cell_type": "code",
   "execution_count": null,
   "metadata": {
    "collapsed": false
   },
   "outputs": [],
   "source": [
    "m_true = 1.4\n",
    "c_true = -3.1"
   ]
  },
  {
   "cell_type": "markdown",
   "metadata": {},
   "source": [
    "We can use these values to create our artificial data. The formula $y_i = mx_i + c$ is translated to code as follows:"
   ]
  },
  {
   "cell_type": "code",
   "execution_count": null,
   "metadata": {
    "collapsed": false
   },
   "outputs": [],
   "source": [
    "y = m_true*x+c_true"
   ]
  },
  {
   "cell_type": "markdown",
   "metadata": {
    "slideshow": {
     "slide_type": "slide"
    }
   },
   "source": [
    "### Plot of Data\n",
    "We can now plot the artifical data we've created."
   ]
  },
  {
   "cell_type": "code",
   "execution_count": null,
   "metadata": {
    "collapsed": false
   },
   "outputs": [],
   "source": [
    "plt.plot(x, y, 'r.', markersize=10) # plot data as red dots\n",
    "plt.xlim([-3, 3])"
   ]
  },
  {
   "cell_type": "markdown",
   "metadata": {},
   "source": [
    "These points lie exactly on a straight line, that's not very realistic, let's corrupt them with a bit of Gaussian 'noise'."
   ]
  },
  {
   "cell_type": "markdown",
   "metadata": {
    "slideshow": {
     "slide_type": "slide"
    }
   },
   "source": [
    "### Noise Corrupted Plot"
   ]
  },
  {
   "cell_type": "code",
   "execution_count": null,
   "metadata": {
    "collapsed": false
   },
   "outputs": [],
   "source": [
    "noise = np.random.normal(scale=0.5, size=4) # standard deviation of the noise is 0.5\n",
    "y = m_true*x + c_true + noise\n",
    "plt.plot(x, y, 'r.', markersize=10)\n",
    "plt.xlim([-3, 3])"
   ]
  },
  {
   "cell_type": "markdown",
   "metadata": {
    "slideshow": {
     "slide_type": "slide"
    }
   },
   "source": [
    "### Contour Plot of Error Function\n",
    "\n",
    "- Visualise the error function surface, create vectors of values."
   ]
  },
  {
   "cell_type": "code",
   "execution_count": null,
   "metadata": {
    "collapsed": false
   },
   "outputs": [],
   "source": [
    "m_vals = np.linspace(m_true-3, m_true+3, 100) # create an array of linearly separated values around m_true\n",
    "c_vals = np.linspace(c_true-3, c_true+3, 100) # create an array of linearly separated values ae"
   ]
  },
  {
   "cell_type": "markdown",
   "metadata": {},
   "source": [
    "- create a grid of values to evaluate the error function in 2D."
   ]
  },
  {
   "cell_type": "code",
   "execution_count": null,
   "metadata": {
    "collapsed": false
   },
   "outputs": [],
   "source": [
    "m_grid, c_grid = np.meshgrid(m_vals, c_vals) "
   ]
  },
  {
   "cell_type": "markdown",
   "metadata": {},
   "source": [
    "- compute the error function at each  combination of $c$ and $m$.\n"
   ]
  },
  {
   "cell_type": "code",
   "execution_count": null,
   "metadata": {
    "collapsed": false
   },
   "outputs": [],
   "source": [
    "E_grid = np.zeros((100, 100))\n",
    "for i in range(100):\n",
    "    for j in range(100):\n",
    "        E_grid[i, j] = ((y - m_grid[i, j]*x - c_grid[i, j])**2).sum()"
   ]
  },
  {
   "cell_type": "markdown",
   "metadata": {
    "slideshow": {
     "slide_type": "slide"
    }
   },
   "source": [
    "# Contour Plot of Error\n",
    "\n",
    " - We can now make a contour plot."
   ]
  },
  {
   "cell_type": "code",
   "execution_count": null,
   "metadata": {
    "collapsed": false
   },
   "outputs": [],
   "source": [
    "pods.notebook.code_toggle()\n",
    "f, ax = plt.subplots(figsize=(7,7))\n",
    "hcont = ax.contour(m_vals, c_vals, E_grid, levels=[0, 0.5, 1, 2, 4, 8, 16, 32, 64]) # this makes the contour plot \n",
    "plt.clabel(hcont, inline=1, fontsize=15) # this labels the contours.\n",
    "\n",
    "ax.set_xlabel('$m$', fontsize=25)\n",
    "ax.set_ylabel('$c$', fontsize=25)"
   ]
  },
  {
   "cell_type": "markdown",
   "metadata": {
    "slideshow": {
     "slide_type": "slide"
    }
   },
   "source": [
    "### Steepest Descent\n",
    "\n",
    "- Minimize the sum of squares error function. \n",
    "- One way of doing that is gradient descent. \n",
    "- Initialize with a guess for $m$ and $c$ \n",
    "- update that guess by subtracting a portion of the gradient from the guess. \n",
    "- Like walking down a hill in the steepest direction of the hill to get to the bottom."
   ]
  },
  {
   "cell_type": "markdown",
   "metadata": {
    "slideshow": {
     "slide_type": "slide"
    }
   },
   "source": [
    "### Algorithm\n",
    "\n",
    "- We start with a guess for $m$ and $c$."
   ]
  },
  {
   "cell_type": "code",
   "execution_count": null,
   "metadata": {
    "collapsed": false
   },
   "outputs": [],
   "source": [
    "m_star = 3.0\n",
    "c_star = -5.0"
   ]
  },
  {
   "cell_type": "markdown",
   "metadata": {
    "slideshow": {
     "slide_type": "slide"
    }
   },
   "source": [
    "### Offset Gradient\n",
    "\n",
    "- Now we need to compute the gradient of the error function, firstly with respect to $c$,\n",
    "\n",
    "  $$\\frac{\\text{d}E(m, c)}{\\text{d} c} = -2\\sum_{i=1}^n (y_i - mx_i - c)$$\n",
    "\n",
    "- This is computed in python as follows"
   ]
  },
  {
   "cell_type": "code",
   "execution_count": null,
   "metadata": {
    "collapsed": false
   },
   "outputs": [],
   "source": [
    "c_grad = -2*(y-m_star*x - c_star).sum()\n",
    "print(\"Gradient with respect to c is \", c_grad)"
   ]
  },
  {
   "cell_type": "markdown",
   "metadata": {
    "slideshow": {
     "slide_type": "subslide"
    }
   },
   "source": [
    "### Deriving the Gradient\n",
    "\n",
    "To see how the gradient was derived, first note that the $c$ appears in every term in the sum. So we are just differentiating $(y_i - mx_i - c)^2$ for each term in the sum. The gradient of this term with respect to $c$ is simply the gradient of the outer quadratic, multiplied by the gradient with respect to $c$ of the part inside the quadratic. The gradient of a quadratic is two times the argument of the quadratic, and the gradient of the inside linear term is just minus one. This is true for all terms in the sum, so we are left with the sum in the gradient. "
   ]
  },
  {
   "cell_type": "markdown",
   "metadata": {
    "slideshow": {
     "slide_type": "slide"
    }
   },
   "source": [
    "### Slope Gradient\n",
    "\n",
    "The gradient with respect tom $m$ is similar, but now the gradient of the quadratic's argument is $-x_i$ so the gradient with respect to $m$ is\n",
    "\n",
    "$$\\frac{\\text{d}E(m, c)}{\\text{d} m} = -2\\sum_{i=1}^n x_i(y_i - mx_i - c)$$\n",
    "\n",
    "which can be implemented in python (numpy) as"
   ]
  },
  {
   "cell_type": "code",
   "execution_count": null,
   "metadata": {
    "collapsed": false
   },
   "outputs": [],
   "source": [
    "m_grad = -2*(x*(y-m_star*x - c_star)).sum()\n",
    "print(\"Gradient with respect to m is \", m_grad)"
   ]
  },
  {
   "cell_type": "markdown",
   "metadata": {
    "slideshow": {
     "slide_type": "slide"
    }
   },
   "source": [
    "### Update Equations\n",
    "\n",
    "\n",
    "- Now we have gradients with respect to $m$ and $c$.\n",
    "- Can update our inital guesses for $m$ and $c$ using the gradient. \n",
    "- We don't want to just add the gradient to $m$ and $c$, \n",
    "- We need to take a *small* step in the gradient direction. \n",
    "- Otherwise we might overshoot the minimum. \n",
    "- We want to follow the gradient to get to the minimum, the gradient changes all the time. \n"
   ]
  },
  {
   "cell_type": "markdown",
   "metadata": {
    "slideshow": {
     "slide_type": "slide"
    }
   },
   "source": [
    "## Update Equations \n",
    "\n",
    "- The step size has already been introduced, it's again known as the learning rate and is denoted by $\\eta$. \n",
    "\n",
    "  $$c_\\text{new} \\leftarrow c_{\\text{old}} - \\eta \\frac{\\text{d}E(m, c)}{\\text{d}c}$$ \n",
    "\n",
    "- gives us an update for our estimate of $c$ (which in the code we've been calling `c_star` to represent a common way of writing a parameter estimate, $c^*$) and \n",
    "\n",
    "  $$m_\\text{new} \\leftarrow m_{\\text{old}} - \\eta \\frac{\\text{d}E(m, c)}{\\text{d}m}$$\n",
    "  \n",
    "- Giving us an update for $m$."
   ]
  },
  {
   "cell_type": "markdown",
   "metadata": {
    "slideshow": {
     "slide_type": "slide"
    }
   },
   "source": [
    "## Update Code\n",
    "\n",
    "- These updates can be coded as"
   ]
  },
  {
   "cell_type": "code",
   "execution_count": null,
   "metadata": {
    "collapsed": false
   },
   "outputs": [],
   "source": [
    "print(\"Original m was\", m_star, \"and original c was\", c_star)\n",
    "learn_rate = 0.01\n",
    "c_star = c_star - learn_rate*c_grad\n",
    "m_star = m_star - learn_rate*m_grad\n",
    "print(\"New m is\", m_star, \"and new c is\", c_star)\n"
   ]
  },
  {
   "cell_type": "markdown",
   "metadata": {
    "slideshow": {
     "slide_type": "slide"
    }
   },
   "source": [
    "# Iterating Updates\n",
    "\n",
    "- Fit model by descending gradient. "
   ]
  },
  {
   "cell_type": "code",
   "execution_count": null,
   "metadata": {
    "collapsed": false,
    "slideshow": {
     "slide_type": "skip"
    }
   },
   "outputs": [],
   "source": [
    "# first let's plot the error surface\n",
    "\n",
    "def init_regression_plot(f, ax, m_vals, c_vals, E_grid, m_star, c_star):\n",
    "    \"\"\"Function to plot the initial regression fit and the error surface.\"\"\"\n",
    "    h = {}\n",
    "    levels=[0, 0.5, 1, 2, 4, 8, 16, 32, 64]\n",
    "    h['cont'] = ax[0].contour(m_vals, c_vals, E_grid, levels=levels) # this makes the contour plot on axes 0.\n",
    "    plt.clabel(h['cont'], inline=1, fontsize=15)\n",
    "    ax[0].set_xlabel('$m$', fontsize=20)\n",
    "    ax[0].set_ylabel('$c$', fontsize=20)\n",
    "    h['msg'] = ax[0].set_title('Error Function', fontsize=20)\n",
    "\n",
    "    # Set up plot\n",
    "    h['data'], = ax[1].plot(x, y, 'r.', markersize=10)\n",
    "    ax[1].set_xlabel('$x$', fontsize=20)\n",
    "    ax[1].set_ylabel('$y$', fontsize=20)\n",
    "    ax[1].set_ylim((-9, -1)) # set the y limits of the plot fixed\n",
    "    ax[1].set_title('Best Fit', fontsize=20)\n",
    "\n",
    "    # Plot the current estimate of the best fit line\n",
    "    x_plot = np.asarray(ax[1].get_xlim()) # get the x limits of the plot for plotting the current best line fit.\n",
    "    y_plot = m_star*x_plot + c_star\n",
    "    h['fit'], = ax[1].plot(x_plot, y_plot, 'b-', linewidth=3)\n",
    "    return h\n",
    "\n",
    "def update_regression_plot(h, f, ax, m_star, c_star, iteration):\n",
    "    \"\"\"Update the regression plot with the latest fit and position in error space.\"\"\"\n",
    "    ax[0].plot(m_star, c_star, 'g*')\n",
    "    y_plot = m_star*x_plot + c_star\n",
    "    \n",
    "    # show the current status on the plot of the data\n",
    "    h['fit'].set_ydata(y_plot)\n",
    "    h['msg'].set_text('Iteration '+str(iteration))\n",
    "    display(f)\n",
    "    clear_output(wait=True)\n",
    "    time.sleep(0.25) # pause between iterations to see update\n",
    "    return h\n",
    "\n",
    "m_star = 3.0\n",
    "c_star = -5.0\n",
    "\n",
    "f, ax = plt.subplots(1, 2, figsize=(14,7)) # this is to create 'side by side axes'\n",
    "init_regression_plot(f, ax, m_vals, c_vals, E_grid, m_star, c_star)\n",
    "\n",
    "display(HTML('To toggle on/off the raw code, click <a href=\"javascript:code_toggle()\">here</a>.'))"
   ]
  },
  {
   "cell_type": "markdown",
   "metadata": {
    "slideshow": {
     "slide_type": "slide"
    }
   },
   "source": [
    "### Gradient Descent Algorithm"
   ]
  },
  {
   "cell_type": "code",
   "execution_count": null,
   "metadata": {
    "collapsed": false,
    "slideshow": {
     "slide_type": "-"
    }
   },
   "outputs": [],
   "source": [
    "pods.notebook.code_toggle()\n",
    "f, ax = plt.subplots(1, 2, figsize=(14,7)) # this is to create 'side by side axes'\n",
    "handle = init_regression_plot(f, ax, m_vals, c_vals, E_grid, m_star, c_star)\n",
    "\n",
    "for i in range(1000): # do 100 iterations (parameter updates)\n",
    "    # compute the gradients\n",
    "    c_grad = -2*(y-m_star*x - c_star).sum()\n",
    "    m_grad = -2*(x*(y-m_star*x - c_star)).sum()\n",
    "    \n",
    "    # update the parameters\n",
    "    m_star = m_star - learn_rate*m_grad\n",
    "    c_star = c_star - learn_rate*c_grad\n",
    "    \n",
    "    if i<10 or ((i<100 and not i % 10) or (i<1000 and not i % 100)): # update the location of our current best guess on the contour plot\n",
    "        handle = update_regression_plot(handle, f, ax, m_star, c_star, i)\n",
    "\n",
    "display(HTML('To toggle on/off the raw code, click <a href=\"javascript:code_toggle()\">here</a>.'))"
   ]
  },
  {
   "cell_type": "markdown",
   "metadata": {
    "slideshow": {
     "slide_type": "slide"
    }
   },
   "source": [
    "### Stochastic Gradient Descent\n",
    "\n",
    "- If $n$ is small, gradient descent is fine.\n",
    "- But sometimes (e.g. on the internet $n$ could be a billion.\n",
    "- Stochastic gradient descent is more similar to perceptron.\n",
    "- Look at gradient of one data point at a time rather than summing across *all* data points) \n",
    "- This gives a stochastic estimate of gradient.\n",
    "\n",
    " "
   ]
  },
  {
   "cell_type": "markdown",
   "metadata": {
    "slideshow": {
     "slide_type": "slide"
    }
   },
   "source": [
    "### Stochastic Gradient Descent\n",
    "\n",
    "- The real gradient with respect to $m$ is given by \n",
    "\n",
    "  $$\\frac{\\text{d}E(m, c)}{\\text{d} m} = -2\\sum_{i=1}^n x_i(y_i - mx_i - c)$$\n",
    "\n",
    "  but it has $n$ terms in the sum. Substituting in the gradient we can see that the full update is of the form\n",
    "\n",
    "  $$m_\\text{new} \\leftarrow m_\\text{old} + 2\\eta \\left[x_1 (y_1 - m_\\text{old}x_1 - c_\\text{old}) + (x_2 (y_2 -   m_\\text{old}x_2 - c_\\text{old}) + \\dots + (x_n (y_n - m_\\text{old}x_n - c_\\text{old})\\right]$$\n",
    "\n",
    "  This could be split up into lots of individual updates\n",
    "\n",
    "$$m_1 \\leftarrow m_\\text{old} + 2\\eta \\left[x_1 (y_1 - m_\\text{old}x_1 - c_\\text{old})\\right]$$\n",
    "$$m_2 \\leftarrow m_1 + 2\\eta \\left[x_2 (y_2 - m_\\text{old}x_2 - c_\\text{old})\\right]$$\n",
    "$$m_3 \\leftarrow m_2 + 2\\eta \\left[\\dots\\right]$$\n",
    "$$m_n \\leftarrow m_{n-1} + 2\\eta \\left[x_n (y_n - m_\\text{old}x_n - c_\\text{old})\\right]$$\n",
    "\n",
    "which would lead to the same final update."
   ]
  },
  {
   "cell_type": "markdown",
   "metadata": {
    "slideshow": {
     "slide_type": "slide"
    }
   },
   "source": [
    "### Updating $c$ and $m$\n",
    "\n",
    "- In the sum we don't  $m$ and $c$ we use for computing the gradient term at each update. \n",
    "- In stochastic gradient descent we *do* change them.\n",
    "- This means it's not quite the same as steepest desceint.\n",
    "- But we  can present each data point in a random order, like we did for the perceptron.\n",
    "- This makes the algorithm suitable for large scale web use (recently this domain is know as 'Big Data') and algorithms like this are widely used by Google, Microsoft, Yahoo! and Facebook.\n"
   ]
  },
  {
   "cell_type": "markdown",
   "metadata": {
    "slideshow": {
     "slide_type": "slide"
    }
   },
   "source": [
    "### Stochastic Gradient Descent\n",
    "\n",
    "- Or more accurate, since the data is normally presented in a random order we just can write\n",
    "\n",
    "  $$m_\\text{new} = m_\\text{old} + 2\\eta\\left[x_i (y_i - m_\\text{old}x_i - c_\\text{old})\\right]$$"
   ]
  },
  {
   "cell_type": "code",
   "execution_count": null,
   "metadata": {
    "collapsed": false
   },
   "outputs": [],
   "source": [
    "# choose a random point for the update\n",
    "i = np.random.randint(x.shape[0]-1)\n",
    "# update m\n",
    "m_star = m_star + 2*learn_rate*(x[i]*(y[i]-m_star*x[i] - c_star))\n",
    "# update c\n",
    "c_star = c_star + 2*learn_rate*(y[i]-m_star*x[i] - c_star)"
   ]
  },
  {
   "cell_type": "markdown",
   "metadata": {
    "slideshow": {
     "slide_type": "slide"
    }
   },
   "source": [
    "### SGD for Linear Regression\n",
    "\n",
    "Putting it all together in an algorithm, we can do stochastic gradient descent for our regression data."
   ]
  },
  {
   "cell_type": "code",
   "execution_count": null,
   "metadata": {
    "collapsed": false,
    "slideshow": {
     "slide_type": "skip"
    }
   },
   "outputs": [],
   "source": [
    "def initialise_plots(f, ax): \n",
    "    # first let's plot the error surface\n",
    "    hcont = ax[0].contour(m_vals, c_vals, E_grid, levels=levels) # this makes the contour plot on axes 1.\n",
    "    plt.clabel(hcont, inline=1, fontsize=15)\n",
    "    ax[0].set_xlabel('$m$', fontsize=15)\n",
    "    ax[0].set_ylabel('$c$', fontsize=15)\n",
    "    hmsg = ax[0].set_title('Iteration 0', fontsize=20)\n",
    "    # show the current status on the plot of the data\n",
    "    ax[1].plot(x, y, 'r.',markersize=10)\n",
    "    ax[1].set_ylim((-9, -1)) # set the y limits of the plot fixed\n",
    "    x_plot = np.asarray(ax[1].get_xlim()) # get the x limits of the plot for plotting the current best line fit.\n",
    "    y_plot = m_star*x_plot + c_star\n",
    "    hfit, = ax[1].plot(x_plot, y_plot, 'b-',linewidth=3)\n",
    "    ax[1].set_title('Best Fit', fontsize=20)\n",
    "    return x_plot, hmsg, hfit\n"
   ]
  },
  {
   "cell_type": "code",
   "execution_count": null,
   "metadata": {
    "collapsed": false
   },
   "outputs": [],
   "source": [
    "pods.notebook.code_toggle()\n",
    "m_star = 3.0\n",
    "c_star = -5.0\n",
    "\n",
    "f, ax = plt.subplots(1, 2, figsize=(14,7)) # this is to create 'side by side axes'\n",
    "handle = init_regression_plot(f, ax, m_vals, c_vals, E_grid, m_star, c_star)\n",
    "\n",
    "for i in range(4000): # do 100 iterations (parameter updates)\n",
    "    # choose a random point\n",
    "    index = np.random.randint(x.shape[0]-1)\n",
    "\n",
    "    # update m\n",
    "    m_star = m_star + 2*learn_rate*(x[index]*(y[index]-m_star*x[index] - c_star))\n",
    "    # update c\n",
    "    c_star = c_star + 2*learn_rate*(y[index]-m_star*x[index] - c_star)\n",
    "    \n",
    "    if i<10 or ((i<100 and not i % 10) or (not i % 100)): \n",
    "        handle = update_regression_plot(handle, f, ax, m_star, c_star, i)\n",
    "        \n",
    "display(HTML('To toggle on/off the raw code, click <a href=\"javascript:code_toggle()\">here</a>.'))"
   ]
  },
  {
   "cell_type": "markdown",
   "metadata": {
    "slideshow": {
     "slide_type": "slide"
    }
   },
   "source": [
    "### Reflection on Linear Regression and Supervised Learning\n",
    "\n",
    "Think about:\n",
    "\n",
    "1. What effect does the learning rate have in the optimization? What's the effect of making it too small, what's the effect of making it too big? Do you get the same result for both stochastic and steepest gradient descent?\n",
    "\n",
    "2. The stochastic gradient descent doesn't help very much for such a small data set. It's real advantage comes when there are many, you'll see this in the lab.\n"
   ]
  },
  {
   "cell_type": "markdown",
   "metadata": {
    "slideshow": {
     "slide_type": "slide"
    }
   },
   "source": [
    "### Lab Class\n",
    "\n",
    "- You will take the ideas you have learnt.\n",
    "- You will apply them in the domain of *matrix factorisation*.\n",
    "- Matrix factorization presents a different error function."
   ]
  },
  {
   "cell_type": "markdown",
   "metadata": {
    "collapsed": true,
    "slideshow": {
     "slide_type": "slide"
    }
   },
   "source": [
    "### Reading"
   ]
  }
 ],
 "metadata": {
  "celltoolbar": "Slideshow",
  "kernelspec": {
   "display_name": "Python 3",
   "language": "python",
   "name": "python3"
  },
  "language_info": {
   "codemirror_mode": {
    "name": "ipython",
    "version": 3
   },
   "file_extension": ".py",
   "mimetype": "text/x-python",
   "name": "python",
   "nbconvert_exporter": "python",
   "pygments_lexer": "ipython3",
   "version": "3.4.3"
  }
 },
 "nbformat": 4,
 "nbformat_minor": 0
}
